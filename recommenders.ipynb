{
 "cells": [
  {
   "attachments": {},
   "cell_type": "markdown",
   "metadata": {},
   "source": [
    "# Constructing TensorFlow Recommenders Model"
   ]
  },
  {
   "cell_type": "code",
   "execution_count": 1,
   "metadata": {},
   "outputs": [
    {
     "name": "stderr",
     "output_type": "stream",
     "text": [
      "2023-06-13 20:07:50.028658: I tensorflow/core/platform/cpu_feature_guard.cc:182] This TensorFlow binary is optimized to use available CPU instructions in performance-critical operations.\n",
      "To enable the following instructions: AVX2 FMA, in other operations, rebuild TensorFlow with the appropriate compiler flags.\n"
     ]
    }
   ],
   "source": [
    "import tensorflow_recommenders as tfrs"
   ]
  },
  {
   "cell_type": "code",
   "execution_count": 2,
   "metadata": {},
   "outputs": [],
   "source": [
    "import pandas as pd\n",
    "import numpy as np"
   ]
  },
  {
   "cell_type": "code",
   "execution_count": 3,
   "metadata": {},
   "outputs": [],
   "source": [
    "import string"
   ]
  },
  {
   "cell_type": "code",
   "execution_count": 4,
   "metadata": {},
   "outputs": [],
   "source": [
    "fiverr_df = pd.read_csv('/Users/rsoedarnadi/Documents/GitHub/machine-learning/fiverr_data.csv', delimiter=',')"
   ]
  },
  {
   "cell_type": "code",
   "execution_count": 5,
   "metadata": {},
   "outputs": [
    {
     "data": {
      "text/html": [
       "<div>\n",
       "<style scoped>\n",
       "    .dataframe tbody tr th:only-of-type {\n",
       "        vertical-align: middle;\n",
       "    }\n",
       "\n",
       "    .dataframe tbody tr th {\n",
       "        vertical-align: top;\n",
       "    }\n",
       "\n",
       "    .dataframe thead th {\n",
       "        text-align: right;\n",
       "    }\n",
       "</style>\n",
       "<table border=\"1\" class=\"dataframe\">\n",
       "  <thead>\n",
       "    <tr style=\"text-align: right;\">\n",
       "      <th></th>\n",
       "      <th>illustrator_name</th>\n",
       "      <th>gig_rating</th>\n",
       "      <th>gig_price_from</th>\n",
       "      <th>gig_img_url</th>\n",
       "      <th>gig_url</th>\n",
       "      <th>gig_design_type</th>\n",
       "      <th>gig_design_style</th>\n",
       "      <th>client_origins</th>\n",
       "      <th>client_names</th>\n",
       "      <th>illustrator_origins</th>\n",
       "    </tr>\n",
       "  </thead>\n",
       "  <tbody>\n",
       "    <tr>\n",
       "      <th>0</th>\n",
       "      <td>nadia_younus</td>\n",
       "      <td>5.0</td>\n",
       "      <td>60</td>\n",
       "      <td>https://fiverr-res.cloudinary.com/t_gig_cards_...</td>\n",
       "      <td>https://www.fiverr.com/nadia_younus/do-minimal...</td>\n",
       "      <td>logos</td>\n",
       "      <td>minimalist</td>\n",
       "      <td>Canada</td>\n",
       "      <td>stoxventures</td>\n",
       "      <td>Pakistan</td>\n",
       "    </tr>\n",
       "    <tr>\n",
       "      <th>1</th>\n",
       "      <td>mariya_logo99</td>\n",
       "      <td>4.9</td>\n",
       "      <td>15</td>\n",
       "      <td>https://fiverr-res.cloudinary.com/t_gig_cards_...</td>\n",
       "      <td>https://www.fiverr.com/mariya_logo99/do-creati...</td>\n",
       "      <td>logos</td>\n",
       "      <td>minimalist</td>\n",
       "      <td>Italy</td>\n",
       "      <td>lifehossain</td>\n",
       "      <td>Bangladesh</td>\n",
       "    </tr>\n",
       "    <tr>\n",
       "      <th>2</th>\n",
       "      <td>mountdesign</td>\n",
       "      <td>4.9</td>\n",
       "      <td>10</td>\n",
       "      <td>https://fiverr-res.cloudinary.com/t_gig_cards_...</td>\n",
       "      <td>https://www.fiverr.com/mountdesign/design-3-pr...</td>\n",
       "      <td>logos</td>\n",
       "      <td>minimalist</td>\n",
       "      <td>United States</td>\n",
       "      <td>stormproofrooof</td>\n",
       "      <td>India</td>\n",
       "    </tr>\n",
       "    <tr>\n",
       "      <th>3</th>\n",
       "      <td>ahmed_gfx786</td>\n",
       "      <td>4.9</td>\n",
       "      <td>5</td>\n",
       "      <td>https://fiverr-res.cloudinary.com/t_gig_cards_...</td>\n",
       "      <td>https://www.fiverr.com/ahmed_gfx786/design-a-u...</td>\n",
       "      <td>logos</td>\n",
       "      <td>minimalist</td>\n",
       "      <td>France</td>\n",
       "      <td>remi_bgd</td>\n",
       "      <td>Pakistan</td>\n",
       "    </tr>\n",
       "    <tr>\n",
       "      <th>4</th>\n",
       "      <td>websutra</td>\n",
       "      <td>4.9</td>\n",
       "      <td>400</td>\n",
       "      <td>https://fiverr-res.cloudinary.com/t_gig_cards_...</td>\n",
       "      <td>https://www.fiverr.com/websutra/draw-an-unique...</td>\n",
       "      <td>logos</td>\n",
       "      <td>minimalist</td>\n",
       "      <td>United States</td>\n",
       "      <td>tribolumen</td>\n",
       "      <td>Sri Lanka</td>\n",
       "    </tr>\n",
       "    <tr>\n",
       "      <th>5</th>\n",
       "      <td>kiara43</td>\n",
       "      <td>4.9</td>\n",
       "      <td>5</td>\n",
       "      <td>https://fiverr-res.cloudinary.com/t_gig_cards_...</td>\n",
       "      <td>https://www.fiverr.com/kiara43/create-modern-m...</td>\n",
       "      <td>logos</td>\n",
       "      <td>minimalist</td>\n",
       "      <td>Germany</td>\n",
       "      <td>sustainifytoday</td>\n",
       "      <td>Sri Lanka</td>\n",
       "    </tr>\n",
       "  </tbody>\n",
       "</table>\n",
       "</div>"
      ],
      "text/plain": [
       "  illustrator_name  gig_rating  gig_price_from  \\\n",
       "0     nadia_younus         5.0              60   \n",
       "1    mariya_logo99         4.9              15   \n",
       "2      mountdesign         4.9              10   \n",
       "3     ahmed_gfx786         4.9               5   \n",
       "4         websutra         4.9             400   \n",
       "5          kiara43         4.9               5   \n",
       "\n",
       "                                         gig_img_url  \\\n",
       "0  https://fiverr-res.cloudinary.com/t_gig_cards_...   \n",
       "1  https://fiverr-res.cloudinary.com/t_gig_cards_...   \n",
       "2  https://fiverr-res.cloudinary.com/t_gig_cards_...   \n",
       "3  https://fiverr-res.cloudinary.com/t_gig_cards_...   \n",
       "4  https://fiverr-res.cloudinary.com/t_gig_cards_...   \n",
       "5  https://fiverr-res.cloudinary.com/t_gig_cards_...   \n",
       "\n",
       "                                             gig_url gig_design_type  \\\n",
       "0  https://www.fiverr.com/nadia_younus/do-minimal...           logos   \n",
       "1  https://www.fiverr.com/mariya_logo99/do-creati...           logos   \n",
       "2  https://www.fiverr.com/mountdesign/design-3-pr...           logos   \n",
       "3  https://www.fiverr.com/ahmed_gfx786/design-a-u...           logos   \n",
       "4  https://www.fiverr.com/websutra/draw-an-unique...           logos   \n",
       "5  https://www.fiverr.com/kiara43/create-modern-m...           logos   \n",
       "\n",
       "  gig_design_style client_origins     client_names illustrator_origins  \n",
       "0       minimalist         Canada     stoxventures            Pakistan  \n",
       "1       minimalist          Italy      lifehossain          Bangladesh  \n",
       "2       minimalist  United States  stormproofrooof               India  \n",
       "3       minimalist         France         remi_bgd            Pakistan  \n",
       "4       minimalist  United States       tribolumen           Sri Lanka  \n",
       "5       minimalist        Germany  sustainifytoday           Sri Lanka  "
      ]
     },
     "execution_count": 5,
     "metadata": {},
     "output_type": "execute_result"
    }
   ],
   "source": [
    "fiverr_df.head(6)"
   ]
  },
  {
   "cell_type": "code",
   "execution_count": 6,
   "metadata": {},
   "outputs": [],
   "source": [
    "fiverr_df = fiverr_df.dropna().drop_duplicates().reset_index(drop=True)"
   ]
  },
  {
   "cell_type": "code",
   "execution_count": 7,
   "metadata": {},
   "outputs": [],
   "source": [
    "from sklearn.preprocessing import MinMaxScaler"
   ]
  },
  {
   "cell_type": "code",
   "execution_count": 8,
   "metadata": {},
   "outputs": [],
   "source": [
    "price = fiverr_df[['gig_price_from']]"
   ]
  },
  {
   "cell_type": "code",
   "execution_count": 9,
   "metadata": {},
   "outputs": [],
   "source": [
    "scaler = MinMaxScaler()"
   ]
  },
  {
   "cell_type": "code",
   "execution_count": 10,
   "metadata": {},
   "outputs": [],
   "source": [
    "price=scaler.fit_transform(price)"
   ]
  },
  {
   "cell_type": "code",
   "execution_count": 11,
   "metadata": {},
   "outputs": [],
   "source": [
    "fiverr_df['gig_price_from']=price"
   ]
  },
  {
   "cell_type": "code",
   "execution_count": 12,
   "metadata": {},
   "outputs": [],
   "source": [
    "fiverr_df['gig_rating']=np.asarray(fiverr_df['gig_rating'],dtype=np.float64) / 5"
   ]
  },
  {
   "cell_type": "code",
   "execution_count": 13,
   "metadata": {},
   "outputs": [],
   "source": [
    "cos_sim_df = fiverr_df[['gig_img_url','gig_price_from','gig_design_type','gig_design_style', 'illustrator_origins']]"
   ]
  },
  {
   "cell_type": "code",
   "execution_count": 14,
   "metadata": {},
   "outputs": [],
   "source": [
    "def remove_punc(text):\n",
    "    cleaned = text.translate(str.maketrans('','', string.punctuation)).lower()\n",
    "    return cleaned"
   ]
  },
  {
   "cell_type": "code",
   "execution_count": 15,
   "metadata": {},
   "outputs": [
    {
     "name": "stderr",
     "output_type": "stream",
     "text": [
      "/var/folders/ht/1vg09v7x16x7sbqnmzfvc4600000gn/T/ipykernel_6974/2612384505.py:1: SettingWithCopyWarning: \n",
      "A value is trying to be set on a copy of a slice from a DataFrame.\n",
      "Try using .loc[row_indexer,col_indexer] = value instead\n",
      "\n",
      "See the caveats in the documentation: https://pandas.pydata.org/pandas-docs/stable/user_guide/indexing.html#returning-a-view-versus-a-copy\n",
      "  cos_sim_df['illustrator_origins']=cos_sim_df['illustrator_origins'].apply(remove_punc)\n"
     ]
    }
   ],
   "source": [
    "cos_sim_df['illustrator_origins']=cos_sim_df['illustrator_origins'].apply(remove_punc)"
   ]
  },
  {
   "cell_type": "code",
   "execution_count": 16,
   "metadata": {},
   "outputs": [
    {
     "name": "stderr",
     "output_type": "stream",
     "text": [
      "/var/folders/ht/1vg09v7x16x7sbqnmzfvc4600000gn/T/ipykernel_6974/2216811935.py:1: SettingWithCopyWarning: \n",
      "A value is trying to be set on a copy of a slice from a DataFrame.\n",
      "Try using .loc[row_indexer,col_indexer] = value instead\n",
      "\n",
      "See the caveats in the documentation: https://pandas.pydata.org/pandas-docs/stable/user_guide/indexing.html#returning-a-view-versus-a-copy\n",
      "  cos_sim_df['joined_feat'] = ''\n",
      "/var/folders/ht/1vg09v7x16x7sbqnmzfvc4600000gn/T/ipykernel_6974/2216811935.py:2: SettingWithCopyWarning: \n",
      "A value is trying to be set on a copy of a slice from a DataFrame.\n",
      "Try using .loc[row_indexer,col_indexer] = value instead\n",
      "\n",
      "See the caveats in the documentation: https://pandas.pydata.org/pandas-docs/stable/user_guide/indexing.html#returning-a-view-versus-a-copy\n",
      "  cos_sim_df['joined_feat'] = cos_sim_df[cos_sim_df.columns[2:]].apply(lambda x: ' '.join(x), axis=1)\n"
     ]
    }
   ],
   "source": [
    "cos_sim_df['joined_feat'] = ''\n",
    "cos_sim_df['joined_feat'] = cos_sim_df[cos_sim_df.columns[2:]].apply(lambda x: ' '.join(x), axis=1)"
   ]
  },
  {
   "cell_type": "code",
   "execution_count": 17,
   "metadata": {},
   "outputs": [],
   "source": [
    "cos_sim_df.set_index('gig_img_url', inplace=True)"
   ]
  },
  {
   "cell_type": "code",
   "execution_count": 18,
   "metadata": {},
   "outputs": [],
   "source": [
    "cos_sim_df=cos_sim_df[['gig_price_from', 'joined_feat']]"
   ]
  },
  {
   "cell_type": "code",
   "execution_count": 19,
   "metadata": {},
   "outputs": [
    {
     "data": {
      "text/html": [
       "<div>\n",
       "<style scoped>\n",
       "    .dataframe tbody tr th:only-of-type {\n",
       "        vertical-align: middle;\n",
       "    }\n",
       "\n",
       "    .dataframe tbody tr th {\n",
       "        vertical-align: top;\n",
       "    }\n",
       "\n",
       "    .dataframe thead th {\n",
       "        text-align: right;\n",
       "    }\n",
       "</style>\n",
       "<table border=\"1\" class=\"dataframe\">\n",
       "  <thead>\n",
       "    <tr style=\"text-align: right;\">\n",
       "      <th></th>\n",
       "      <th>gig_price_from</th>\n",
       "      <th>joined_feat</th>\n",
       "    </tr>\n",
       "    <tr>\n",
       "      <th>gig_img_url</th>\n",
       "      <th></th>\n",
       "      <th></th>\n",
       "    </tr>\n",
       "  </thead>\n",
       "  <tbody>\n",
       "    <tr>\n",
       "      <th>https://fiverr-res.cloudinary.com/t_gig_cards_web,q_auto,f_auto/gigs/192437271/original/3fb8af5466dc09f13e2afaccf22c6708f0a8976e.jpg</th>\n",
       "      <td>0.018425</td>\n",
       "      <td>logos minimalist pakistan</td>\n",
       "    </tr>\n",
       "    <tr>\n",
       "      <th>https://fiverr-res.cloudinary.com/t_gig_cards_web,q_auto,f_auto/gigs/292635463/original/e6d48abe79bee1a9cdc2c71e83c88513440fc393.jpg</th>\n",
       "      <td>0.003350</td>\n",
       "      <td>logos minimalist bangladesh</td>\n",
       "    </tr>\n",
       "    <tr>\n",
       "      <th>https://fiverr-res.cloudinary.com/t_gig_cards_web,q_auto,f_auto/gigs/109611151/original/42d4814c676b9f4320152d541bb6c8be7cd83d39.jpg</th>\n",
       "      <td>0.001675</td>\n",
       "      <td>logos minimalist india</td>\n",
       "    </tr>\n",
       "    <tr>\n",
       "      <th>https://fiverr-res.cloudinary.com/t_gig_cards_web,q_auto,f_auto/gigs/132488260/original/955d6d66789bd57075f25da7de2b3a4233b2e26a.jpg</th>\n",
       "      <td>0.000000</td>\n",
       "      <td>logos minimalist pakistan</td>\n",
       "    </tr>\n",
       "    <tr>\n",
       "      <th>https://fiverr-res.cloudinary.com/t_gig_cards_web,q_auto,f_auto/gigs/122531603/original/eccdc57ef960b6cc51853d37a1ff9034af618deb.jpg</th>\n",
       "      <td>0.132328</td>\n",
       "      <td>logos minimalist sri lanka</td>\n",
       "    </tr>\n",
       "  </tbody>\n",
       "</table>\n",
       "</div>"
      ],
      "text/plain": [
       "                                                    gig_price_from  \\\n",
       "gig_img_url                                                          \n",
       "https://fiverr-res.cloudinary.com/t_gig_cards_w...        0.018425   \n",
       "https://fiverr-res.cloudinary.com/t_gig_cards_w...        0.003350   \n",
       "https://fiverr-res.cloudinary.com/t_gig_cards_w...        0.001675   \n",
       "https://fiverr-res.cloudinary.com/t_gig_cards_w...        0.000000   \n",
       "https://fiverr-res.cloudinary.com/t_gig_cards_w...        0.132328   \n",
       "\n",
       "                                                                     joined_feat  \n",
       "gig_img_url                                                                       \n",
       "https://fiverr-res.cloudinary.com/t_gig_cards_w...    logos minimalist pakistan   \n",
       "https://fiverr-res.cloudinary.com/t_gig_cards_w...  logos minimalist bangladesh   \n",
       "https://fiverr-res.cloudinary.com/t_gig_cards_w...       logos minimalist india   \n",
       "https://fiverr-res.cloudinary.com/t_gig_cards_w...    logos minimalist pakistan   \n",
       "https://fiverr-res.cloudinary.com/t_gig_cards_w...   logos minimalist sri lanka   "
      ]
     },
     "execution_count": 19,
     "metadata": {},
     "output_type": "execute_result"
    }
   ],
   "source": [
    "cos_sim_df.head()"
   ]
  },
  {
   "cell_type": "code",
   "execution_count": 20,
   "metadata": {},
   "outputs": [],
   "source": [
    "from sklearn.feature_extraction.text import TfidfVectorizer"
   ]
  },
  {
   "cell_type": "code",
   "execution_count": 21,
   "metadata": {},
   "outputs": [
    {
     "data": {
      "text/plain": [
       "(1686, 132)"
      ]
     },
     "execution_count": 21,
     "metadata": {},
     "output_type": "execute_result"
    }
   ],
   "source": [
    "tfidf = TfidfVectorizer()\n",
    "tfidf_matrix = tfidf.fit_transform(cos_sim_df['joined_feat'])\n",
    "tfidf_matrix.shape"
   ]
  },
  {
   "cell_type": "code",
   "execution_count": 22,
   "metadata": {},
   "outputs": [],
   "source": [
    "helpp = tfidf_matrix.toarray()"
   ]
  },
  {
   "cell_type": "code",
   "execution_count": 23,
   "metadata": {},
   "outputs": [
    {
     "data": {
      "text/plain": [
       "(1686, 132)"
      ]
     },
     "execution_count": 23,
     "metadata": {},
     "output_type": "execute_result"
    }
   ],
   "source": [
    "helpp.shape"
   ]
  },
  {
   "cell_type": "code",
   "execution_count": 24,
   "metadata": {},
   "outputs": [],
   "source": [
    "helppp = np.hstack((cos_sim_df[['gig_price_from']], helpp))"
   ]
  },
  {
   "cell_type": "code",
   "execution_count": 25,
   "metadata": {},
   "outputs": [
    {
     "data": {
      "text/plain": [
       "(1686, 133)"
      ]
     },
     "execution_count": 25,
     "metadata": {},
     "output_type": "execute_result"
    }
   ],
   "source": [
    "helppp.shape"
   ]
  },
  {
   "cell_type": "code",
   "execution_count": 26,
   "metadata": {},
   "outputs": [],
   "source": [
    "from sklearn.metrics.pairwise import cosine_similarity"
   ]
  },
  {
   "cell_type": "code",
   "execution_count": 27,
   "metadata": {},
   "outputs": [],
   "source": [
    "cos_sim = cosine_similarity(helppp)"
   ]
  },
  {
   "cell_type": "code",
   "execution_count": 28,
   "metadata": {},
   "outputs": [
    {
     "data": {
      "text/plain": [
       "(1686, 1686)"
      ]
     },
     "execution_count": 28,
     "metadata": {},
     "output_type": "execute_result"
    }
   ],
   "source": [
    "cos_sim.shape"
   ]
  },
  {
   "cell_type": "code",
   "execution_count": 29,
   "metadata": {},
   "outputs": [],
   "source": [
    "def predict(gig_img_url_, top_n=11):\n",
    "    data = cos_sim_df.reset_index()\n",
    "    final_df = pd.concat([fiverr_df['gig_rating'], data], axis=1)\n",
    "    gig_index = data[data['gig_img_url'] == gig_img_url_].index\n",
    "    similarity = cos_sim[gig_index[0]].T\n",
    "    \n",
    "    sim_df = pd.DataFrame(similarity, columns=['similarity'])\n",
    "    final_df = pd.concat([final_df, sim_df], axis=1)\n",
    "    # You can also play around with the number\n",
    "    final_df['gig_rating'] = final_df['gig_rating'][gig_index[0]] * final_df['similarity']\n",
    "    final_df=final_df.drop(gig_index[0])\n",
    "    final_df_sorted = final_df.sort_values(by='gig_rating', ascending=False).head(top_n)\n",
    "    final_df_sorted['client_names'] = fiverr_df['client_names'][gig_index[0]]\n",
    "    final_df_sorted = final_df_sorted[['gig_img_url', 'client_names', 'gig_rating']]\n",
    "    \n",
    "    return final_df_sorted"
   ]
  },
  {
   "cell_type": "code",
   "execution_count": 30,
   "metadata": {},
   "outputs": [],
   "source": [
    "for_test_df=predict(fiverr_df['gig_img_url'][100])"
   ]
  },
  {
   "cell_type": "code",
   "execution_count": 31,
   "metadata": {},
   "outputs": [],
   "source": [
    "for_model_df=fiverr_df[['gig_img_url', 'client_names', 'gig_rating']]"
   ]
  },
  {
   "cell_type": "code",
   "execution_count": 32,
   "metadata": {},
   "outputs": [
    {
     "data": {
      "text/plain": [
       "(1686, 10)"
      ]
     },
     "execution_count": 32,
     "metadata": {},
     "output_type": "execute_result"
    }
   ],
   "source": [
    "fiverr_df.shape"
   ]
  },
  {
   "cell_type": "code",
   "execution_count": 33,
   "metadata": {},
   "outputs": [
    {
     "name": "stdout",
     "output_type": "stream",
     "text": [
      "success 0\n",
      "success 1\n",
      "success 2\n",
      "success 3\n",
      "success 4\n",
      "success 5\n",
      "success 6\n",
      "success 7\n",
      "success 8\n",
      "success 9\n",
      "success 10\n",
      "success 11\n",
      "success 12\n",
      "success 13\n",
      "success 14\n",
      "success 15\n",
      "success 16\n",
      "success 17\n",
      "success 18\n",
      "success 19\n",
      "success 20\n",
      "success 21\n",
      "success 22\n",
      "success 23\n",
      "success 24\n",
      "success 25\n",
      "success 26\n",
      "success 27\n",
      "success 28\n",
      "success 29\n",
      "success 30\n",
      "success 31\n",
      "success 32\n",
      "success 33\n",
      "success 34\n",
      "success 35\n",
      "success 36\n",
      "success 37\n",
      "success 38\n",
      "success 39\n",
      "success 40\n",
      "success 41\n",
      "success 42\n",
      "success 43\n",
      "success 44\n",
      "success 45\n",
      "success 46\n",
      "success 47\n",
      "success 48\n",
      "success 49\n",
      "success 50\n",
      "success 51\n",
      "success 52\n",
      "success 53\n",
      "success 54\n",
      "success 55\n",
      "success 56\n",
      "success 57\n",
      "success 58\n",
      "success 59\n",
      "success 60\n",
      "success 61\n",
      "success 62\n",
      "success 63\n",
      "success 64\n",
      "success 65\n",
      "success 66\n",
      "success 67\n",
      "success 68\n",
      "success 69\n",
      "success 70\n",
      "success 71\n",
      "success 72\n",
      "success 73\n",
      "success 74\n",
      "success 75\n",
      "success 76\n",
      "success 77\n",
      "success 78\n",
      "success 79\n",
      "success 80\n",
      "success 81\n",
      "success 82\n",
      "success 83\n",
      "success 84\n",
      "success 85\n",
      "success 86\n",
      "success 87\n",
      "success 88\n",
      "success 89\n",
      "success 90\n",
      "success 91\n",
      "success 92\n",
      "success 93\n",
      "success 94\n",
      "success 95\n",
      "success 96\n",
      "success 97\n",
      "success 98\n",
      "success 99\n",
      "success 100\n",
      "success 101\n",
      "success 102\n",
      "success 103\n",
      "success 104\n",
      "success 105\n",
      "success 106\n",
      "success 107\n",
      "success 108\n",
      "success 109\n",
      "success 110\n",
      "success 111\n",
      "success 112\n",
      "success 113\n",
      "success 114\n",
      "success 115\n",
      "success 116\n",
      "success 117\n",
      "success 118\n",
      "success 119\n",
      "success 120\n",
      "success 121\n",
      "success 122\n",
      "success 123\n",
      "success 124\n",
      "success 125\n",
      "success 126\n",
      "success 127\n",
      "success 128\n",
      "success 129\n",
      "success 130\n",
      "success 131\n",
      "success 132\n",
      "success 133\n",
      "success 134\n",
      "success 135\n",
      "success 136\n",
      "success 137\n",
      "success 138\n",
      "success 139\n",
      "success 140\n",
      "success 141\n",
      "success 142\n",
      "success 143\n",
      "success 144\n",
      "success 145\n",
      "success 146\n",
      "success 147\n",
      "success 148\n",
      "success 149\n",
      "success 150\n",
      "success 151\n",
      "success 152\n",
      "success 153\n",
      "success 154\n",
      "success 155\n",
      "success 156\n",
      "success 157\n",
      "success 158\n",
      "success 159\n",
      "success 160\n",
      "success 161\n",
      "success 162\n",
      "success 163\n",
      "success 164\n",
      "success 165\n",
      "success 166\n",
      "success 167\n",
      "success 168\n",
      "success 169\n",
      "success 170\n",
      "success 171\n",
      "success 172\n",
      "success 173\n",
      "success 174\n",
      "success 175\n",
      "success 176\n",
      "success 177\n",
      "success 178\n",
      "success 179\n",
      "success 180\n",
      "success 181\n",
      "success 182\n",
      "success 183\n",
      "success 184\n",
      "success 185\n",
      "success 186\n",
      "success 187\n",
      "success 188\n",
      "success 189\n",
      "success 190\n",
      "success 191\n",
      "success 192\n",
      "success 193\n",
      "success 194\n",
      "success 195\n",
      "success 196\n",
      "success 197\n",
      "success 198\n",
      "success 199\n",
      "success 200\n",
      "success 201\n",
      "success 202\n",
      "success 203\n",
      "success 204\n",
      "success 205\n",
      "success 206\n",
      "success 207\n",
      "success 208\n",
      "success 209\n",
      "success 210\n",
      "success 211\n",
      "success 212\n",
      "success 213\n",
      "success 214\n",
      "success 215\n",
      "success 216\n",
      "success 217\n",
      "success 218\n",
      "success 219\n",
      "success 220\n",
      "success 221\n",
      "success 222\n",
      "success 223\n",
      "success 224\n",
      "success 225\n",
      "success 226\n",
      "success 227\n",
      "success 228\n",
      "success 229\n",
      "success 230\n",
      "success 231\n",
      "success 232\n",
      "success 233\n",
      "success 234\n",
      "success 235\n",
      "success 236\n",
      "success 237\n",
      "success 238\n",
      "success 239\n",
      "success 240\n",
      "success 241\n",
      "success 242\n",
      "success 243\n",
      "success 244\n",
      "success 245\n",
      "success 246\n",
      "success 247\n",
      "success 248\n",
      "success 249\n",
      "success 250\n",
      "success 251\n",
      "success 252\n",
      "success 253\n",
      "success 254\n",
      "success 255\n",
      "success 256\n",
      "success 257\n",
      "success 258\n",
      "success 259\n",
      "success 260\n",
      "success 261\n",
      "success 262\n",
      "success 263\n",
      "success 264\n",
      "success 265\n",
      "success 266\n",
      "success 267\n",
      "success 268\n",
      "success 269\n",
      "success 270\n",
      "success 271\n",
      "success 272\n",
      "success 273\n",
      "success 274\n",
      "success 275\n",
      "success 276\n",
      "success 277\n",
      "success 278\n",
      "success 279\n",
      "success 280\n",
      "success 281\n",
      "success 282\n",
      "success 283\n",
      "success 284\n",
      "success 285\n",
      "success 286\n",
      "success 287\n",
      "success 288\n",
      "success 289\n",
      "success 290\n",
      "success 291\n",
      "success 292\n",
      "success 293\n",
      "success 294\n",
      "success 295\n",
      "success 296\n",
      "success 297\n",
      "success 298\n",
      "success 299\n",
      "success 300\n",
      "success 301\n",
      "success 302\n",
      "success 303\n",
      "success 304\n",
      "success 305\n",
      "success 306\n",
      "success 307\n",
      "success 308\n",
      "success 309\n",
      "success 310\n",
      "success 311\n",
      "success 312\n",
      "success 313\n",
      "success 314\n",
      "success 315\n",
      "success 316\n",
      "success 317\n",
      "success 318\n",
      "success 319\n",
      "success 320\n",
      "success 321\n",
      "success 322\n",
      "success 323\n",
      "success 324\n",
      "success 325\n",
      "success 326\n",
      "success 327\n",
      "success 328\n",
      "success 329\n",
      "success 330\n",
      "success 331\n",
      "success 332\n",
      "success 333\n",
      "success 334\n",
      "success 335\n",
      "success 336\n",
      "success 337\n",
      "success 338\n",
      "success 339\n",
      "success 340\n",
      "success 341\n",
      "success 342\n",
      "success 343\n",
      "success 344\n",
      "success 345\n",
      "success 346\n",
      "success 347\n",
      "success 348\n",
      "success 349\n",
      "success 350\n",
      "success 351\n",
      "success 352\n",
      "success 353\n",
      "success 354\n",
      "success 355\n",
      "success 356\n",
      "success 357\n",
      "success 358\n",
      "success 359\n",
      "success 360\n",
      "success 361\n",
      "success 362\n",
      "success 363\n",
      "success 364\n",
      "success 365\n",
      "success 366\n",
      "success 367\n",
      "success 368\n",
      "success 369\n",
      "success 370\n",
      "success 371\n",
      "success 372\n",
      "success 373\n",
      "success 374\n",
      "success 375\n",
      "success 376\n",
      "success 377\n",
      "success 378\n",
      "success 379\n",
      "success 380\n",
      "success 381\n",
      "success 382\n",
      "success 383\n",
      "success 384\n",
      "success 385\n",
      "success 386\n",
      "success 387\n",
      "success 388\n",
      "success 389\n",
      "success 390\n",
      "success 391\n",
      "success 392\n",
      "success 393\n",
      "success 394\n",
      "success 395\n",
      "success 396\n",
      "success 397\n",
      "success 398\n",
      "success 399\n",
      "success 400\n",
      "success 401\n",
      "success 402\n",
      "success 403\n",
      "success 404\n",
      "success 405\n",
      "success 406\n",
      "success 407\n",
      "success 408\n",
      "success 409\n",
      "success 410\n",
      "success 411\n",
      "success 412\n",
      "success 413\n",
      "success 414\n",
      "success 415\n",
      "success 416\n",
      "success 417\n",
      "success 418\n",
      "success 419\n",
      "success 420\n",
      "success 421\n",
      "success 422\n",
      "success 423\n",
      "success 424\n",
      "success 425\n",
      "success 426\n",
      "success 427\n",
      "success 428\n",
      "success 429\n",
      "success 430\n",
      "success 431\n",
      "success 432\n",
      "success 433\n",
      "success 434\n",
      "success 435\n",
      "success 436\n",
      "success 437\n",
      "success 438\n",
      "success 439\n",
      "success 440\n",
      "success 441\n",
      "success 442\n",
      "success 443\n",
      "success 444\n",
      "success 445\n",
      "success 446\n",
      "success 447\n",
      "success 448\n",
      "success 449\n",
      "success 450\n",
      "success 451\n",
      "success 452\n",
      "success 453\n",
      "success 454\n",
      "success 455\n",
      "success 456\n",
      "success 457\n",
      "success 458\n",
      "success 459\n",
      "success 460\n",
      "success 461\n",
      "success 462\n",
      "success 463\n",
      "success 464\n",
      "success 465\n",
      "success 466\n",
      "success 467\n",
      "success 468\n",
      "success 469\n",
      "success 470\n",
      "success 471\n",
      "success 472\n",
      "success 473\n",
      "success 474\n",
      "success 475\n",
      "success 476\n",
      "success 477\n",
      "success 478\n",
      "success 479\n",
      "success 480\n",
      "success 481\n",
      "success 482\n",
      "success 483\n",
      "success 484\n",
      "success 485\n",
      "success 486\n",
      "success 487\n",
      "success 488\n",
      "success 489\n",
      "success 490\n",
      "success 491\n",
      "success 492\n",
      "success 493\n",
      "success 494\n",
      "success 495\n",
      "success 496\n",
      "success 497\n",
      "success 498\n",
      "success 499\n",
      "success 500\n",
      "success 501\n",
      "success 502\n",
      "success 503\n",
      "success 504\n",
      "success 505\n",
      "success 506\n",
      "success 507\n",
      "success 508\n",
      "success 509\n",
      "success 510\n",
      "success 511\n",
      "success 512\n",
      "success 513\n",
      "success 514\n",
      "success 515\n",
      "success 516\n",
      "success 517\n",
      "success 518\n",
      "success 519\n",
      "success 520\n",
      "success 521\n",
      "success 522\n",
      "success 523\n",
      "success 524\n",
      "success 525\n",
      "success 526\n",
      "success 527\n",
      "success 528\n",
      "success 529\n",
      "success 530\n",
      "success 531\n",
      "success 532\n",
      "success 533\n",
      "success 534\n",
      "success 535\n",
      "success 536\n",
      "success 537\n",
      "success 538\n",
      "success 539\n",
      "success 540\n",
      "success 541\n",
      "success 542\n",
      "success 543\n",
      "success 544\n",
      "success 545\n",
      "success 546\n",
      "success 547\n",
      "success 548\n",
      "success 549\n",
      "success 550\n",
      "success 551\n",
      "success 552\n",
      "success 553\n",
      "success 554\n",
      "success 555\n",
      "success 556\n",
      "success 557\n",
      "success 558\n",
      "success 559\n",
      "success 560\n",
      "success 561\n",
      "success 562\n",
      "success 563\n",
      "success 564\n",
      "success 565\n",
      "success 566\n",
      "success 567\n",
      "success 568\n",
      "success 569\n",
      "success 570\n",
      "success 571\n",
      "success 572\n",
      "success 573\n",
      "success 574\n",
      "success 575\n",
      "success 576\n",
      "success 577\n",
      "success 578\n",
      "success 579\n",
      "success 580\n",
      "success 581\n",
      "success 582\n",
      "success 583\n",
      "success 584\n",
      "success 585\n",
      "success 586\n",
      "success 587\n",
      "success 588\n",
      "success 589\n",
      "success 590\n",
      "success 591\n",
      "success 592\n",
      "success 593\n",
      "success 594\n",
      "success 595\n",
      "success 596\n",
      "success 597\n",
      "success 598\n",
      "success 599\n",
      "success 600\n",
      "success 601\n",
      "success 602\n",
      "success 603\n",
      "success 604\n",
      "success 605\n",
      "success 606\n",
      "success 607\n",
      "success 608\n",
      "success 609\n",
      "success 610\n",
      "success 611\n",
      "success 612\n",
      "success 613\n",
      "success 614\n",
      "success 615\n",
      "success 616\n",
      "success 617\n",
      "success 618\n",
      "success 619\n",
      "success 620\n",
      "success 621\n",
      "success 622\n",
      "success 623\n",
      "success 624\n",
      "success 625\n",
      "success 626\n",
      "success 627\n",
      "success 628\n",
      "success 629\n",
      "success 630\n",
      "success 631\n",
      "success 632\n",
      "success 633\n",
      "success 634\n",
      "success 635\n",
      "success 636\n",
      "success 637\n",
      "success 638\n",
      "success 639\n",
      "success 640\n",
      "success 641\n",
      "success 642\n",
      "success 643\n",
      "success 644\n",
      "success 645\n",
      "success 646\n",
      "success 647\n",
      "success 648\n",
      "success 649\n",
      "success 650\n",
      "success 651\n",
      "success 652\n",
      "success 653\n",
      "success 654\n",
      "success 655\n",
      "success 656\n",
      "success 657\n",
      "success 658\n",
      "success 659\n",
      "success 660\n",
      "success 661\n",
      "success 662\n",
      "success 663\n",
      "success 664\n",
      "success 665\n",
      "success 666\n",
      "success 667\n",
      "success 668\n",
      "success 669\n",
      "success 670\n",
      "success 671\n",
      "success 672\n",
      "success 673\n",
      "success 674\n",
      "success 675\n",
      "success 676\n",
      "success 677\n",
      "success 678\n",
      "success 679\n",
      "success 680\n",
      "success 681\n",
      "success 682\n",
      "success 683\n",
      "success 684\n",
      "success 685\n",
      "success 686\n",
      "success 687\n",
      "success 688\n",
      "success 689\n",
      "success 690\n",
      "success 691\n",
      "success 692\n",
      "success 693\n",
      "success 694\n",
      "success 695\n",
      "success 696\n",
      "success 697\n",
      "success 698\n",
      "success 699\n",
      "success 700\n",
      "success 701\n",
      "success 702\n",
      "success 703\n",
      "success 704\n",
      "success 705\n",
      "success 706\n",
      "success 707\n",
      "success 708\n",
      "success 709\n",
      "success 710\n",
      "success 711\n",
      "success 712\n",
      "success 713\n",
      "success 714\n",
      "success 715\n",
      "success 716\n",
      "success 717\n",
      "success 718\n",
      "success 719\n",
      "success 720\n",
      "success 721\n",
      "success 722\n",
      "success 723\n",
      "success 724\n",
      "success 725\n",
      "success 726\n",
      "success 727\n",
      "success 728\n",
      "success 729\n",
      "success 730\n",
      "success 731\n",
      "success 732\n",
      "success 733\n",
      "success 734\n",
      "success 735\n",
      "success 736\n",
      "success 737\n",
      "success 738\n",
      "success 739\n",
      "success 740\n",
      "success 741\n",
      "success 742\n",
      "success 743\n",
      "success 744\n",
      "success 745\n",
      "success 746\n",
      "success 747\n",
      "success 748\n",
      "success 749\n",
      "success 750\n",
      "success 751\n",
      "success 752\n",
      "success 753\n",
      "success 754\n",
      "success 755\n",
      "success 756\n",
      "success 757\n",
      "success 758\n",
      "success 759\n",
      "success 760\n",
      "success 761\n",
      "success 762\n",
      "success 763\n",
      "success 764\n",
      "success 765\n",
      "success 766\n",
      "success 767\n",
      "success 768\n",
      "success 769\n",
      "success 770\n",
      "success 771\n",
      "success 772\n",
      "success 773\n",
      "success 774\n",
      "success 775\n",
      "success 776\n",
      "success 777\n",
      "success 778\n",
      "success 779\n",
      "success 780\n",
      "success 781\n",
      "success 782\n",
      "success 783\n",
      "success 784\n",
      "success 785\n",
      "success 786\n",
      "success 787\n",
      "success 788\n",
      "success 789\n",
      "success 790\n",
      "success 791\n",
      "success 792\n",
      "success 793\n",
      "success 794\n",
      "success 795\n",
      "success 796\n",
      "success 797\n",
      "success 798\n",
      "success 799\n",
      "success 800\n",
      "success 801\n",
      "success 802\n",
      "success 803\n",
      "success 804\n",
      "success 805\n",
      "success 806\n",
      "success 807\n",
      "success 808\n",
      "success 809\n",
      "success 810\n",
      "success 811\n",
      "success 812\n",
      "success 813\n",
      "success 814\n",
      "success 815\n",
      "success 816\n",
      "success 817\n",
      "success 818\n",
      "success 819\n",
      "success 820\n",
      "success 821\n",
      "success 822\n",
      "success 823\n",
      "success 824\n",
      "success 825\n",
      "success 826\n",
      "success 827\n",
      "success 828\n",
      "success 829\n",
      "success 830\n",
      "success 831\n",
      "success 832\n",
      "success 833\n",
      "success 834\n",
      "success 835\n",
      "success 836\n",
      "success 837\n",
      "success 838\n",
      "success 839\n",
      "success 840\n",
      "success 841\n",
      "success 842\n",
      "success 843\n",
      "success 844\n",
      "success 845\n",
      "success 846\n",
      "success 847\n",
      "success 848\n",
      "success 849\n",
      "success 850\n",
      "success 851\n",
      "success 852\n",
      "success 853\n",
      "success 854\n",
      "success 855\n",
      "success 856\n",
      "success 857\n",
      "success 858\n",
      "success 859\n",
      "success 860\n",
      "success 861\n",
      "success 862\n",
      "success 863\n",
      "success 864\n",
      "success 865\n",
      "success 866\n",
      "success 867\n",
      "success 868\n",
      "success 869\n",
      "success 870\n",
      "success 871\n",
      "success 872\n",
      "success 873\n",
      "success 874\n",
      "success 875\n",
      "success 876\n",
      "success 877\n",
      "success 878\n",
      "success 879\n",
      "success 880\n",
      "success 881\n",
      "success 882\n",
      "success 883\n",
      "success 884\n",
      "success 885\n",
      "success 886\n",
      "success 887\n",
      "success 888\n",
      "success 889\n",
      "success 890\n",
      "success 891\n",
      "success 892\n",
      "success 893\n",
      "success 894\n",
      "success 895\n",
      "success 896\n",
      "success 897\n",
      "success 898\n",
      "success 899\n",
      "success 900\n",
      "success 901\n",
      "success 902\n",
      "success 903\n",
      "success 904\n",
      "success 905\n",
      "success 906\n",
      "success 907\n",
      "success 908\n",
      "success 909\n",
      "success 910\n",
      "success 911\n",
      "success 912\n",
      "success 913\n",
      "success 914\n",
      "success 915\n",
      "success 916\n",
      "success 917\n",
      "success 918\n",
      "success 919\n",
      "success 920\n",
      "success 921\n",
      "success 922\n",
      "success 923\n",
      "success 924\n",
      "success 925\n",
      "success 926\n",
      "success 927\n",
      "success 928\n",
      "success 929\n",
      "success 930\n",
      "success 931\n",
      "success 932\n",
      "success 933\n",
      "success 934\n",
      "success 935\n",
      "success 936\n",
      "success 937\n",
      "success 938\n",
      "success 939\n",
      "success 940\n",
      "success 941\n",
      "success 942\n",
      "success 943\n",
      "success 944\n",
      "success 945\n",
      "success 946\n",
      "success 947\n",
      "success 948\n",
      "success 949\n",
      "success 950\n",
      "success 951\n",
      "success 952\n",
      "success 953\n",
      "success 954\n",
      "success 955\n",
      "success 956\n",
      "success 957\n",
      "success 958\n",
      "success 959\n",
      "success 960\n",
      "success 961\n",
      "success 962\n",
      "success 963\n",
      "success 964\n",
      "success 965\n",
      "success 966\n",
      "success 967\n",
      "success 968\n",
      "success 969\n",
      "success 970\n",
      "success 971\n",
      "success 972\n",
      "success 973\n",
      "success 974\n",
      "success 975\n",
      "success 976\n",
      "success 977\n",
      "success 978\n",
      "success 979\n",
      "success 980\n",
      "success 981\n",
      "success 982\n",
      "success 983\n",
      "success 984\n",
      "success 985\n",
      "success 986\n",
      "success 987\n",
      "success 988\n",
      "success 989\n",
      "success 990\n",
      "success 991\n",
      "success 992\n",
      "success 993\n",
      "success 994\n",
      "success 995\n",
      "success 996\n",
      "success 997\n",
      "success 998\n",
      "success 999\n",
      "success 1000\n",
      "success 1001\n",
      "success 1002\n",
      "success 1003\n",
      "success 1004\n",
      "success 1005\n",
      "success 1006\n",
      "success 1007\n",
      "success 1008\n",
      "success 1009\n",
      "success 1010\n",
      "success 1011\n",
      "success 1012\n",
      "success 1013\n",
      "success 1014\n",
      "success 1015\n",
      "success 1016\n",
      "success 1017\n",
      "success 1018\n",
      "success 1019\n",
      "success 1020\n",
      "success 1021\n",
      "success 1022\n",
      "success 1023\n",
      "success 1024\n",
      "success 1025\n",
      "success 1026\n",
      "success 1027\n",
      "success 1028\n",
      "success 1029\n",
      "success 1030\n",
      "success 1031\n",
      "success 1032\n",
      "success 1033\n",
      "success 1034\n",
      "success 1035\n",
      "success 1036\n",
      "success 1037\n",
      "success 1038\n",
      "success 1039\n",
      "success 1040\n",
      "success 1041\n",
      "success 1042\n",
      "success 1043\n",
      "success 1044\n",
      "success 1045\n",
      "success 1046\n",
      "success 1047\n",
      "success 1048\n",
      "success 1049\n",
      "success 1050\n",
      "success 1051\n",
      "success 1052\n",
      "success 1053\n",
      "success 1054\n",
      "success 1055\n",
      "success 1056\n",
      "success 1057\n",
      "success 1058\n",
      "success 1059\n",
      "success 1060\n",
      "success 1061\n",
      "success 1062\n",
      "success 1063\n",
      "success 1064\n",
      "success 1065\n",
      "success 1066\n",
      "success 1067\n",
      "success 1068\n",
      "success 1069\n",
      "success 1070\n",
      "success 1071\n",
      "success 1072\n",
      "success 1073\n",
      "success 1074\n",
      "success 1075\n",
      "success 1076\n",
      "success 1077\n",
      "success 1078\n",
      "success 1079\n",
      "success 1080\n",
      "success 1081\n",
      "success 1082\n",
      "success 1083\n",
      "success 1084\n",
      "success 1085\n",
      "success 1086\n",
      "success 1087\n",
      "success 1088\n",
      "success 1089\n",
      "success 1090\n",
      "success 1091\n",
      "success 1092\n",
      "success 1093\n",
      "success 1094\n",
      "success 1095\n",
      "success 1096\n",
      "success 1097\n",
      "success 1098\n",
      "success 1099\n",
      "success 1100\n",
      "success 1101\n",
      "success 1102\n",
      "success 1103\n",
      "success 1104\n",
      "success 1105\n",
      "success 1106\n",
      "success 1107\n",
      "success 1108\n",
      "success 1109\n",
      "success 1110\n",
      "success 1111\n",
      "success 1112\n",
      "success 1113\n",
      "success 1114\n",
      "success 1115\n",
      "success 1116\n",
      "success 1117\n",
      "success 1118\n",
      "success 1119\n",
      "success 1120\n",
      "success 1121\n",
      "success 1122\n",
      "success 1123\n",
      "success 1124\n",
      "success 1125\n",
      "success 1126\n",
      "success 1127\n",
      "success 1128\n",
      "success 1129\n",
      "success 1130\n",
      "success 1131\n",
      "success 1132\n",
      "success 1133\n",
      "success 1134\n",
      "success 1135\n",
      "success 1136\n",
      "success 1137\n",
      "success 1138\n",
      "success 1139\n",
      "success 1140\n",
      "success 1141\n",
      "success 1142\n",
      "success 1143\n",
      "success 1144\n",
      "success 1145\n",
      "success 1146\n",
      "success 1147\n",
      "success 1148\n",
      "success 1149\n",
      "success 1150\n",
      "success 1151\n",
      "success 1152\n",
      "success 1153\n",
      "success 1154\n",
      "success 1155\n",
      "success 1156\n",
      "success 1157\n",
      "success 1158\n",
      "success 1159\n",
      "success 1160\n",
      "success 1161\n",
      "success 1162\n",
      "success 1163\n",
      "success 1164\n",
      "success 1165\n",
      "success 1166\n",
      "success 1167\n",
      "success 1168\n",
      "success 1169\n",
      "success 1170\n",
      "success 1171\n",
      "success 1172\n",
      "success 1173\n",
      "success 1174\n",
      "success 1175\n",
      "success 1176\n",
      "success 1177\n",
      "success 1178\n",
      "success 1179\n",
      "success 1180\n",
      "success 1181\n",
      "success 1182\n",
      "success 1183\n",
      "success 1184\n",
      "success 1185\n",
      "success 1186\n",
      "success 1187\n",
      "success 1188\n",
      "success 1189\n",
      "success 1190\n",
      "success 1191\n",
      "success 1192\n",
      "success 1193\n",
      "success 1194\n",
      "success 1195\n",
      "success 1196\n",
      "success 1197\n",
      "success 1198\n",
      "success 1199\n",
      "success 1200\n",
      "success 1201\n",
      "success 1202\n",
      "success 1203\n",
      "success 1204\n",
      "success 1205\n",
      "success 1206\n",
      "success 1207\n",
      "success 1208\n",
      "success 1209\n",
      "success 1210\n",
      "success 1211\n",
      "success 1212\n",
      "success 1213\n",
      "success 1214\n",
      "success 1215\n",
      "success 1216\n",
      "success 1217\n",
      "success 1218\n",
      "success 1219\n",
      "success 1220\n",
      "success 1221\n",
      "success 1222\n",
      "success 1223\n",
      "success 1224\n",
      "success 1225\n",
      "success 1226\n",
      "success 1227\n",
      "success 1228\n",
      "success 1229\n",
      "success 1230\n",
      "success 1231\n",
      "success 1232\n",
      "success 1233\n",
      "success 1234\n",
      "success 1235\n",
      "success 1236\n",
      "success 1237\n",
      "success 1238\n",
      "success 1239\n",
      "success 1240\n",
      "success 1241\n",
      "success 1242\n",
      "success 1243\n",
      "success 1244\n",
      "success 1245\n",
      "success 1246\n",
      "success 1247\n",
      "success 1248\n",
      "success 1249\n",
      "success 1250\n",
      "success 1251\n",
      "success 1252\n",
      "success 1253\n",
      "success 1254\n",
      "success 1255\n",
      "success 1256\n",
      "success 1257\n",
      "success 1258\n",
      "success 1259\n",
      "success 1260\n",
      "success 1261\n",
      "success 1262\n",
      "success 1263\n",
      "success 1264\n",
      "success 1265\n",
      "success 1266\n",
      "success 1267\n",
      "success 1268\n",
      "success 1269\n",
      "success 1270\n",
      "success 1271\n",
      "success 1272\n",
      "success 1273\n",
      "success 1274\n",
      "success 1275\n",
      "success 1276\n",
      "success 1277\n",
      "success 1278\n",
      "success 1279\n",
      "success 1280\n",
      "success 1281\n",
      "success 1282\n",
      "success 1283\n",
      "success 1284\n",
      "success 1285\n",
      "success 1286\n",
      "success 1287\n",
      "success 1288\n",
      "success 1289\n",
      "success 1290\n",
      "success 1291\n",
      "success 1292\n",
      "success 1293\n",
      "success 1294\n",
      "success 1295\n",
      "success 1296\n",
      "success 1297\n",
      "success 1298\n",
      "success 1299\n",
      "success 1300\n",
      "success 1301\n",
      "success 1302\n",
      "success 1303\n",
      "success 1304\n",
      "success 1305\n",
      "success 1306\n",
      "success 1307\n",
      "success 1308\n",
      "success 1309\n",
      "success 1310\n",
      "success 1311\n",
      "success 1312\n",
      "success 1313\n",
      "success 1314\n",
      "success 1315\n",
      "success 1316\n",
      "success 1317\n",
      "success 1318\n",
      "success 1319\n",
      "success 1320\n",
      "success 1321\n",
      "success 1322\n",
      "success 1323\n",
      "success 1324\n",
      "success 1325\n",
      "success 1326\n",
      "success 1327\n",
      "success 1328\n",
      "success 1329\n",
      "success 1330\n",
      "success 1331\n",
      "success 1332\n",
      "success 1333\n",
      "success 1334\n",
      "success 1335\n",
      "success 1336\n",
      "success 1337\n",
      "success 1338\n",
      "success 1339\n",
      "success 1340\n",
      "success 1341\n",
      "success 1342\n",
      "success 1343\n",
      "success 1344\n",
      "success 1345\n",
      "success 1346\n",
      "success 1347\n",
      "success 1348\n",
      "success 1349\n",
      "success 1350\n",
      "success 1351\n",
      "success 1352\n",
      "success 1353\n",
      "success 1354\n",
      "success 1355\n",
      "success 1356\n",
      "success 1357\n",
      "success 1358\n",
      "success 1359\n",
      "success 1360\n",
      "success 1361\n",
      "success 1362\n",
      "success 1363\n",
      "success 1364\n",
      "success 1365\n",
      "success 1366\n",
      "success 1367\n",
      "success 1368\n",
      "success 1369\n",
      "success 1370\n",
      "success 1371\n",
      "success 1372\n",
      "success 1373\n",
      "success 1374\n",
      "success 1375\n",
      "success 1376\n",
      "success 1377\n",
      "success 1378\n",
      "success 1379\n",
      "success 1380\n",
      "success 1381\n",
      "success 1382\n",
      "success 1383\n",
      "success 1384\n",
      "success 1385\n",
      "success 1386\n",
      "success 1387\n",
      "success 1388\n",
      "success 1389\n",
      "success 1390\n",
      "success 1391\n",
      "success 1392\n",
      "success 1393\n",
      "success 1394\n",
      "success 1395\n",
      "success 1396\n",
      "success 1397\n",
      "success 1398\n",
      "success 1399\n",
      "success 1400\n",
      "success 1401\n",
      "success 1402\n",
      "success 1403\n",
      "success 1404\n",
      "success 1405\n",
      "success 1406\n",
      "success 1407\n",
      "success 1408\n",
      "success 1409\n",
      "success 1410\n",
      "success 1411\n",
      "success 1412\n",
      "success 1413\n",
      "success 1414\n",
      "success 1415\n",
      "success 1416\n",
      "success 1417\n",
      "success 1418\n",
      "success 1419\n",
      "success 1420\n",
      "success 1421\n",
      "success 1422\n",
      "success 1423\n",
      "success 1424\n",
      "success 1425\n",
      "success 1426\n",
      "success 1427\n",
      "success 1428\n",
      "success 1429\n",
      "success 1430\n",
      "success 1431\n",
      "success 1432\n",
      "success 1433\n",
      "success 1434\n",
      "success 1435\n",
      "success 1436\n",
      "success 1437\n",
      "success 1438\n",
      "success 1439\n",
      "success 1440\n",
      "success 1441\n",
      "success 1442\n",
      "success 1443\n",
      "success 1444\n",
      "success 1445\n",
      "success 1446\n",
      "success 1447\n",
      "success 1448\n",
      "success 1449\n",
      "success 1450\n",
      "success 1451\n",
      "success 1452\n",
      "success 1453\n",
      "success 1454\n",
      "success 1455\n",
      "success 1456\n",
      "success 1457\n",
      "success 1458\n",
      "success 1459\n",
      "success 1460\n",
      "success 1461\n",
      "success 1462\n",
      "success 1463\n",
      "success 1464\n",
      "success 1465\n",
      "success 1466\n",
      "success 1467\n",
      "success 1468\n",
      "success 1469\n",
      "success 1470\n",
      "success 1471\n",
      "success 1472\n",
      "success 1473\n",
      "success 1474\n",
      "success 1475\n",
      "success 1476\n",
      "success 1477\n",
      "success 1478\n",
      "success 1479\n",
      "success 1480\n",
      "success 1481\n",
      "success 1482\n",
      "success 1483\n",
      "success 1484\n",
      "success 1485\n",
      "success 1486\n",
      "success 1487\n",
      "success 1488\n",
      "success 1489\n",
      "success 1490\n",
      "success 1491\n",
      "success 1492\n",
      "success 1493\n",
      "success 1494\n",
      "success 1495\n",
      "success 1496\n",
      "success 1497\n",
      "success 1498\n",
      "success 1499\n",
      "success 1500\n",
      "success 1501\n",
      "success 1502\n",
      "success 1503\n",
      "success 1504\n",
      "success 1505\n",
      "success 1506\n",
      "success 1507\n",
      "success 1508\n",
      "success 1509\n",
      "success 1510\n",
      "success 1511\n",
      "success 1512\n",
      "success 1513\n",
      "success 1514\n",
      "success 1515\n",
      "success 1516\n",
      "success 1517\n",
      "success 1518\n",
      "success 1519\n",
      "success 1520\n",
      "success 1521\n",
      "success 1522\n",
      "success 1523\n",
      "success 1524\n",
      "success 1525\n",
      "success 1526\n",
      "success 1527\n",
      "success 1528\n",
      "success 1529\n",
      "success 1530\n",
      "success 1531\n",
      "success 1532\n",
      "success 1533\n",
      "success 1534\n",
      "success 1535\n",
      "success 1536\n",
      "success 1537\n",
      "success 1538\n",
      "success 1539\n",
      "success 1540\n",
      "success 1541\n",
      "success 1542\n",
      "success 1543\n",
      "success 1544\n",
      "success 1545\n",
      "success 1546\n",
      "success 1547\n",
      "success 1548\n",
      "success 1549\n",
      "success 1550\n",
      "success 1551\n",
      "success 1552\n",
      "success 1553\n",
      "success 1554\n",
      "success 1555\n",
      "success 1556\n",
      "success 1557\n",
      "success 1558\n",
      "success 1559\n",
      "success 1560\n",
      "success 1561\n",
      "success 1562\n",
      "success 1563\n",
      "success 1564\n",
      "success 1565\n",
      "success 1566\n",
      "success 1567\n",
      "success 1568\n",
      "success 1569\n",
      "success 1570\n",
      "success 1571\n",
      "success 1572\n",
      "success 1573\n",
      "success 1574\n",
      "success 1575\n",
      "success 1576\n",
      "success 1577\n",
      "success 1578\n",
      "success 1579\n",
      "success 1580\n",
      "success 1581\n",
      "success 1582\n",
      "success 1583\n",
      "success 1584\n",
      "success 1585\n",
      "success 1586\n",
      "success 1587\n",
      "success 1588\n",
      "success 1589\n",
      "success 1590\n",
      "success 1591\n",
      "success 1592\n",
      "success 1593\n",
      "success 1594\n",
      "success 1595\n",
      "success 1596\n",
      "success 1597\n",
      "success 1598\n",
      "success 1599\n",
      "success 1600\n",
      "success 1601\n",
      "success 1602\n",
      "success 1603\n",
      "success 1604\n",
      "success 1605\n",
      "success 1606\n",
      "success 1607\n",
      "success 1608\n",
      "success 1609\n",
      "success 1610\n",
      "success 1611\n",
      "success 1612\n",
      "success 1613\n",
      "success 1614\n",
      "success 1615\n",
      "success 1616\n",
      "success 1617\n",
      "success 1618\n",
      "success 1619\n",
      "success 1620\n",
      "success 1621\n",
      "success 1622\n",
      "success 1623\n",
      "success 1624\n",
      "success 1625\n",
      "success 1626\n",
      "success 1627\n",
      "success 1628\n",
      "success 1629\n",
      "success 1630\n",
      "success 1631\n",
      "success 1632\n",
      "success 1633\n",
      "success 1634\n",
      "success 1635\n",
      "success 1636\n",
      "success 1637\n",
      "success 1638\n",
      "success 1639\n",
      "success 1640\n",
      "success 1641\n",
      "success 1642\n",
      "success 1643\n",
      "success 1644\n",
      "success 1645\n",
      "success 1646\n",
      "success 1647\n",
      "success 1648\n",
      "success 1649\n",
      "success 1650\n",
      "success 1651\n",
      "success 1652\n",
      "success 1653\n",
      "success 1654\n",
      "success 1655\n",
      "success 1656\n",
      "success 1657\n",
      "success 1658\n",
      "success 1659\n",
      "success 1660\n",
      "success 1661\n",
      "success 1662\n",
      "success 1663\n",
      "success 1664\n",
      "success 1665\n",
      "success 1666\n",
      "success 1667\n",
      "success 1668\n",
      "success 1669\n",
      "success 1670\n",
      "success 1671\n",
      "success 1672\n",
      "success 1673\n",
      "success 1674\n",
      "success 1675\n",
      "success 1676\n",
      "success 1677\n",
      "success 1678\n",
      "success 1679\n",
      "success 1680\n",
      "success 1681\n",
      "success 1682\n",
      "success 1683\n",
      "success 1684\n",
      "success 1685\n"
     ]
    }
   ],
   "source": [
    "for i in range(len(fiverr_df)):\n",
    "    pred_df=predict(fiverr_df['gig_img_url'][i])\n",
    "    for_model_df=pd.concat([for_model_df, pred_df], axis=0)\n",
    "    print('success '+str(i))"
   ]
  },
  {
   "cell_type": "code",
   "execution_count": 34,
   "metadata": {},
   "outputs": [
    {
     "data": {
      "text/plain": [
       "(20232, 3)"
      ]
     },
     "execution_count": 34,
     "metadata": {},
     "output_type": "execute_result"
    }
   ],
   "source": [
    "for_model_df.shape"
   ]
  },
  {
   "cell_type": "code",
   "execution_count": 35,
   "metadata": {},
   "outputs": [],
   "source": [
    "for_model_df.to_csv('/Users/rsoedarnadi/Downloads/for_model_df.csv')"
   ]
  },
  {
   "cell_type": "code",
   "execution_count": 36,
   "metadata": {},
   "outputs": [],
   "source": [
    "from typing import Dict, Text\n",
    "\n",
    "import tensorflow as tf\n",
    "import tensorflow_recommenders as tfrs"
   ]
  },
  {
   "cell_type": "code",
   "execution_count": 37,
   "metadata": {},
   "outputs": [],
   "source": [
    "ratings = tf.data.Dataset.from_tensor_slices(dict(for_model_df[['gig_img_url','client_names', 'gig_rating']]))\n",
    "imgs = tf.data.Dataset.from_tensor_slices(dict(for_model_df[['gig_img_url']]))\n",
    "\n",
    "ratings = ratings.map(lambda x: {\n",
    "    'gig_img_url': x['gig_img_url'],\n",
    "    'client_names': x['client_names'],\n",
    "    'gig_rating': float(x['gig_rating'])\n",
    "})\n",
    "\n",
    "imgs = imgs.map(lambda x: x['gig_img_url'])"
   ]
  },
  {
   "cell_type": "code",
   "execution_count": 38,
   "metadata": {},
   "outputs": [
    {
     "name": "stderr",
     "output_type": "stream",
     "text": [
      "2023-06-13 20:10:25.966929: I tensorflow/core/common_runtime/executor.cc:1197] [/device:CPU:0] (DEBUG INFO) Executor start aborting (this does not indicate an error and you can ignore this message): INVALID_ARGUMENT: You must feed a value for placeholder tensor 'Placeholder/_0' with dtype string and shape [20232]\n",
      "\t [[{{node Placeholder/_0}}]]\n",
      "2023-06-13 20:10:26.044079: I tensorflow/core/common_runtime/executor.cc:1197] [/device:CPU:0] (DEBUG INFO) Executor start aborting (this does not indicate an error and you can ignore this message): INVALID_ARGUMENT: You must feed a value for placeholder tensor 'Placeholder/_2' with dtype double and shape [20232]\n",
      "\t [[{{node Placeholder/_2}}]]\n"
     ]
    }
   ],
   "source": [
    "unique_gig_imgs = np.unique(np.concatenate(list(imgs.batch(1000))))\n",
    "unique_client_names = np.unique(np.concatenate(list(ratings.batch(1000).map(lambda x: x[\"client_names\"]))))\n",
    "tf.random.set_seed(42)\n",
    "shuffled = ratings.shuffle(20_232, seed=42, reshuffle_each_iteration=False)\n",
    "train = ratings.take(16_000)\n",
    "test = ratings.skip(16_000).take(4_232)"
   ]
  },
  {
   "cell_type": "code",
   "execution_count": 40,
   "metadata": {},
   "outputs": [],
   "source": [
    "embedding_dimension = 64\n",
    "\n",
    "client_model = tf.keras.Sequential([\n",
    "    tf.keras.layers.experimental.preprocessing.StringLookup(\n",
    "        vocabulary=unique_client_names, mask_token=None),\n",
    "        tf.keras.layers.Embedding(len(unique_client_names) + 1,   \n",
    "                                  embedding_dimension)\n",
    "])\n",
    "\n",
    "item_model = tf.keras.Sequential([\n",
    "    tf.keras.layers.experimental.preprocessing.StringLookup(\n",
    "        vocabulary=unique_gig_imgs, mask_token=None),\n",
    "        tf.keras.layers.Embedding(len(unique_gig_imgs) + 1, \n",
    "                                  embedding_dimension)\n",
    "])"
   ]
  },
  {
   "cell_type": "code",
   "execution_count": 47,
   "metadata": {},
   "outputs": [],
   "source": [
    "class Model(tfrs.Model):\n",
    "  def __init__(self) -> None:\n",
    "    super().__init__()\n",
    "    self.item_model: tf.keras.Model = item_model\n",
    "    self.client_model: tf.keras.Model = client_model\n",
    "    self.retrieval_task: tf.keras.layers.Layer = tfrs.tasks.Retrieval(\n",
    "        metrics=tfrs.metrics.FactorizedTopK(\n",
    "            candidates=imgs.batch(128).map(self.item_model)\n",
    "        )\n",
    "    )\n",
    "    \n",
    "  def call(self, features: Dict[Text, tf.Tensor]) -> tf.Tensor:\n",
    "    # We pick out the user features and pass them into the user model.\n",
    "    client_embeddings = self.client_model(features[\"client_names\"])\n",
    "    # And pick out the movie features and pass them into the movie model.\n",
    "    positive_gig_embeddings = self.item_model(features[\"gig_img_url\"])\n",
    "    \n",
    "    return (\n",
    "        client_embeddings,\n",
    "        positive_gig_embeddings\n",
    "    )\n",
    "  \n",
    "  def compute_loss(self, features: Dict[Text, tf.Tensor], training=False) -> tf.Tensor:\n",
    "    ratings = features.pop(\"gig_rating\")\n",
    "    client_embeddings, positive_gig_embeddings = self(features)\n",
    "\n",
    "    retrieval_loss = self.retrieval_task(client_embeddings, positive_gig_embeddings)\n",
    "    # The task computes the loss and the metrics.\n",
    "\n",
    "    return (retrieval_loss)"
   ]
  },
  {
   "cell_type": "code",
   "execution_count": 44,
   "metadata": {},
   "outputs": [],
   "source": [
    "metrics = tfrs.metrics.FactorizedTopK(\n",
    "  candidates=imgs.batch(128).map(item_model)\n",
    ")\n",
    "\n",
    "task = tfrs.tasks.Retrieval(\n",
    "  metrics=metrics\n",
    ")\n"
   ]
  },
  {
   "cell_type": "code",
   "execution_count": 48,
   "metadata": {},
   "outputs": [
    {
     "name": "stdout",
     "output_type": "stream",
     "text": [
      "Epoch 1/10\n"
     ]
    },
    {
     "name": "stderr",
     "output_type": "stream",
     "text": [
      "2023-06-13 20:12:55.957375: I tensorflow/core/common_runtime/executor.cc:1197] [/device:CPU:0] (DEBUG INFO) Executor start aborting (this does not indicate an error and you can ignore this message): INVALID_ARGUMENT: You must feed a value for placeholder tensor 'Placeholder/_1' with dtype string and shape [20232]\n",
      "\t [[{{node Placeholder/_1}}]]\n",
      "2023-06-13 20:12:58.467834: I tensorflow/core/common_runtime/executor.cc:1197] [/device:CPU:0] (DEBUG INFO) Executor start aborting (this does not indicate an error and you can ignore this message): INVALID_ARGUMENT: You must feed a value for placeholder tensor 'Placeholder/_6' with dtype resource\n",
      "\t [[{{node Placeholder/_6}}]]\n"
     ]
    },
    {
     "name": "stdout",
     "output_type": "stream",
     "text": [
      " 1/16 [>.............................] - ETA: 47s - factorized_top_k/top_1_categorical_accuracy: 0.0000e+00 - factorized_top_k/top_5_categorical_accuracy: 0.0000e+00 - factorized_top_k/top_10_categorical_accuracy: 0.0000e+00 - factorized_top_k/top_50_categorical_accuracy: 0.0010 - factorized_top_k/top_100_categorical_accuracy: 0.0020 - loss: 6907.8296 - regularization_loss: 0.0000e+00 - total_loss: 6907.8296"
     ]
    },
    {
     "name": "stderr",
     "output_type": "stream",
     "text": [
      "2023-06-13 20:12:59.134821: I tensorflow/core/common_runtime/executor.cc:1197] [/device:CPU:0] (DEBUG INFO) Executor start aborting (this does not indicate an error and you can ignore this message): INVALID_ARGUMENT: You must feed a value for placeholder tensor 'Placeholder/_12' with dtype float and shape [1000,64]\n",
      "\t [[{{node Placeholder/_12}}]]\n"
     ]
    },
    {
     "name": "stdout",
     "output_type": "stream",
     "text": [
      " 2/16 [==>...........................] - ETA: 9s - factorized_top_k/top_1_categorical_accuracy: 0.0000e+00 - factorized_top_k/top_5_categorical_accuracy: 0.0000e+00 - factorized_top_k/top_10_categorical_accuracy: 0.0000e+00 - factorized_top_k/top_50_categorical_accuracy: 0.0010 - factorized_top_k/top_100_categorical_accuracy: 0.0020 - loss: 6907.7932 - regularization_loss: 0.0000e+00 - total_loss: 6907.7932 "
     ]
    },
    {
     "name": "stderr",
     "output_type": "stream",
     "text": [
      "2023-06-13 20:12:59.834507: I tensorflow/core/common_runtime/executor.cc:1197] [/device:CPU:0] (DEBUG INFO) Executor start aborting (this does not indicate an error and you can ignore this message): INVALID_ARGUMENT: You must feed a value for placeholder tensor 'Placeholder/_6' with dtype resource\n",
      "\t [[{{node Placeholder/_6}}]]\n"
     ]
    },
    {
     "name": "stdout",
     "output_type": "stream",
     "text": [
      " 3/16 [====>.........................] - ETA: 9s - factorized_top_k/top_1_categorical_accuracy: 0.0000e+00 - factorized_top_k/top_5_categorical_accuracy: 0.0000e+00 - factorized_top_k/top_10_categorical_accuracy: 0.0000e+00 - factorized_top_k/top_50_categorical_accuracy: 0.0010 - factorized_top_k/top_100_categorical_accuracy: 0.0037 - loss: 6907.6509 - regularization_loss: 0.0000e+00 - total_loss: 6907.6509"
     ]
    },
    {
     "name": "stderr",
     "output_type": "stream",
     "text": [
      "2023-06-13 20:13:00.623075: I tensorflow/core/common_runtime/executor.cc:1197] [/device:CPU:0] (DEBUG INFO) Executor start aborting (this does not indicate an error and you can ignore this message): INVALID_ARGUMENT: You must feed a value for placeholder tensor 'Placeholder/_0' with dtype string and shape [20232]\n",
      "\t [[{{node Placeholder/_0}}]]\n"
     ]
    },
    {
     "name": "stdout",
     "output_type": "stream",
     "text": [
      " 4/16 [======>.......................] - ETA: 9s - factorized_top_k/top_1_categorical_accuracy: 0.0000e+00 - factorized_top_k/top_5_categorical_accuracy: 0.0000e+00 - factorized_top_k/top_10_categorical_accuracy: 0.0000e+00 - factorized_top_k/top_50_categorical_accuracy: 0.0025 - factorized_top_k/top_100_categorical_accuracy: 0.0052 - loss: 6907.3992 - regularization_loss: 0.0000e+00 - total_loss: 6907.3992"
     ]
    },
    {
     "name": "stderr",
     "output_type": "stream",
     "text": [
      "2023-06-13 20:13:01.423921: I tensorflow/core/common_runtime/executor.cc:1197] [/device:CPU:0] (DEBUG INFO) Executor start aborting (this does not indicate an error and you can ignore this message): INVALID_ARGUMENT: You must feed a value for placeholder tensor 'Placeholder/_12' with dtype float and shape [1000,64]\n",
      "\t [[{{node Placeholder/_12}}]]\n"
     ]
    },
    {
     "name": "stdout",
     "output_type": "stream",
     "text": [
      " 5/16 [========>.....................] - ETA: 8s - factorized_top_k/top_1_categorical_accuracy: 0.0000e+00 - factorized_top_k/top_5_categorical_accuracy: 0.0000e+00 - factorized_top_k/top_10_categorical_accuracy: 0.0000e+00 - factorized_top_k/top_50_categorical_accuracy: 0.0026 - factorized_top_k/top_100_categorical_accuracy: 0.0058 - loss: 6906.9340 - regularization_loss: 0.0000e+00 - total_loss: 6906.9340"
     ]
    },
    {
     "name": "stderr",
     "output_type": "stream",
     "text": [
      "2023-06-13 20:13:02.178918: I tensorflow/core/common_runtime/executor.cc:1197] [/device:CPU:0] (DEBUG INFO) Executor start aborting (this does not indicate an error and you can ignore this message): INVALID_ARGUMENT: You must feed a value for placeholder tensor 'Placeholder/_12' with dtype float and shape [1000,64]\n",
      "\t [[{{node Placeholder/_12}}]]\n"
     ]
    },
    {
     "name": "stdout",
     "output_type": "stream",
     "text": [
      " 6/16 [==========>...................] - ETA: 7s - factorized_top_k/top_1_categorical_accuracy: 0.0000e+00 - factorized_top_k/top_5_categorical_accuracy: 0.0000e+00 - factorized_top_k/top_10_categorical_accuracy: 0.0000e+00 - factorized_top_k/top_50_categorical_accuracy: 0.0025 - factorized_top_k/top_100_categorical_accuracy: 0.0077 - loss: 6906.1418 - regularization_loss: 0.0000e+00 - total_loss: 6906.1418"
     ]
    },
    {
     "name": "stderr",
     "output_type": "stream",
     "text": [
      "2023-06-13 20:13:03.047385: I tensorflow/core/common_runtime/executor.cc:1197] [/device:CPU:0] (DEBUG INFO) Executor start aborting (this does not indicate an error and you can ignore this message): INVALID_ARGUMENT: You must feed a value for placeholder tensor 'Placeholder/_6' with dtype resource\n",
      "\t [[{{node Placeholder/_6}}]]\n"
     ]
    },
    {
     "name": "stdout",
     "output_type": "stream",
     "text": [
      " 7/16 [============>.................] - ETA: 7s - factorized_top_k/top_1_categorical_accuracy: 0.0000e+00 - factorized_top_k/top_5_categorical_accuracy: 0.0000e+00 - factorized_top_k/top_10_categorical_accuracy: 0.0000e+00 - factorized_top_k/top_50_categorical_accuracy: 0.0027 - factorized_top_k/top_100_categorical_accuracy: 0.0096 - loss: 6904.7211 - regularization_loss: 0.0000e+00 - total_loss: 6904.7211"
     ]
    },
    {
     "name": "stderr",
     "output_type": "stream",
     "text": [
      "2023-06-13 20:13:04.078002: I tensorflow/core/common_runtime/executor.cc:1197] [/device:CPU:0] (DEBUG INFO) Executor start aborting (this does not indicate an error and you can ignore this message): INVALID_ARGUMENT: You must feed a value for placeholder tensor 'Placeholder/_8' with dtype resource\n",
      "\t [[{{node Placeholder/_8}}]]\n"
     ]
    },
    {
     "name": "stdout",
     "output_type": "stream",
     "text": [
      " 8/16 [==============>...............] - ETA: 6s - factorized_top_k/top_1_categorical_accuracy: 0.0000e+00 - factorized_top_k/top_5_categorical_accuracy: 0.0000e+00 - factorized_top_k/top_10_categorical_accuracy: 0.0000e+00 - factorized_top_k/top_50_categorical_accuracy: 0.0029 - factorized_top_k/top_100_categorical_accuracy: 0.0113 - loss: 6902.3877 - regularization_loss: 0.0000e+00 - total_loss: 6902.3877"
     ]
    },
    {
     "name": "stderr",
     "output_type": "stream",
     "text": [
      "2023-06-13 20:13:04.957297: I tensorflow/core/common_runtime/executor.cc:1197] [/device:CPU:0] (DEBUG INFO) Executor start aborting (this does not indicate an error and you can ignore this message): INVALID_ARGUMENT: You must feed a value for placeholder tensor 'Placeholder/_12' with dtype float and shape [1000,64]\n",
      "\t [[{{node Placeholder/_12}}]]\n"
     ]
    },
    {
     "name": "stdout",
     "output_type": "stream",
     "text": [
      " 9/16 [===============>..............] - ETA: 5s - factorized_top_k/top_1_categorical_accuracy: 0.0000e+00 - factorized_top_k/top_5_categorical_accuracy: 0.0000e+00 - factorized_top_k/top_10_categorical_accuracy: 0.0000e+00 - factorized_top_k/top_50_categorical_accuracy: 0.0031 - factorized_top_k/top_100_categorical_accuracy: 0.0138 - loss: 6898.7872 - regularization_loss: 0.0000e+00 - total_loss: 6898.7872"
     ]
    },
    {
     "name": "stderr",
     "output_type": "stream",
     "text": [
      "2023-06-13 20:13:05.706327: I tensorflow/core/common_runtime/executor.cc:1197] [/device:CPU:0] (DEBUG INFO) Executor start aborting (this does not indicate an error and you can ignore this message): INVALID_ARGUMENT: You must feed a value for placeholder tensor 'Placeholder/_6' with dtype resource\n",
      "\t [[{{node Placeholder/_6}}]]\n"
     ]
    },
    {
     "name": "stdout",
     "output_type": "stream",
     "text": [
      "10/16 [=================>............] - ETA: 4s - factorized_top_k/top_1_categorical_accuracy: 0.0000e+00 - factorized_top_k/top_5_categorical_accuracy: 0.0000e+00 - factorized_top_k/top_10_categorical_accuracy: 0.0000e+00 - factorized_top_k/top_50_categorical_accuracy: 0.0032 - factorized_top_k/top_100_categorical_accuracy: 0.0153 - loss: 6893.5676 - regularization_loss: 0.0000e+00 - total_loss: 6893.5676"
     ]
    },
    {
     "name": "stderr",
     "output_type": "stream",
     "text": [
      "2023-06-13 20:13:06.487221: I tensorflow/core/common_runtime/executor.cc:1197] [/device:CPU:0] (DEBUG INFO) Executor start aborting (this does not indicate an error and you can ignore this message): INVALID_ARGUMENT: You must feed a value for placeholder tensor 'Placeholder/_6' with dtype resource\n",
      "\t [[{{node Placeholder/_6}}]]\n"
     ]
    },
    {
     "name": "stdout",
     "output_type": "stream",
     "text": [
      "11/16 [===================>..........] - ETA: 4s - factorized_top_k/top_1_categorical_accuracy: 0.0000e+00 - factorized_top_k/top_5_categorical_accuracy: 0.0000e+00 - factorized_top_k/top_10_categorical_accuracy: 0.0000e+00 - factorized_top_k/top_50_categorical_accuracy: 0.0038 - factorized_top_k/top_100_categorical_accuracy: 0.0193 - loss: 6886.3748 - regularization_loss: 0.0000e+00 - total_loss: 6886.3748"
     ]
    },
    {
     "name": "stderr",
     "output_type": "stream",
     "text": [
      "2023-06-13 20:13:07.402389: I tensorflow/core/common_runtime/executor.cc:1197] [/device:CPU:0] (DEBUG INFO) Executor start aborting (this does not indicate an error and you can ignore this message): INVALID_ARGUMENT: You must feed a value for placeholder tensor 'Placeholder/_12' with dtype float and shape [1000,64]\n",
      "\t [[{{node Placeholder/_12}}]]\n"
     ]
    },
    {
     "name": "stdout",
     "output_type": "stream",
     "text": [
      "12/16 [=====================>........] - ETA: 3s - factorized_top_k/top_1_categorical_accuracy: 0.0000e+00 - factorized_top_k/top_5_categorical_accuracy: 0.0000e+00 - factorized_top_k/top_10_categorical_accuracy: 0.0000e+00 - factorized_top_k/top_50_categorical_accuracy: 0.0043 - factorized_top_k/top_100_categorical_accuracy: 0.0220 - loss: 6876.3873 - regularization_loss: 0.0000e+00 - total_loss: 6876.3873"
     ]
    },
    {
     "name": "stderr",
     "output_type": "stream",
     "text": [
      "2023-06-13 20:13:08.162327: I tensorflow/core/common_runtime/executor.cc:1197] [/device:CPU:0] (DEBUG INFO) Executor start aborting (this does not indicate an error and you can ignore this message): INVALID_ARGUMENT: You must feed a value for placeholder tensor 'Placeholder/_0' with dtype string and shape [20232]\n",
      "\t [[{{node Placeholder/_0}}]]\n"
     ]
    },
    {
     "name": "stdout",
     "output_type": "stream",
     "text": [
      "13/16 [=======================>......] - ETA: 2s - factorized_top_k/top_1_categorical_accuracy: 0.0000e+00 - factorized_top_k/top_5_categorical_accuracy: 0.0000e+00 - factorized_top_k/top_10_categorical_accuracy: 0.0000e+00 - factorized_top_k/top_50_categorical_accuracy: 0.0052 - factorized_top_k/top_100_categorical_accuracy: 0.0271 - loss: 6862.7153 - regularization_loss: 0.0000e+00 - total_loss: 6862.7153"
     ]
    },
    {
     "name": "stderr",
     "output_type": "stream",
     "text": [
      "2023-06-13 20:13:08.931992: I tensorflow/core/common_runtime/executor.cc:1197] [/device:CPU:0] (DEBUG INFO) Executor start aborting (this does not indicate an error and you can ignore this message): INVALID_ARGUMENT: You must feed a value for placeholder tensor 'Placeholder/_6' with dtype resource\n",
      "\t [[{{node Placeholder/_6}}]]\n"
     ]
    },
    {
     "name": "stdout",
     "output_type": "stream",
     "text": [
      "14/16 [=========================>....] - ETA: 1s - factorized_top_k/top_1_categorical_accuracy: 0.0000e+00 - factorized_top_k/top_5_categorical_accuracy: 0.0000e+00 - factorized_top_k/top_10_categorical_accuracy: 0.0000e+00 - factorized_top_k/top_50_categorical_accuracy: 0.0061 - factorized_top_k/top_100_categorical_accuracy: 0.0314 - loss: 6844.5171 - regularization_loss: 0.0000e+00 - total_loss: 6844.5171"
     ]
    },
    {
     "name": "stderr",
     "output_type": "stream",
     "text": [
      "2023-06-13 20:13:09.794885: I tensorflow/core/common_runtime/executor.cc:1197] [/device:CPU:0] (DEBUG INFO) Executor start aborting (this does not indicate an error and you can ignore this message): INVALID_ARGUMENT: You must feed a value for placeholder tensor 'Placeholder/_10' with dtype resource\n",
      "\t [[{{node Placeholder/_10}}]]\n"
     ]
    },
    {
     "name": "stdout",
     "output_type": "stream",
     "text": [
      "15/16 [===========================>..] - ETA: 0s - factorized_top_k/top_1_categorical_accuracy: 0.0000e+00 - factorized_top_k/top_5_categorical_accuracy: 0.0000e+00 - factorized_top_k/top_10_categorical_accuracy: 0.0000e+00 - factorized_top_k/top_50_categorical_accuracy: 0.0067 - factorized_top_k/top_100_categorical_accuracy: 0.0345 - loss: 6821.3617 - regularization_loss: 0.0000e+00 - total_loss: 6821.3617"
     ]
    },
    {
     "name": "stderr",
     "output_type": "stream",
     "text": [
      "2023-06-13 20:13:10.813378: I tensorflow/core/common_runtime/executor.cc:1197] [/device:CPU:0] (DEBUG INFO) Executor start aborting (this does not indicate an error and you can ignore this message): INVALID_ARGUMENT: You must feed a value for placeholder tensor 'Placeholder/_0' with dtype string and shape [20232]\n",
      "\t [[{{node Placeholder/_0}}]]\n"
     ]
    },
    {
     "name": "stdout",
     "output_type": "stream",
     "text": [
      "16/16 [==============================] - 16s 834ms/step - factorized_top_k/top_1_categorical_accuracy: 0.0000e+00 - factorized_top_k/top_5_categorical_accuracy: 0.0000e+00 - factorized_top_k/top_10_categorical_accuracy: 0.0000e+00 - factorized_top_k/top_50_categorical_accuracy: 0.0075 - factorized_top_k/top_100_categorical_accuracy: 0.0384 - loss: 6767.9147 - regularization_loss: 0.0000e+00 - total_loss: 6767.9147\n",
      "Epoch 2/10\n"
     ]
    },
    {
     "name": "stderr",
     "output_type": "stream",
     "text": [
      "2023-06-13 20:13:11.651159: I tensorflow/core/common_runtime/executor.cc:1197] [/device:CPU:0] (DEBUG INFO) Executor start aborting (this does not indicate an error and you can ignore this message): INVALID_ARGUMENT: You must feed a value for placeholder tensor 'Placeholder/_0' with dtype string and shape [20232]\n",
      "\t [[{{node Placeholder/_0}}]]\n"
     ]
    },
    {
     "name": "stdout",
     "output_type": "stream",
     "text": [
      " 1/16 [>.............................] - ETA: 11s - factorized_top_k/top_1_categorical_accuracy: 0.0000e+00 - factorized_top_k/top_5_categorical_accuracy: 0.0000e+00 - factorized_top_k/top_10_categorical_accuracy: 0.0000e+00 - factorized_top_k/top_50_categorical_accuracy: 0.0230 - factorized_top_k/top_100_categorical_accuracy: 0.1210 - loss: 6151.0381 - regularization_loss: 0.0000e+00 - total_loss: 6151.0381"
     ]
    },
    {
     "name": "stderr",
     "output_type": "stream",
     "text": [
      "2023-06-13 20:13:12.398456: I tensorflow/core/common_runtime/executor.cc:1197] [/device:CPU:0] (DEBUG INFO) Executor start aborting (this does not indicate an error and you can ignore this message): INVALID_ARGUMENT: You must feed a value for placeholder tensor 'Placeholder/_12' with dtype float and shape [1000,64]\n",
      "\t [[{{node Placeholder/_12}}]]\n"
     ]
    },
    {
     "name": "stdout",
     "output_type": "stream",
     "text": [
      " 2/16 [==>...........................] - ETA: 11s - factorized_top_k/top_1_categorical_accuracy: 0.0000e+00 - factorized_top_k/top_5_categorical_accuracy: 0.0000e+00 - factorized_top_k/top_10_categorical_accuracy: 5.0000e-04 - factorized_top_k/top_50_categorical_accuracy: 0.0255 - factorized_top_k/top_100_categorical_accuracy: 0.1330 - loss: 6051.8789 - regularization_loss: 0.0000e+00 - total_loss: 6051.8789"
     ]
    },
    {
     "name": "stderr",
     "output_type": "stream",
     "text": [
      "2023-06-13 20:13:13.184731: I tensorflow/core/common_runtime/executor.cc:1197] [/device:CPU:0] (DEBUG INFO) Executor start aborting (this does not indicate an error and you can ignore this message): INVALID_ARGUMENT: You must feed a value for placeholder tensor 'Placeholder/_12' with dtype float and shape [1000,64]\n",
      "\t [[{{node Placeholder/_12}}]]\n"
     ]
    },
    {
     "name": "stdout",
     "output_type": "stream",
     "text": [
      " 3/16 [====>.........................] - ETA: 10s - factorized_top_k/top_1_categorical_accuracy: 6.6667e-04 - factorized_top_k/top_5_categorical_accuracy: 6.6667e-04 - factorized_top_k/top_10_categorical_accuracy: 0.0010 - factorized_top_k/top_50_categorical_accuracy: 0.0280 - factorized_top_k/top_100_categorical_accuracy: 0.1370 - loss: 5948.6559 - regularization_loss: 0.0000e+00 - total_loss: 5948.6559    "
     ]
    },
    {
     "name": "stderr",
     "output_type": "stream",
     "text": [
      "2023-06-13 20:13:13.949204: I tensorflow/core/common_runtime/executor.cc:1197] [/device:CPU:0] (DEBUG INFO) Executor start aborting (this does not indicate an error and you can ignore this message): INVALID_ARGUMENT: You must feed a value for placeholder tensor 'Placeholder/_6' with dtype resource\n",
      "\t [[{{node Placeholder/_6}}]]\n"
     ]
    },
    {
     "name": "stdout",
     "output_type": "stream",
     "text": [
      " 4/16 [======>.......................] - ETA: 9s - factorized_top_k/top_1_categorical_accuracy: 7.5000e-04 - factorized_top_k/top_5_categorical_accuracy: 7.5000e-04 - factorized_top_k/top_10_categorical_accuracy: 0.0010 - factorized_top_k/top_50_categorical_accuracy: 0.0258 - factorized_top_k/top_100_categorical_accuracy: 0.1392 - loss: 5822.7976 - regularization_loss: 0.0000e+00 - total_loss: 5822.7976 "
     ]
    },
    {
     "name": "stderr",
     "output_type": "stream",
     "text": [
      "2023-06-13 20:13:14.893069: I tensorflow/core/common_runtime/executor.cc:1197] [/device:CPU:0] (DEBUG INFO) Executor start aborting (this does not indicate an error and you can ignore this message): INVALID_ARGUMENT: You must feed a value for placeholder tensor 'Placeholder/_6' with dtype resource\n",
      "\t [[{{node Placeholder/_6}}]]\n"
     ]
    },
    {
     "name": "stdout",
     "output_type": "stream",
     "text": [
      " 5/16 [========>.....................] - ETA: 9s - factorized_top_k/top_1_categorical_accuracy: 0.0032 - factorized_top_k/top_5_categorical_accuracy: 0.0032 - factorized_top_k/top_10_categorical_accuracy: 0.0034 - factorized_top_k/top_50_categorical_accuracy: 0.0322 - factorized_top_k/top_100_categorical_accuracy: 0.1464 - loss: 5701.2166 - regularization_loss: 0.0000e+00 - total_loss: 5701.2166        "
     ]
    },
    {
     "name": "stderr",
     "output_type": "stream",
     "text": [
      "2023-06-13 20:13:15.799778: I tensorflow/core/common_runtime/executor.cc:1197] [/device:CPU:0] (DEBUG INFO) Executor start aborting (this does not indicate an error and you can ignore this message): INVALID_ARGUMENT: You must feed a value for placeholder tensor 'Placeholder/_6' with dtype resource\n",
      "\t [[{{node Placeholder/_6}}]]\n"
     ]
    },
    {
     "name": "stdout",
     "output_type": "stream",
     "text": [
      " 6/16 [==========>...................] - ETA: 8s - factorized_top_k/top_1_categorical_accuracy: 0.0042 - factorized_top_k/top_5_categorical_accuracy: 0.0042 - factorized_top_k/top_10_categorical_accuracy: 0.0043 - factorized_top_k/top_50_categorical_accuracy: 0.0365 - factorized_top_k/top_100_categorical_accuracy: 0.1517 - loss: 5587.6369 - regularization_loss: 0.0000e+00 - total_loss: 5587.6369"
     ]
    },
    {
     "name": "stderr",
     "output_type": "stream",
     "text": [
      "2023-06-13 20:13:16.575182: I tensorflow/core/common_runtime/executor.cc:1197] [/device:CPU:0] (DEBUG INFO) Executor start aborting (this does not indicate an error and you can ignore this message): INVALID_ARGUMENT: You must feed a value for placeholder tensor 'Placeholder/_8' with dtype resource\n",
      "\t [[{{node Placeholder/_8}}]]\n"
     ]
    },
    {
     "name": "stdout",
     "output_type": "stream",
     "text": [
      " 7/16 [============>.................] - ETA: 7s - factorized_top_k/top_1_categorical_accuracy: 0.0059 - factorized_top_k/top_5_categorical_accuracy: 0.0059 - factorized_top_k/top_10_categorical_accuracy: 0.0061 - factorized_top_k/top_50_categorical_accuracy: 0.0413 - factorized_top_k/top_100_categorical_accuracy: 0.1541 - loss: 5461.6883 - regularization_loss: 0.0000e+00 - total_loss: 5461.6883"
     ]
    },
    {
     "name": "stderr",
     "output_type": "stream",
     "text": [
      "2023-06-13 20:13:17.362218: I tensorflow/core/common_runtime/executor.cc:1197] [/device:CPU:0] (DEBUG INFO) Executor start aborting (this does not indicate an error and you can ignore this message): INVALID_ARGUMENT: You must feed a value for placeholder tensor 'Placeholder/_10' with dtype resource\n",
      "\t [[{{node Placeholder/_10}}]]\n"
     ]
    },
    {
     "name": "stdout",
     "output_type": "stream",
     "text": [
      " 8/16 [==============>...............] - ETA: 6s - factorized_top_k/top_1_categorical_accuracy: 0.0066 - factorized_top_k/top_5_categorical_accuracy: 0.0066 - factorized_top_k/top_10_categorical_accuracy: 0.0070 - factorized_top_k/top_50_categorical_accuracy: 0.0449 - factorized_top_k/top_100_categorical_accuracy: 0.1612 - loss: 5336.8213 - regularization_loss: 0.0000e+00 - total_loss: 5336.8213"
     ]
    },
    {
     "name": "stderr",
     "output_type": "stream",
     "text": [
      "2023-06-13 20:13:18.121387: I tensorflow/core/common_runtime/executor.cc:1197] [/device:CPU:0] (DEBUG INFO) Executor start aborting (this does not indicate an error and you can ignore this message): INVALID_ARGUMENT: You must feed a value for placeholder tensor 'Placeholder/_6' with dtype resource\n",
      "\t [[{{node Placeholder/_6}}]]\n"
     ]
    },
    {
     "name": "stdout",
     "output_type": "stream",
     "text": [
      " 9/16 [===============>..............] - ETA: 5s - factorized_top_k/top_1_categorical_accuracy: 0.0071 - factorized_top_k/top_5_categorical_accuracy: 0.0071 - factorized_top_k/top_10_categorical_accuracy: 0.0074 - factorized_top_k/top_50_categorical_accuracy: 0.0493 - factorized_top_k/top_100_categorical_accuracy: 0.1683 - loss: 5217.0873 - regularization_loss: 0.0000e+00 - total_loss: 5217.0873"
     ]
    },
    {
     "name": "stderr",
     "output_type": "stream",
     "text": [
      "2023-06-13 20:13:18.946621: I tensorflow/core/common_runtime/executor.cc:1197] [/device:CPU:0] (DEBUG INFO) Executor start aborting (this does not indicate an error and you can ignore this message): INVALID_ARGUMENT: You must feed a value for placeholder tensor 'Placeholder/_10' with dtype resource\n",
      "\t [[{{node Placeholder/_10}}]]\n"
     ]
    },
    {
     "name": "stdout",
     "output_type": "stream",
     "text": [
      "10/16 [=================>............] - ETA: 4s - factorized_top_k/top_1_categorical_accuracy: 0.0086 - factorized_top_k/top_5_categorical_accuracy: 0.0086 - factorized_top_k/top_10_categorical_accuracy: 0.0089 - factorized_top_k/top_50_categorical_accuracy: 0.0541 - factorized_top_k/top_100_categorical_accuracy: 0.1757 - loss: 5108.4999 - regularization_loss: 0.0000e+00 - total_loss: 5108.4999"
     ]
    },
    {
     "name": "stderr",
     "output_type": "stream",
     "text": [
      "2023-06-13 20:13:19.702424: I tensorflow/core/common_runtime/executor.cc:1197] [/device:CPU:0] (DEBUG INFO) Executor start aborting (this does not indicate an error and you can ignore this message): INVALID_ARGUMENT: You must feed a value for placeholder tensor 'Placeholder/_10' with dtype resource\n",
      "\t [[{{node Placeholder/_10}}]]\n"
     ]
    },
    {
     "name": "stdout",
     "output_type": "stream",
     "text": [
      "11/16 [===================>..........] - ETA: 4s - factorized_top_k/top_1_categorical_accuracy: 0.0103 - factorized_top_k/top_5_categorical_accuracy: 0.0103 - factorized_top_k/top_10_categorical_accuracy: 0.0105 - factorized_top_k/top_50_categorical_accuracy: 0.0576 - factorized_top_k/top_100_categorical_accuracy: 0.1819 - loss: 5010.3339 - regularization_loss: 0.0000e+00 - total_loss: 5010.3339"
     ]
    },
    {
     "name": "stderr",
     "output_type": "stream",
     "text": [
      "2023-06-13 20:13:20.550529: I tensorflow/core/common_runtime/executor.cc:1197] [/device:CPU:0] (DEBUG INFO) Executor start aborting (this does not indicate an error and you can ignore this message): INVALID_ARGUMENT: You must feed a value for placeholder tensor 'Placeholder/_12' with dtype float and shape [1000,64]\n",
      "\t [[{{node Placeholder/_12}}]]\n"
     ]
    },
    {
     "name": "stdout",
     "output_type": "stream",
     "text": [
      "12/16 [=====================>........] - ETA: 3s - factorized_top_k/top_1_categorical_accuracy: 0.0123 - factorized_top_k/top_5_categorical_accuracy: 0.0123 - factorized_top_k/top_10_categorical_accuracy: 0.0126 - factorized_top_k/top_50_categorical_accuracy: 0.0635 - factorized_top_k/top_100_categorical_accuracy: 0.1902 - loss: 4919.0480 - regularization_loss: 0.0000e+00 - total_loss: 4919.0480"
     ]
    },
    {
     "name": "stderr",
     "output_type": "stream",
     "text": [
      "2023-06-13 20:13:21.370116: I tensorflow/core/common_runtime/executor.cc:1197] [/device:CPU:0] (DEBUG INFO) Executor start aborting (this does not indicate an error and you can ignore this message): INVALID_ARGUMENT: You must feed a value for placeholder tensor 'Placeholder/_10' with dtype resource\n",
      "\t [[{{node Placeholder/_10}}]]\n"
     ]
    },
    {
     "name": "stdout",
     "output_type": "stream",
     "text": [
      "13/16 [=======================>......] - ETA: 2s - factorized_top_k/top_1_categorical_accuracy: 0.0132 - factorized_top_k/top_5_categorical_accuracy: 0.0132 - factorized_top_k/top_10_categorical_accuracy: 0.0134 - factorized_top_k/top_50_categorical_accuracy: 0.0665 - factorized_top_k/top_100_categorical_accuracy: 0.1976 - loss: 4834.8152 - regularization_loss: 0.0000e+00 - total_loss: 4834.8152"
     ]
    },
    {
     "name": "stderr",
     "output_type": "stream",
     "text": [
      "2023-06-13 20:13:22.170171: I tensorflow/core/common_runtime/executor.cc:1197] [/device:CPU:0] (DEBUG INFO) Executor start aborting (this does not indicate an error and you can ignore this message): INVALID_ARGUMENT: You must feed a value for placeholder tensor 'Placeholder/_6' with dtype resource\n",
      "\t [[{{node Placeholder/_6}}]]\n"
     ]
    },
    {
     "name": "stdout",
     "output_type": "stream",
     "text": [
      "14/16 [=========================>....] - ETA: 1s - factorized_top_k/top_1_categorical_accuracy: 0.0139 - factorized_top_k/top_5_categorical_accuracy: 0.0139 - factorized_top_k/top_10_categorical_accuracy: 0.0141 - factorized_top_k/top_50_categorical_accuracy: 0.0713 - factorized_top_k/top_100_categorical_accuracy: 0.2044 - loss: 4754.3514 - regularization_loss: 0.0000e+00 - total_loss: 4754.3514"
     ]
    },
    {
     "name": "stderr",
     "output_type": "stream",
     "text": [
      "2023-06-13 20:13:22.922956: I tensorflow/core/common_runtime/executor.cc:1197] [/device:CPU:0] (DEBUG INFO) Executor start aborting (this does not indicate an error and you can ignore this message): INVALID_ARGUMENT: You must feed a value for placeholder tensor 'Placeholder/_6' with dtype resource\n",
      "\t [[{{node Placeholder/_6}}]]\n"
     ]
    },
    {
     "name": "stdout",
     "output_type": "stream",
     "text": [
      "15/16 [===========================>..] - ETA: 0s - factorized_top_k/top_1_categorical_accuracy: 0.0155 - factorized_top_k/top_5_categorical_accuracy: 0.0155 - factorized_top_k/top_10_categorical_accuracy: 0.0158 - factorized_top_k/top_50_categorical_accuracy: 0.0742 - factorized_top_k/top_100_categorical_accuracy: 0.2095 - loss: 4680.0719 - regularization_loss: 0.0000e+00 - total_loss: 4680.0719"
     ]
    },
    {
     "name": "stderr",
     "output_type": "stream",
     "text": [
      "2023-06-13 20:13:23.675945: I tensorflow/core/common_runtime/executor.cc:1197] [/device:CPU:0] (DEBUG INFO) Executor start aborting (this does not indicate an error and you can ignore this message): INVALID_ARGUMENT: You must feed a value for placeholder tensor 'Placeholder/_6' with dtype resource\n",
      "\t [[{{node Placeholder/_6}}]]\n"
     ]
    },
    {
     "name": "stdout",
     "output_type": "stream",
     "text": [
      "16/16 [==============================] - 13s 803ms/step - factorized_top_k/top_1_categorical_accuracy: 0.0164 - factorized_top_k/top_5_categorical_accuracy: 0.0164 - factorized_top_k/top_10_categorical_accuracy: 0.0166 - factorized_top_k/top_50_categorical_accuracy: 0.0782 - factorized_top_k/top_100_categorical_accuracy: 0.2183 - loss: 4544.6923 - regularization_loss: 0.0000e+00 - total_loss: 4544.6923\n",
      "Epoch 3/10\n"
     ]
    },
    {
     "name": "stderr",
     "output_type": "stream",
     "text": [
      "2023-06-13 20:13:24.451052: I tensorflow/core/common_runtime/executor.cc:1197] [/device:CPU:0] (DEBUG INFO) Executor start aborting (this does not indicate an error and you can ignore this message): INVALID_ARGUMENT: You must feed a value for placeholder tensor 'Placeholder/_6' with dtype resource\n",
      "\t [[{{node Placeholder/_6}}]]\n"
     ]
    },
    {
     "name": "stdout",
     "output_type": "stream",
     "text": [
      " 1/16 [>.............................] - ETA: 12s - factorized_top_k/top_1_categorical_accuracy: 0.0360 - factorized_top_k/top_5_categorical_accuracy: 0.0360 - factorized_top_k/top_10_categorical_accuracy: 0.0400 - factorized_top_k/top_50_categorical_accuracy: 0.1510 - factorized_top_k/top_100_categorical_accuracy: 0.3530 - loss: 3462.2588 - regularization_loss: 0.0000e+00 - total_loss: 3462.2588"
     ]
    },
    {
     "name": "stderr",
     "output_type": "stream",
     "text": [
      "2023-06-13 20:13:25.274762: I tensorflow/core/common_runtime/executor.cc:1197] [/device:CPU:0] (DEBUG INFO) Executor start aborting (this does not indicate an error and you can ignore this message): INVALID_ARGUMENT: You must feed a value for placeholder tensor 'Placeholder/_8' with dtype resource\n",
      "\t [[{{node Placeholder/_8}}]]\n"
     ]
    },
    {
     "name": "stdout",
     "output_type": "stream",
     "text": [
      " 2/16 [==>...........................] - ETA: 11s - factorized_top_k/top_1_categorical_accuracy: 0.0270 - factorized_top_k/top_5_categorical_accuracy: 0.0270 - factorized_top_k/top_10_categorical_accuracy: 0.0295 - factorized_top_k/top_50_categorical_accuracy: 0.1520 - factorized_top_k/top_100_categorical_accuracy: 0.3570 - loss: 3440.5063 - regularization_loss: 0.0000e+00 - total_loss: 3440.5063"
     ]
    },
    {
     "name": "stderr",
     "output_type": "stream",
     "text": [
      "2023-06-13 20:13:26.103870: I tensorflow/core/common_runtime/executor.cc:1197] [/device:CPU:0] (DEBUG INFO) Executor start aborting (this does not indicate an error and you can ignore this message): INVALID_ARGUMENT: You must feed a value for placeholder tensor 'Placeholder/_0' with dtype string and shape [20232]\n",
      "\t [[{{node Placeholder/_0}}]]\n"
     ]
    },
    {
     "name": "stdout",
     "output_type": "stream",
     "text": [
      " 3/16 [====>.........................] - ETA: 10s - factorized_top_k/top_1_categorical_accuracy: 0.0273 - factorized_top_k/top_5_categorical_accuracy: 0.0273 - factorized_top_k/top_10_categorical_accuracy: 0.0307 - factorized_top_k/top_50_categorical_accuracy: 0.1580 - factorized_top_k/top_100_categorical_accuracy: 0.3663 - loss: 3437.2533 - regularization_loss: 0.0000e+00 - total_loss: 3437.2533"
     ]
    },
    {
     "name": "stderr",
     "output_type": "stream",
     "text": [
      "2023-06-13 20:13:26.866841: I tensorflow/core/common_runtime/executor.cc:1197] [/device:CPU:0] (DEBUG INFO) Executor start aborting (this does not indicate an error and you can ignore this message): INVALID_ARGUMENT: You must feed a value for placeholder tensor 'Placeholder/_0' with dtype string and shape [20232]\n",
      "\t [[{{node Placeholder/_0}}]]\n"
     ]
    },
    {
     "name": "stdout",
     "output_type": "stream",
     "text": [
      " 4/16 [======>.......................] - ETA: 9s - factorized_top_k/top_1_categorical_accuracy: 0.0292 - factorized_top_k/top_5_categorical_accuracy: 0.0292 - factorized_top_k/top_10_categorical_accuracy: 0.0325 - factorized_top_k/top_50_categorical_accuracy: 0.1573 - factorized_top_k/top_100_categorical_accuracy: 0.3708 - loss: 3406.7491 - regularization_loss: 0.0000e+00 - total_loss: 3406.7491 "
     ]
    },
    {
     "name": "stderr",
     "output_type": "stream",
     "text": [
      "2023-06-13 20:13:27.632171: I tensorflow/core/common_runtime/executor.cc:1197] [/device:CPU:0] (DEBUG INFO) Executor start aborting (this does not indicate an error and you can ignore this message): INVALID_ARGUMENT: You must feed a value for placeholder tensor 'Placeholder/_8' with dtype resource\n",
      "\t [[{{node Placeholder/_8}}]]\n"
     ]
    },
    {
     "name": "stdout",
     "output_type": "stream",
     "text": [
      " 5/16 [========>.....................] - ETA: 8s - factorized_top_k/top_1_categorical_accuracy: 0.0332 - factorized_top_k/top_5_categorical_accuracy: 0.0332 - factorized_top_k/top_10_categorical_accuracy: 0.0368 - factorized_top_k/top_50_categorical_accuracy: 0.1678 - factorized_top_k/top_100_categorical_accuracy: 0.3790 - loss: 3378.1729 - regularization_loss: 0.0000e+00 - total_loss: 3378.1729"
     ]
    },
    {
     "name": "stderr",
     "output_type": "stream",
     "text": [
      "2023-06-13 20:13:28.393964: I tensorflow/core/common_runtime/executor.cc:1197] [/device:CPU:0] (DEBUG INFO) Executor start aborting (this does not indicate an error and you can ignore this message): INVALID_ARGUMENT: You must feed a value for placeholder tensor 'Placeholder/_6' with dtype resource\n",
      "\t [[{{node Placeholder/_6}}]]\n"
     ]
    },
    {
     "name": "stdout",
     "output_type": "stream",
     "text": [
      " 6/16 [==========>...................] - ETA: 7s - factorized_top_k/top_1_categorical_accuracy: 0.0348 - factorized_top_k/top_5_categorical_accuracy: 0.0348 - factorized_top_k/top_10_categorical_accuracy: 0.0387 - factorized_top_k/top_50_categorical_accuracy: 0.1708 - factorized_top_k/top_100_categorical_accuracy: 0.3777 - loss: 3359.8329 - regularization_loss: 0.0000e+00 - total_loss: 3359.8329"
     ]
    },
    {
     "name": "stderr",
     "output_type": "stream",
     "text": [
      "2023-06-13 20:13:29.200823: I tensorflow/core/common_runtime/executor.cc:1197] [/device:CPU:0] (DEBUG INFO) Executor start aborting (this does not indicate an error and you can ignore this message): INVALID_ARGUMENT: You must feed a value for placeholder tensor 'Placeholder/_8' with dtype resource\n",
      "\t [[{{node Placeholder/_8}}]]\n"
     ]
    },
    {
     "name": "stdout",
     "output_type": "stream",
     "text": [
      " 7/16 [============>.................] - ETA: 7s - factorized_top_k/top_1_categorical_accuracy: 0.0366 - factorized_top_k/top_5_categorical_accuracy: 0.0366 - factorized_top_k/top_10_categorical_accuracy: 0.0406 - factorized_top_k/top_50_categorical_accuracy: 0.1736 - factorized_top_k/top_100_categorical_accuracy: 0.3843 - loss: 3340.0001 - regularization_loss: 0.0000e+00 - total_loss: 3340.0001"
     ]
    },
    {
     "name": "stderr",
     "output_type": "stream",
     "text": [
      "2023-06-13 20:13:29.982313: I tensorflow/core/common_runtime/executor.cc:1197] [/device:CPU:0] (DEBUG INFO) Executor start aborting (this does not indicate an error and you can ignore this message): INVALID_ARGUMENT: You must feed a value for placeholder tensor 'Placeholder/_10' with dtype resource\n",
      "\t [[{{node Placeholder/_10}}]]\n"
     ]
    },
    {
     "name": "stdout",
     "output_type": "stream",
     "text": [
      " 8/16 [==============>...............] - ETA: 6s - factorized_top_k/top_1_categorical_accuracy: 0.0369 - factorized_top_k/top_5_categorical_accuracy: 0.0369 - factorized_top_k/top_10_categorical_accuracy: 0.0421 - factorized_top_k/top_50_categorical_accuracy: 0.1784 - factorized_top_k/top_100_categorical_accuracy: 0.3884 - loss: 3315.8096 - regularization_loss: 0.0000e+00 - total_loss: 3315.8096"
     ]
    },
    {
     "name": "stderr",
     "output_type": "stream",
     "text": [
      "2023-06-13 20:13:30.857846: I tensorflow/core/common_runtime/executor.cc:1197] [/device:CPU:0] (DEBUG INFO) Executor start aborting (this does not indicate an error and you can ignore this message): INVALID_ARGUMENT: You must feed a value for placeholder tensor 'Placeholder/_6' with dtype resource\n",
      "\t [[{{node Placeholder/_6}}]]\n"
     ]
    },
    {
     "name": "stdout",
     "output_type": "stream",
     "text": [
      " 9/16 [===============>..............] - ETA: 5s - factorized_top_k/top_1_categorical_accuracy: 0.0379 - factorized_top_k/top_5_categorical_accuracy: 0.0379 - factorized_top_k/top_10_categorical_accuracy: 0.0433 - factorized_top_k/top_50_categorical_accuracy: 0.1800 - factorized_top_k/top_100_categorical_accuracy: 0.3888 - loss: 3295.6513 - regularization_loss: 0.0000e+00 - total_loss: 3295.6513"
     ]
    },
    {
     "name": "stderr",
     "output_type": "stream",
     "text": [
      "2023-06-13 20:13:31.620135: I tensorflow/core/common_runtime/executor.cc:1197] [/device:CPU:0] (DEBUG INFO) Executor start aborting (this does not indicate an error and you can ignore this message): INVALID_ARGUMENT: You must feed a value for placeholder tensor 'Placeholder/_6' with dtype resource\n",
      "\t [[{{node Placeholder/_6}}]]\n"
     ]
    },
    {
     "name": "stdout",
     "output_type": "stream",
     "text": [
      "10/16 [=================>............] - ETA: 4s - factorized_top_k/top_1_categorical_accuracy: 0.0387 - factorized_top_k/top_5_categorical_accuracy: 0.0387 - factorized_top_k/top_10_categorical_accuracy: 0.0442 - factorized_top_k/top_50_categorical_accuracy: 0.1827 - factorized_top_k/top_100_categorical_accuracy: 0.3901 - loss: 3281.7827 - regularization_loss: 0.0000e+00 - total_loss: 3281.7827"
     ]
    },
    {
     "name": "stderr",
     "output_type": "stream",
     "text": [
      "2023-06-13 20:13:32.505944: I tensorflow/core/common_runtime/executor.cc:1197] [/device:CPU:0] (DEBUG INFO) Executor start aborting (this does not indicate an error and you can ignore this message): INVALID_ARGUMENT: You must feed a value for placeholder tensor 'Placeholder/_6' with dtype resource\n",
      "\t [[{{node Placeholder/_6}}]]\n"
     ]
    },
    {
     "name": "stdout",
     "output_type": "stream",
     "text": [
      "11/16 [===================>..........] - ETA: 4s - factorized_top_k/top_1_categorical_accuracy: 0.0390 - factorized_top_k/top_5_categorical_accuracy: 0.0390 - factorized_top_k/top_10_categorical_accuracy: 0.0449 - factorized_top_k/top_50_categorical_accuracy: 0.1841 - factorized_top_k/top_100_categorical_accuracy: 0.3941 - loss: 3266.3994 - regularization_loss: 0.0000e+00 - total_loss: 3266.3994"
     ]
    },
    {
     "name": "stderr",
     "output_type": "stream",
     "text": [
      "2023-06-13 20:13:33.383070: I tensorflow/core/common_runtime/executor.cc:1197] [/device:CPU:0] (DEBUG INFO) Executor start aborting (this does not indicate an error and you can ignore this message): INVALID_ARGUMENT: You must feed a value for placeholder tensor 'Placeholder/_8' with dtype resource\n",
      "\t [[{{node Placeholder/_8}}]]\n"
     ]
    },
    {
     "name": "stdout",
     "output_type": "stream",
     "text": [
      "12/16 [=====================>........] - ETA: 3s - factorized_top_k/top_1_categorical_accuracy: 0.0411 - factorized_top_k/top_5_categorical_accuracy: 0.0411 - factorized_top_k/top_10_categorical_accuracy: 0.0473 - factorized_top_k/top_50_categorical_accuracy: 0.1867 - factorized_top_k/top_100_categorical_accuracy: 0.3972 - loss: 3257.7125 - regularization_loss: 0.0000e+00 - total_loss: 3257.7125"
     ]
    },
    {
     "name": "stderr",
     "output_type": "stream",
     "text": [
      "2023-06-13 20:13:34.273568: I tensorflow/core/common_runtime/executor.cc:1197] [/device:CPU:0] (DEBUG INFO) Executor start aborting (this does not indicate an error and you can ignore this message): INVALID_ARGUMENT: You must feed a value for placeholder tensor 'Placeholder/_6' with dtype resource\n",
      "\t [[{{node Placeholder/_6}}]]\n"
     ]
    },
    {
     "name": "stdout",
     "output_type": "stream",
     "text": [
      "13/16 [=======================>......] - ETA: 2s - factorized_top_k/top_1_categorical_accuracy: 0.0412 - factorized_top_k/top_5_categorical_accuracy: 0.0412 - factorized_top_k/top_10_categorical_accuracy: 0.0473 - factorized_top_k/top_50_categorical_accuracy: 0.1888 - factorized_top_k/top_100_categorical_accuracy: 0.3985 - loss: 3248.2049 - regularization_loss: 0.0000e+00 - total_loss: 3248.2049"
     ]
    },
    {
     "name": "stderr",
     "output_type": "stream",
     "text": [
      "2023-06-13 20:13:35.382317: I tensorflow/core/common_runtime/executor.cc:1197] [/device:CPU:0] (DEBUG INFO) Executor start aborting (this does not indicate an error and you can ignore this message): INVALID_ARGUMENT: You must feed a value for placeholder tensor 'Placeholder/_6' with dtype resource\n",
      "\t [[{{node Placeholder/_6}}]]\n"
     ]
    },
    {
     "name": "stdout",
     "output_type": "stream",
     "text": [
      "14/16 [=========================>....] - ETA: 1s - factorized_top_k/top_1_categorical_accuracy: 0.0418 - factorized_top_k/top_5_categorical_accuracy: 0.0418 - factorized_top_k/top_10_categorical_accuracy: 0.0482 - factorized_top_k/top_50_categorical_accuracy: 0.1907 - factorized_top_k/top_100_categorical_accuracy: 0.4023 - loss: 3236.1364 - regularization_loss: 0.0000e+00 - total_loss: 3236.1364"
     ]
    },
    {
     "name": "stderr",
     "output_type": "stream",
     "text": [
      "2023-06-13 20:13:36.540225: I tensorflow/core/common_runtime/executor.cc:1197] [/device:CPU:0] (DEBUG INFO) Executor start aborting (this does not indicate an error and you can ignore this message): INVALID_ARGUMENT: You must feed a value for placeholder tensor 'Placeholder/_0' with dtype string and shape [20232]\n",
      "\t [[{{node Placeholder/_0}}]]\n"
     ]
    },
    {
     "name": "stdout",
     "output_type": "stream",
     "text": [
      "15/16 [===========================>..] - ETA: 0s - factorized_top_k/top_1_categorical_accuracy: 0.0420 - factorized_top_k/top_5_categorical_accuracy: 0.0420 - factorized_top_k/top_10_categorical_accuracy: 0.0487 - factorized_top_k/top_50_categorical_accuracy: 0.1919 - factorized_top_k/top_100_categorical_accuracy: 0.4051 - loss: 3222.5777 - regularization_loss: 0.0000e+00 - total_loss: 3222.5777"
     ]
    },
    {
     "name": "stderr",
     "output_type": "stream",
     "text": [
      "2023-06-13 20:13:37.933407: I tensorflow/core/common_runtime/executor.cc:1197] [/device:CPU:0] (DEBUG INFO) Executor start aborting (this does not indicate an error and you can ignore this message): INVALID_ARGUMENT: You must feed a value for placeholder tensor 'Placeholder/_8' with dtype resource\n",
      "\t [[{{node Placeholder/_8}}]]\n"
     ]
    },
    {
     "name": "stdout",
     "output_type": "stream",
     "text": [
      "16/16 [==============================] - 15s 969ms/step - factorized_top_k/top_1_categorical_accuracy: 0.0418 - factorized_top_k/top_5_categorical_accuracy: 0.0418 - factorized_top_k/top_10_categorical_accuracy: 0.0489 - factorized_top_k/top_50_categorical_accuracy: 0.1947 - factorized_top_k/top_100_categorical_accuracy: 0.4088 - loss: 3193.4879 - regularization_loss: 0.0000e+00 - total_loss: 3193.4879\n",
      "Epoch 4/10\n"
     ]
    },
    {
     "name": "stderr",
     "output_type": "stream",
     "text": [
      "2023-06-13 20:13:39.863403: I tensorflow/core/common_runtime/executor.cc:1197] [/device:CPU:0] (DEBUG INFO) Executor start aborting (this does not indicate an error and you can ignore this message): INVALID_ARGUMENT: You must feed a value for placeholder tensor 'Placeholder/_6' with dtype resource\n",
      "\t [[{{node Placeholder/_6}}]]\n"
     ]
    },
    {
     "name": "stdout",
     "output_type": "stream",
     "text": [
      " 1/16 [>.............................] - ETA: 36s - factorized_top_k/top_1_categorical_accuracy: 0.0380 - factorized_top_k/top_5_categorical_accuracy: 0.0380 - factorized_top_k/top_10_categorical_accuracy: 0.0480 - factorized_top_k/top_50_categorical_accuracy: 0.2430 - factorized_top_k/top_100_categorical_accuracy: 0.4730 - loss: 2959.2671 - regularization_loss: 0.0000e+00 - total_loss: 2959.2671"
     ]
    },
    {
     "name": "stderr",
     "output_type": "stream",
     "text": [
      "2023-06-13 20:13:42.325120: I tensorflow/core/common_runtime/executor.cc:1197] [/device:CPU:0] (DEBUG INFO) Executor start aborting (this does not indicate an error and you can ignore this message): INVALID_ARGUMENT: You must feed a value for placeholder tensor 'Placeholder/_12' with dtype float and shape [1000,64]\n",
      "\t [[{{node Placeholder/_12}}]]\n"
     ]
    },
    {
     "name": "stdout",
     "output_type": "stream",
     "text": [
      " 2/16 [==>...........................] - ETA: 34s - factorized_top_k/top_1_categorical_accuracy: 0.0350 - factorized_top_k/top_5_categorical_accuracy: 0.0350 - factorized_top_k/top_10_categorical_accuracy: 0.0485 - factorized_top_k/top_50_categorical_accuracy: 0.2370 - factorized_top_k/top_100_categorical_accuracy: 0.4705 - loss: 2965.3335 - regularization_loss: 0.0000e+00 - total_loss: 2965.3335"
     ]
    },
    {
     "name": "stderr",
     "output_type": "stream",
     "text": [
      "2023-06-13 20:13:44.787095: I tensorflow/core/common_runtime/executor.cc:1197] [/device:CPU:0] (DEBUG INFO) Executor start aborting (this does not indicate an error and you can ignore this message): INVALID_ARGUMENT: You must feed a value for placeholder tensor 'Placeholder/_6' with dtype resource\n",
      "\t [[{{node Placeholder/_6}}]]\n"
     ]
    },
    {
     "name": "stdout",
     "output_type": "stream",
     "text": [
      " 3/16 [====>.........................] - ETA: 34s - factorized_top_k/top_1_categorical_accuracy: 0.0367 - factorized_top_k/top_5_categorical_accuracy: 0.0367 - factorized_top_k/top_10_categorical_accuracy: 0.0487 - factorized_top_k/top_50_categorical_accuracy: 0.2383 - factorized_top_k/top_100_categorical_accuracy: 0.4723 - loss: 2975.0841 - regularization_loss: 0.0000e+00 - total_loss: 2975.0841"
     ]
    },
    {
     "name": "stderr",
     "output_type": "stream",
     "text": [
      "2023-06-13 20:13:47.638413: I tensorflow/core/common_runtime/executor.cc:1197] [/device:CPU:0] (DEBUG INFO) Executor start aborting (this does not indicate an error and you can ignore this message): INVALID_ARGUMENT: You must feed a value for placeholder tensor 'Placeholder/_7' with dtype int64\n",
      "\t [[{{node Placeholder/_7}}]]\n"
     ]
    },
    {
     "name": "stdout",
     "output_type": "stream",
     "text": [
      " 4/16 [======>.......................] - ETA: 30s - factorized_top_k/top_1_categorical_accuracy: 0.0360 - factorized_top_k/top_5_categorical_accuracy: 0.0362 - factorized_top_k/top_10_categorical_accuracy: 0.0495 - factorized_top_k/top_50_categorical_accuracy: 0.2387 - factorized_top_k/top_100_categorical_accuracy: 0.4723 - loss: 2969.8997 - regularization_loss: 0.0000e+00 - total_loss: 2969.8997"
     ]
    },
    {
     "name": "stderr",
     "output_type": "stream",
     "text": [
      "2023-06-13 20:13:49.966704: I tensorflow/core/common_runtime/executor.cc:1197] [/device:CPU:0] (DEBUG INFO) Executor start aborting (this does not indicate an error and you can ignore this message): INVALID_ARGUMENT: You must feed a value for placeholder tensor 'Placeholder/_6' with dtype resource\n",
      "\t [[{{node Placeholder/_6}}]]\n"
     ]
    },
    {
     "name": "stdout",
     "output_type": "stream",
     "text": [
      " 5/16 [========>.....................] - ETA: 26s - factorized_top_k/top_1_categorical_accuracy: 0.0386 - factorized_top_k/top_5_categorical_accuracy: 0.0388 - factorized_top_k/top_10_categorical_accuracy: 0.0528 - factorized_top_k/top_50_categorical_accuracy: 0.2430 - factorized_top_k/top_100_categorical_accuracy: 0.4706 - loss: 2968.7315 - regularization_loss: 0.0000e+00 - total_loss: 2968.7315"
     ]
    },
    {
     "name": "stderr",
     "output_type": "stream",
     "text": [
      "2023-06-13 20:13:51.972210: I tensorflow/core/common_runtime/executor.cc:1197] [/device:CPU:0] (DEBUG INFO) Executor start aborting (this does not indicate an error and you can ignore this message): INVALID_ARGUMENT: You must feed a value for placeholder tensor 'Placeholder/_12' with dtype float and shape [1000,64]\n",
      "\t [[{{node Placeholder/_12}}]]\n"
     ]
    },
    {
     "name": "stdout",
     "output_type": "stream",
     "text": [
      " 6/16 [==========>...................] - ETA: 22s - factorized_top_k/top_1_categorical_accuracy: 0.0380 - factorized_top_k/top_5_categorical_accuracy: 0.0382 - factorized_top_k/top_10_categorical_accuracy: 0.0537 - factorized_top_k/top_50_categorical_accuracy: 0.2427 - factorized_top_k/top_100_categorical_accuracy: 0.4700 - loss: 2962.4792 - regularization_loss: 0.0000e+00 - total_loss: 2962.4792"
     ]
    },
    {
     "name": "stderr",
     "output_type": "stream",
     "text": [
      "2023-06-13 20:13:53.745314: I tensorflow/core/common_runtime/executor.cc:1197] [/device:CPU:0] (DEBUG INFO) Executor start aborting (this does not indicate an error and you can ignore this message): INVALID_ARGUMENT: You must feed a value for placeholder tensor 'Placeholder/_6' with dtype resource\n",
      "\t [[{{node Placeholder/_6}}]]\n"
     ]
    },
    {
     "name": "stdout",
     "output_type": "stream",
     "text": [
      " 7/16 [============>.................] - ETA: 19s - factorized_top_k/top_1_categorical_accuracy: 0.0406 - factorized_top_k/top_5_categorical_accuracy: 0.0407 - factorized_top_k/top_10_categorical_accuracy: 0.0556 - factorized_top_k/top_50_categorical_accuracy: 0.2414 - factorized_top_k/top_100_categorical_accuracy: 0.4693 - loss: 2961.7599 - regularization_loss: 0.0000e+00 - total_loss: 2961.7599"
     ]
    },
    {
     "name": "stderr",
     "output_type": "stream",
     "text": [
      "2023-06-13 20:13:55.195919: I tensorflow/core/common_runtime/executor.cc:1197] [/device:CPU:0] (DEBUG INFO) Executor start aborting (this does not indicate an error and you can ignore this message): INVALID_ARGUMENT: You must feed a value for placeholder tensor 'Placeholder/_6' with dtype resource\n",
      "\t [[{{node Placeholder/_6}}]]\n"
     ]
    },
    {
     "name": "stdout",
     "output_type": "stream",
     "text": [
      " 8/16 [==============>...............] - ETA: 16s - factorized_top_k/top_1_categorical_accuracy: 0.0415 - factorized_top_k/top_5_categorical_accuracy: 0.0417 - factorized_top_k/top_10_categorical_accuracy: 0.0571 - factorized_top_k/top_50_categorical_accuracy: 0.2438 - factorized_top_k/top_100_categorical_accuracy: 0.4663 - loss: 2952.2704 - regularization_loss: 0.0000e+00 - total_loss: 2952.2704"
     ]
    },
    {
     "name": "stderr",
     "output_type": "stream",
     "text": [
      "2023-06-13 20:13:56.601056: I tensorflow/core/common_runtime/executor.cc:1197] [/device:CPU:0] (DEBUG INFO) Executor start aborting (this does not indicate an error and you can ignore this message): INVALID_ARGUMENT: You must feed a value for placeholder tensor 'Placeholder/_12' with dtype float and shape [1000,64]\n",
      "\t [[{{node Placeholder/_12}}]]\n"
     ]
    },
    {
     "name": "stdout",
     "output_type": "stream",
     "text": [
      " 9/16 [===============>..............] - ETA: 13s - factorized_top_k/top_1_categorical_accuracy: 0.0411 - factorized_top_k/top_5_categorical_accuracy: 0.0413 - factorized_top_k/top_10_categorical_accuracy: 0.0560 - factorized_top_k/top_50_categorical_accuracy: 0.2419 - factorized_top_k/top_100_categorical_accuracy: 0.4651 - loss: 2947.2781 - regularization_loss: 0.0000e+00 - total_loss: 2947.2781"
     ]
    },
    {
     "name": "stderr",
     "output_type": "stream",
     "text": [
      "2023-06-13 20:13:57.631271: I tensorflow/core/common_runtime/executor.cc:1197] [/device:CPU:0] (DEBUG INFO) Executor start aborting (this does not indicate an error and you can ignore this message): INVALID_ARGUMENT: You must feed a value for placeholder tensor 'Placeholder/_6' with dtype resource\n",
      "\t [[{{node Placeholder/_6}}]]\n"
     ]
    },
    {
     "name": "stdout",
     "output_type": "stream",
     "text": [
      "10/16 [=================>............] - ETA: 10s - factorized_top_k/top_1_categorical_accuracy: 0.0408 - factorized_top_k/top_5_categorical_accuracy: 0.0412 - factorized_top_k/top_10_categorical_accuracy: 0.0555 - factorized_top_k/top_50_categorical_accuracy: 0.2440 - factorized_top_k/top_100_categorical_accuracy: 0.4663 - loss: 2944.2008 - regularization_loss: 0.0000e+00 - total_loss: 2944.2008"
     ]
    },
    {
     "name": "stderr",
     "output_type": "stream",
     "text": [
      "2023-06-13 20:13:58.552686: I tensorflow/core/common_runtime/executor.cc:1197] [/device:CPU:0] (DEBUG INFO) Executor start aborting (this does not indicate an error and you can ignore this message): INVALID_ARGUMENT: You must feed a value for placeholder tensor 'Placeholder/_6' with dtype resource\n",
      "\t [[{{node Placeholder/_6}}]]\n"
     ]
    },
    {
     "name": "stdout",
     "output_type": "stream",
     "text": [
      "11/16 [===================>..........] - ETA: 8s - factorized_top_k/top_1_categorical_accuracy: 0.0411 - factorized_top_k/top_5_categorical_accuracy: 0.0417 - factorized_top_k/top_10_categorical_accuracy: 0.0562 - factorized_top_k/top_50_categorical_accuracy: 0.2436 - factorized_top_k/top_100_categorical_accuracy: 0.4688 - loss: 2938.2262 - regularization_loss: 0.0000e+00 - total_loss: 2938.2262 "
     ]
    },
    {
     "name": "stderr",
     "output_type": "stream",
     "text": [
      "2023-06-13 20:13:59.508649: I tensorflow/core/common_runtime/executor.cc:1197] [/device:CPU:0] (DEBUG INFO) Executor start aborting (this does not indicate an error and you can ignore this message): INVALID_ARGUMENT: You must feed a value for placeholder tensor 'Placeholder/_12' with dtype float and shape [1000,64]\n",
      "\t [[{{node Placeholder/_12}}]]\n"
     ]
    },
    {
     "name": "stdout",
     "output_type": "stream",
     "text": [
      "12/16 [=====================>........] - ETA: 6s - factorized_top_k/top_1_categorical_accuracy: 0.0430 - factorized_top_k/top_5_categorical_accuracy: 0.0437 - factorized_top_k/top_10_categorical_accuracy: 0.0581 - factorized_top_k/top_50_categorical_accuracy: 0.2453 - factorized_top_k/top_100_categorical_accuracy: 0.4698 - loss: 2939.0806 - regularization_loss: 0.0000e+00 - total_loss: 2939.0806"
     ]
    },
    {
     "name": "stderr",
     "output_type": "stream",
     "text": [
      "2023-06-13 20:14:00.347748: I tensorflow/core/common_runtime/executor.cc:1197] [/device:CPU:0] (DEBUG INFO) Executor start aborting (this does not indicate an error and you can ignore this message): INVALID_ARGUMENT: You must feed a value for placeholder tensor 'Placeholder/_6' with dtype resource\n",
      "\t [[{{node Placeholder/_6}}]]\n"
     ]
    },
    {
     "name": "stdout",
     "output_type": "stream",
     "text": [
      "13/16 [=======================>......] - ETA: 4s - factorized_top_k/top_1_categorical_accuracy: 0.0433 - factorized_top_k/top_5_categorical_accuracy: 0.0442 - factorized_top_k/top_10_categorical_accuracy: 0.0585 - factorized_top_k/top_50_categorical_accuracy: 0.2465 - factorized_top_k/top_100_categorical_accuracy: 0.4680 - loss: 2938.6028 - regularization_loss: 0.0000e+00 - total_loss: 2938.6028"
     ]
    },
    {
     "name": "stderr",
     "output_type": "stream",
     "text": [
      "2023-06-13 20:14:01.149588: I tensorflow/core/common_runtime/executor.cc:1197] [/device:CPU:0] (DEBUG INFO) Executor start aborting (this does not indicate an error and you can ignore this message): INVALID_ARGUMENT: You must feed a value for placeholder tensor 'Placeholder/_10' with dtype resource\n",
      "\t [[{{node Placeholder/_10}}]]\n"
     ]
    },
    {
     "name": "stdout",
     "output_type": "stream",
     "text": [
      "14/16 [=========================>....] - ETA: 3s - factorized_top_k/top_1_categorical_accuracy: 0.0441 - factorized_top_k/top_5_categorical_accuracy: 0.0449 - factorized_top_k/top_10_categorical_accuracy: 0.0590 - factorized_top_k/top_50_categorical_accuracy: 0.2464 - factorized_top_k/top_100_categorical_accuracy: 0.4694 - loss: 2934.3248 - regularization_loss: 0.0000e+00 - total_loss: 2934.3248"
     ]
    },
    {
     "name": "stderr",
     "output_type": "stream",
     "text": [
      "2023-06-13 20:14:02.009596: I tensorflow/core/common_runtime/executor.cc:1197] [/device:CPU:0] (DEBUG INFO) Executor start aborting (this does not indicate an error and you can ignore this message): INVALID_ARGUMENT: You must feed a value for placeholder tensor 'Placeholder/_0' with dtype string and shape [20232]\n",
      "\t [[{{node Placeholder/_0}}]]\n"
     ]
    },
    {
     "name": "stdout",
     "output_type": "stream",
     "text": [
      "15/16 [===========================>..] - ETA: 1s - factorized_top_k/top_1_categorical_accuracy: 0.0443 - factorized_top_k/top_5_categorical_accuracy: 0.0451 - factorized_top_k/top_10_categorical_accuracy: 0.0589 - factorized_top_k/top_50_categorical_accuracy: 0.2473 - factorized_top_k/top_100_categorical_accuracy: 0.4695 - loss: 2929.3435 - regularization_loss: 0.0000e+00 - total_loss: 2929.3435"
     ]
    },
    {
     "name": "stderr",
     "output_type": "stream",
     "text": [
      "2023-06-13 20:14:02.885374: I tensorflow/core/common_runtime/executor.cc:1197] [/device:CPU:0] (DEBUG INFO) Executor start aborting (this does not indicate an error and you can ignore this message): INVALID_ARGUMENT: You must feed a value for placeholder tensor 'Placeholder/_0' with dtype string and shape [20232]\n",
      "\t [[{{node Placeholder/_0}}]]\n"
     ]
    },
    {
     "name": "stdout",
     "output_type": "stream",
     "text": [
      "16/16 [==============================] - 24s 1s/step - factorized_top_k/top_1_categorical_accuracy: 0.0443 - factorized_top_k/top_5_categorical_accuracy: 0.0452 - factorized_top_k/top_10_categorical_accuracy: 0.0591 - factorized_top_k/top_50_categorical_accuracy: 0.2484 - factorized_top_k/top_100_categorical_accuracy: 0.4724 - loss: 2915.9789 - regularization_loss: 0.0000e+00 - total_loss: 2915.9789\n",
      "Epoch 5/10\n"
     ]
    },
    {
     "name": "stderr",
     "output_type": "stream",
     "text": [
      "2023-06-13 20:14:03.742233: I tensorflow/core/common_runtime/executor.cc:1197] [/device:CPU:0] (DEBUG INFO) Executor start aborting (this does not indicate an error and you can ignore this message): INVALID_ARGUMENT: You must feed a value for placeholder tensor 'Placeholder/_12' with dtype float and shape [1000,64]\n",
      "\t [[{{node Placeholder/_12}}]]\n"
     ]
    },
    {
     "name": "stdout",
     "output_type": "stream",
     "text": [
      " 1/16 [>.............................] - ETA: 11s - factorized_top_k/top_1_categorical_accuracy: 0.0360 - factorized_top_k/top_5_categorical_accuracy: 0.0360 - factorized_top_k/top_10_categorical_accuracy: 0.0510 - factorized_top_k/top_50_categorical_accuracy: 0.2830 - factorized_top_k/top_100_categorical_accuracy: 0.5090 - loss: 2803.3716 - regularization_loss: 0.0000e+00 - total_loss: 2803.3716"
     ]
    },
    {
     "name": "stderr",
     "output_type": "stream",
     "text": [
      "2023-06-13 20:14:04.508343: I tensorflow/core/common_runtime/executor.cc:1197] [/device:CPU:0] (DEBUG INFO) Executor start aborting (this does not indicate an error and you can ignore this message): INVALID_ARGUMENT: You must feed a value for placeholder tensor 'Placeholder/_12' with dtype float and shape [1000,64]\n",
      "\t [[{{node Placeholder/_12}}]]\n"
     ]
    },
    {
     "name": "stdout",
     "output_type": "stream",
     "text": [
      " 2/16 [==>...........................] - ETA: 10s - factorized_top_k/top_1_categorical_accuracy: 0.0370 - factorized_top_k/top_5_categorical_accuracy: 0.0375 - factorized_top_k/top_10_categorical_accuracy: 0.0595 - factorized_top_k/top_50_categorical_accuracy: 0.2730 - factorized_top_k/top_100_categorical_accuracy: 0.5045 - loss: 2812.5272 - regularization_loss: 0.0000e+00 - total_loss: 2812.5272"
     ]
    },
    {
     "name": "stderr",
     "output_type": "stream",
     "text": [
      "2023-06-13 20:14:05.280522: I tensorflow/core/common_runtime/executor.cc:1197] [/device:CPU:0] (DEBUG INFO) Executor start aborting (this does not indicate an error and you can ignore this message): INVALID_ARGUMENT: You must feed a value for placeholder tensor 'Placeholder/_10' with dtype resource\n",
      "\t [[{{node Placeholder/_10}}]]\n"
     ]
    },
    {
     "name": "stdout",
     "output_type": "stream",
     "text": [
      " 3/16 [====>.........................] - ETA: 10s - factorized_top_k/top_1_categorical_accuracy: 0.0393 - factorized_top_k/top_5_categorical_accuracy: 0.0397 - factorized_top_k/top_10_categorical_accuracy: 0.0600 - factorized_top_k/top_50_categorical_accuracy: 0.2807 - factorized_top_k/top_100_categorical_accuracy: 0.5123 - loss: 2821.8176 - regularization_loss: 0.0000e+00 - total_loss: 2821.8176"
     ]
    },
    {
     "name": "stderr",
     "output_type": "stream",
     "text": [
      "2023-06-13 20:14:06.132918: I tensorflow/core/common_runtime/executor.cc:1197] [/device:CPU:0] (DEBUG INFO) Executor start aborting (this does not indicate an error and you can ignore this message): INVALID_ARGUMENT: You must feed a value for placeholder tensor 'Placeholder/_8' with dtype resource\n",
      "\t [[{{node Placeholder/_8}}]]\n"
     ]
    },
    {
     "name": "stdout",
     "output_type": "stream",
     "text": [
      " 4/16 [======>.......................] - ETA: 9s - factorized_top_k/top_1_categorical_accuracy: 0.0410 - factorized_top_k/top_5_categorical_accuracy: 0.0417 - factorized_top_k/top_10_categorical_accuracy: 0.0615 - factorized_top_k/top_50_categorical_accuracy: 0.2765 - factorized_top_k/top_100_categorical_accuracy: 0.5067 - loss: 2824.2933 - regularization_loss: 0.0000e+00 - total_loss: 2824.2933 "
     ]
    },
    {
     "name": "stderr",
     "output_type": "stream",
     "text": [
      "2023-06-13 20:14:06.967955: I tensorflow/core/common_runtime/executor.cc:1197] [/device:CPU:0] (DEBUG INFO) Executor start aborting (this does not indicate an error and you can ignore this message): INVALID_ARGUMENT: You must feed a value for placeholder tensor 'Placeholder/_12' with dtype float and shape [1000,64]\n",
      "\t [[{{node Placeholder/_12}}]]\n"
     ]
    },
    {
     "name": "stdout",
     "output_type": "stream",
     "text": [
      " 5/16 [========>.....................] - ETA: 9s - factorized_top_k/top_1_categorical_accuracy: 0.0430 - factorized_top_k/top_5_categorical_accuracy: 0.0442 - factorized_top_k/top_10_categorical_accuracy: 0.0636 - factorized_top_k/top_50_categorical_accuracy: 0.2786 - factorized_top_k/top_100_categorical_accuracy: 0.5076 - loss: 2829.8119 - regularization_loss: 0.0000e+00 - total_loss: 2829.8119"
     ]
    },
    {
     "name": "stderr",
     "output_type": "stream",
     "text": [
      "2023-06-13 20:14:07.872875: I tensorflow/core/common_runtime/executor.cc:1197] [/device:CPU:0] (DEBUG INFO) Executor start aborting (this does not indicate an error and you can ignore this message): INVALID_ARGUMENT: You must feed a value for placeholder tensor 'Placeholder/_8' with dtype resource\n",
      "\t [[{{node Placeholder/_8}}]]\n"
     ]
    },
    {
     "name": "stdout",
     "output_type": "stream",
     "text": [
      " 6/16 [==========>...................] - ETA: 8s - factorized_top_k/top_1_categorical_accuracy: 0.0448 - factorized_top_k/top_5_categorical_accuracy: 0.0462 - factorized_top_k/top_10_categorical_accuracy: 0.0658 - factorized_top_k/top_50_categorical_accuracy: 0.2787 - factorized_top_k/top_100_categorical_accuracy: 0.5045 - loss: 2824.3166 - regularization_loss: 0.0000e+00 - total_loss: 2824.3166"
     ]
    },
    {
     "name": "stderr",
     "output_type": "stream",
     "text": [
      "2023-06-13 20:14:08.746824: I tensorflow/core/common_runtime/executor.cc:1197] [/device:CPU:0] (DEBUG INFO) Executor start aborting (this does not indicate an error and you can ignore this message): INVALID_ARGUMENT: You must feed a value for placeholder tensor 'Placeholder/_8' with dtype resource\n",
      "\t [[{{node Placeholder/_8}}]]\n"
     ]
    },
    {
     "name": "stdout",
     "output_type": "stream",
     "text": [
      " 7/16 [============>.................] - ETA: 7s - factorized_top_k/top_1_categorical_accuracy: 0.0463 - factorized_top_k/top_5_categorical_accuracy: 0.0477 - factorized_top_k/top_10_categorical_accuracy: 0.0669 - factorized_top_k/top_50_categorical_accuracy: 0.2766 - factorized_top_k/top_100_categorical_accuracy: 0.5024 - loss: 2825.0554 - regularization_loss: 0.0000e+00 - total_loss: 2825.0554"
     ]
    },
    {
     "name": "stderr",
     "output_type": "stream",
     "text": [
      "2023-06-13 20:14:09.616974: I tensorflow/core/common_runtime/executor.cc:1197] [/device:CPU:0] (DEBUG INFO) Executor start aborting (this does not indicate an error and you can ignore this message): INVALID_ARGUMENT: You must feed a value for placeholder tensor 'Placeholder/_12' with dtype float and shape [1000,64]\n",
      "\t [[{{node Placeholder/_12}}]]\n"
     ]
    },
    {
     "name": "stdout",
     "output_type": "stream",
     "text": [
      " 8/16 [==============>...............] - ETA: 6s - factorized_top_k/top_1_categorical_accuracy: 0.0471 - factorized_top_k/top_5_categorical_accuracy: 0.0487 - factorized_top_k/top_10_categorical_accuracy: 0.0683 - factorized_top_k/top_50_categorical_accuracy: 0.2763 - factorized_top_k/top_100_categorical_accuracy: 0.4985 - loss: 2819.7603 - regularization_loss: 0.0000e+00 - total_loss: 2819.7603"
     ]
    },
    {
     "name": "stderr",
     "output_type": "stream",
     "text": [
      "2023-06-13 20:14:10.601681: I tensorflow/core/common_runtime/executor.cc:1197] [/device:CPU:0] (DEBUG INFO) Executor start aborting (this does not indicate an error and you can ignore this message): INVALID_ARGUMENT: You must feed a value for placeholder tensor 'Placeholder/_12' with dtype float and shape [1000,64]\n",
      "\t [[{{node Placeholder/_12}}]]\n"
     ]
    },
    {
     "name": "stdout",
     "output_type": "stream",
     "text": [
      " 9/16 [===============>..............] - ETA: 6s - factorized_top_k/top_1_categorical_accuracy: 0.0461 - factorized_top_k/top_5_categorical_accuracy: 0.0478 - factorized_top_k/top_10_categorical_accuracy: 0.0661 - factorized_top_k/top_50_categorical_accuracy: 0.2744 - factorized_top_k/top_100_categorical_accuracy: 0.4963 - loss: 2818.5666 - regularization_loss: 0.0000e+00 - total_loss: 2818.5666"
     ]
    },
    {
     "name": "stderr",
     "output_type": "stream",
     "text": [
      "2023-06-13 20:14:11.580916: I tensorflow/core/common_runtime/executor.cc:1197] [/device:CPU:0] (DEBUG INFO) Executor start aborting (this does not indicate an error and you can ignore this message): INVALID_ARGUMENT: You must feed a value for placeholder tensor 'Placeholder/_7' with dtype int64\n",
      "\t [[{{node Placeholder/_7}}]]\n"
     ]
    },
    {
     "name": "stdout",
     "output_type": "stream",
     "text": [
      "10/16 [=================>............] - ETA: 5s - factorized_top_k/top_1_categorical_accuracy: 0.0458 - factorized_top_k/top_5_categorical_accuracy: 0.0477 - factorized_top_k/top_10_categorical_accuracy: 0.0658 - factorized_top_k/top_50_categorical_accuracy: 0.2749 - factorized_top_k/top_100_categorical_accuracy: 0.4968 - loss: 2816.8062 - regularization_loss: 0.0000e+00 - total_loss: 2816.8062"
     ]
    },
    {
     "name": "stderr",
     "output_type": "stream",
     "text": [
      "2023-06-13 20:14:12.612003: I tensorflow/core/common_runtime/executor.cc:1197] [/device:CPU:0] (DEBUG INFO) Executor start aborting (this does not indicate an error and you can ignore this message): INVALID_ARGUMENT: You must feed a value for placeholder tensor 'Placeholder/_6' with dtype resource\n",
      "\t [[{{node Placeholder/_6}}]]\n"
     ]
    },
    {
     "name": "stdout",
     "output_type": "stream",
     "text": [
      "11/16 [===================>..........] - ETA: 4s - factorized_top_k/top_1_categorical_accuracy: 0.0458 - factorized_top_k/top_5_categorical_accuracy: 0.0478 - factorized_top_k/top_10_categorical_accuracy: 0.0664 - factorized_top_k/top_50_categorical_accuracy: 0.2745 - factorized_top_k/top_100_categorical_accuracy: 0.4993 - loss: 2812.3010 - regularization_loss: 0.0000e+00 - total_loss: 2812.3010"
     ]
    },
    {
     "name": "stderr",
     "output_type": "stream",
     "text": [
      "2023-06-13 20:14:13.669583: I tensorflow/core/common_runtime/executor.cc:1197] [/device:CPU:0] (DEBUG INFO) Executor start aborting (this does not indicate an error and you can ignore this message): INVALID_ARGUMENT: You must feed a value for placeholder tensor 'Placeholder/_12' with dtype float and shape [1000,64]\n",
      "\t [[{{node Placeholder/_12}}]]\n"
     ]
    },
    {
     "name": "stdout",
     "output_type": "stream",
     "text": [
      "12/16 [=====================>........] - ETA: 3s - factorized_top_k/top_1_categorical_accuracy: 0.0464 - factorized_top_k/top_5_categorical_accuracy: 0.0483 - factorized_top_k/top_10_categorical_accuracy: 0.0663 - factorized_top_k/top_50_categorical_accuracy: 0.2744 - factorized_top_k/top_100_categorical_accuracy: 0.4994 - loss: 2814.0484 - regularization_loss: 0.0000e+00 - total_loss: 2814.0484"
     ]
    },
    {
     "name": "stderr",
     "output_type": "stream",
     "text": [
      "2023-06-13 20:14:14.783465: I tensorflow/core/common_runtime/executor.cc:1197] [/device:CPU:0] (DEBUG INFO) Executor start aborting (this does not indicate an error and you can ignore this message): INVALID_ARGUMENT: You must feed a value for placeholder tensor 'Placeholder/_12' with dtype float and shape [1000,64]\n",
      "\t [[{{node Placeholder/_12}}]]\n"
     ]
    },
    {
     "name": "stdout",
     "output_type": "stream",
     "text": [
      "13/16 [=======================>......] - ETA: 2s - factorized_top_k/top_1_categorical_accuracy: 0.0463 - factorized_top_k/top_5_categorical_accuracy: 0.0481 - factorized_top_k/top_10_categorical_accuracy: 0.0660 - factorized_top_k/top_50_categorical_accuracy: 0.2746 - factorized_top_k/top_100_categorical_accuracy: 0.4978 - loss: 2814.8869 - regularization_loss: 0.0000e+00 - total_loss: 2814.8869"
     ]
    },
    {
     "name": "stderr",
     "output_type": "stream",
     "text": [
      "2023-06-13 20:14:15.931545: I tensorflow/core/common_runtime/executor.cc:1197] [/device:CPU:0] (DEBUG INFO) Executor start aborting (this does not indicate an error and you can ignore this message): INVALID_ARGUMENT: You must feed a value for placeholder tensor 'Placeholder/_6' with dtype resource\n",
      "\t [[{{node Placeholder/_6}}]]\n"
     ]
    },
    {
     "name": "stdout",
     "output_type": "stream",
     "text": [
      "14/16 [=========================>....] - ETA: 1s - factorized_top_k/top_1_categorical_accuracy: 0.0466 - factorized_top_k/top_5_categorical_accuracy: 0.0484 - factorized_top_k/top_10_categorical_accuracy: 0.0666 - factorized_top_k/top_50_categorical_accuracy: 0.2736 - factorized_top_k/top_100_categorical_accuracy: 0.4989 - loss: 2811.8741 - regularization_loss: 0.0000e+00 - total_loss: 2811.8741"
     ]
    },
    {
     "name": "stderr",
     "output_type": "stream",
     "text": [
      "2023-06-13 20:14:17.304025: I tensorflow/core/common_runtime/executor.cc:1197] [/device:CPU:0] (DEBUG INFO) Executor start aborting (this does not indicate an error and you can ignore this message): INVALID_ARGUMENT: You must feed a value for placeholder tensor 'Placeholder/_7' with dtype int64\n",
      "\t [[{{node Placeholder/_7}}]]\n"
     ]
    },
    {
     "name": "stdout",
     "output_type": "stream",
     "text": [
      "15/16 [===========================>..] - ETA: 1s - factorized_top_k/top_1_categorical_accuracy: 0.0462 - factorized_top_k/top_5_categorical_accuracy: 0.0481 - factorized_top_k/top_10_categorical_accuracy: 0.0661 - factorized_top_k/top_50_categorical_accuracy: 0.2739 - factorized_top_k/top_100_categorical_accuracy: 0.4993 - loss: 2808.8009 - regularization_loss: 0.0000e+00 - total_loss: 2808.8009"
     ]
    },
    {
     "name": "stderr",
     "output_type": "stream",
     "text": [
      "2023-06-13 20:14:18.626584: I tensorflow/core/common_runtime/executor.cc:1197] [/device:CPU:0] (DEBUG INFO) Executor start aborting (this does not indicate an error and you can ignore this message): INVALID_ARGUMENT: You must feed a value for placeholder tensor 'Placeholder/_7' with dtype int64\n",
      "\t [[{{node Placeholder/_7}}]]\n"
     ]
    },
    {
     "name": "stdout",
     "output_type": "stream",
     "text": [
      "16/16 [==============================] - 16s 1s/step - factorized_top_k/top_1_categorical_accuracy: 0.0457 - factorized_top_k/top_5_categorical_accuracy: 0.0477 - factorized_top_k/top_10_categorical_accuracy: 0.0662 - factorized_top_k/top_50_categorical_accuracy: 0.2747 - factorized_top_k/top_100_categorical_accuracy: 0.5011 - loss: 2800.1273 - regularization_loss: 0.0000e+00 - total_loss: 2800.1273\n",
      "Epoch 6/10\n"
     ]
    },
    {
     "name": "stderr",
     "output_type": "stream",
     "text": [
      "2023-06-13 20:14:19.971987: I tensorflow/core/common_runtime/executor.cc:1197] [/device:CPU:0] (DEBUG INFO) Executor start aborting (this does not indicate an error and you can ignore this message): INVALID_ARGUMENT: You must feed a value for placeholder tensor 'Placeholder/_6' with dtype resource\n",
      "\t [[{{node Placeholder/_6}}]]\n"
     ]
    },
    {
     "name": "stdout",
     "output_type": "stream",
     "text": [
      " 1/16 [>.............................] - ETA: 22s - factorized_top_k/top_1_categorical_accuracy: 0.0430 - factorized_top_k/top_5_categorical_accuracy: 0.0450 - factorized_top_k/top_10_categorical_accuracy: 0.0710 - factorized_top_k/top_50_categorical_accuracy: 0.3000 - factorized_top_k/top_100_categorical_accuracy: 0.5200 - loss: 2722.0662 - regularization_loss: 0.0000e+00 - total_loss: 2722.0662"
     ]
    },
    {
     "name": "stderr",
     "output_type": "stream",
     "text": [
      "2023-06-13 20:14:21.471849: I tensorflow/core/common_runtime/executor.cc:1197] [/device:CPU:0] (DEBUG INFO) Executor start aborting (this does not indicate an error and you can ignore this message): INVALID_ARGUMENT: You must feed a value for placeholder tensor 'Placeholder/_6' with dtype resource\n",
      "\t [[{{node Placeholder/_6}}]]\n"
     ]
    },
    {
     "name": "stdout",
     "output_type": "stream",
     "text": [
      " 2/16 [==>...........................] - ETA: 21s - factorized_top_k/top_1_categorical_accuracy: 0.0430 - factorized_top_k/top_5_categorical_accuracy: 0.0445 - factorized_top_k/top_10_categorical_accuracy: 0.0765 - factorized_top_k/top_50_categorical_accuracy: 0.2845 - factorized_top_k/top_100_categorical_accuracy: 0.5175 - loss: 2732.4435 - regularization_loss: 0.0000e+00 - total_loss: 2732.4435"
     ]
    },
    {
     "name": "stderr",
     "output_type": "stream",
     "text": [
      "2023-06-13 20:14:23.003822: I tensorflow/core/common_runtime/executor.cc:1197] [/device:CPU:0] (DEBUG INFO) Executor start aborting (this does not indicate an error and you can ignore this message): INVALID_ARGUMENT: You must feed a value for placeholder tensor 'Placeholder/_7' with dtype int64\n",
      "\t [[{{node Placeholder/_7}}]]\n"
     ]
    },
    {
     "name": "stdout",
     "output_type": "stream",
     "text": [
      " 3/16 [====>.........................] - ETA: 21s - factorized_top_k/top_1_categorical_accuracy: 0.0437 - factorized_top_k/top_5_categorical_accuracy: 0.0460 - factorized_top_k/top_10_categorical_accuracy: 0.0740 - factorized_top_k/top_50_categorical_accuracy: 0.2937 - factorized_top_k/top_100_categorical_accuracy: 0.5223 - loss: 2738.4430 - regularization_loss: 0.0000e+00 - total_loss: 2738.4430"
     ]
    },
    {
     "name": "stderr",
     "output_type": "stream",
     "text": [
      "2023-06-13 20:14:24.718653: I tensorflow/core/common_runtime/executor.cc:1197] [/device:CPU:0] (DEBUG INFO) Executor start aborting (this does not indicate an error and you can ignore this message): INVALID_ARGUMENT: You must feed a value for placeholder tensor 'Placeholder/_6' with dtype resource\n",
      "\t [[{{node Placeholder/_6}}]]\n"
     ]
    },
    {
     "name": "stdout",
     "output_type": "stream",
     "text": [
      " 4/16 [======>.......................] - ETA: 18s - factorized_top_k/top_1_categorical_accuracy: 0.0445 - factorized_top_k/top_5_categorical_accuracy: 0.0475 - factorized_top_k/top_10_categorical_accuracy: 0.0747 - factorized_top_k/top_50_categorical_accuracy: 0.2900 - factorized_top_k/top_100_categorical_accuracy: 0.5185 - loss: 2743.5454 - regularization_loss: 0.0000e+00 - total_loss: 2743.5454"
     ]
    },
    {
     "name": "stderr",
     "output_type": "stream",
     "text": [
      "2023-06-13 20:14:26.016405: I tensorflow/core/common_runtime/executor.cc:1197] [/device:CPU:0] (DEBUG INFO) Executor start aborting (this does not indicate an error and you can ignore this message): INVALID_ARGUMENT: You must feed a value for placeholder tensor 'Placeholder/_6' with dtype resource\n",
      "\t [[{{node Placeholder/_6}}]]\n"
     ]
    },
    {
     "name": "stdout",
     "output_type": "stream",
     "text": [
      " 5/16 [========>.....................] - ETA: 15s - factorized_top_k/top_1_categorical_accuracy: 0.0466 - factorized_top_k/top_5_categorical_accuracy: 0.0500 - factorized_top_k/top_10_categorical_accuracy: 0.0752 - factorized_top_k/top_50_categorical_accuracy: 0.2944 - factorized_top_k/top_100_categorical_accuracy: 0.5194 - loss: 2750.1244 - regularization_loss: 0.0000e+00 - total_loss: 2750.1244"
     ]
    },
    {
     "name": "stderr",
     "output_type": "stream",
     "text": [
      "2023-06-13 20:14:27.131260: I tensorflow/core/common_runtime/executor.cc:1197] [/device:CPU:0] (DEBUG INFO) Executor start aborting (this does not indicate an error and you can ignore this message): INVALID_ARGUMENT: You must feed a value for placeholder tensor 'Placeholder/_8' with dtype resource\n",
      "\t [[{{node Placeholder/_8}}]]\n"
     ]
    },
    {
     "name": "stdout",
     "output_type": "stream",
     "text": [
      " 6/16 [==========>...................] - ETA: 13s - factorized_top_k/top_1_categorical_accuracy: 0.0480 - factorized_top_k/top_5_categorical_accuracy: 0.0517 - factorized_top_k/top_10_categorical_accuracy: 0.0763 - factorized_top_k/top_50_categorical_accuracy: 0.2942 - factorized_top_k/top_100_categorical_accuracy: 0.5193 - loss: 2744.7616 - regularization_loss: 0.0000e+00 - total_loss: 2744.7616"
     ]
    },
    {
     "name": "stderr",
     "output_type": "stream",
     "text": [
      "2023-06-13 20:14:28.240096: I tensorflow/core/common_runtime/executor.cc:1197] [/device:CPU:0] (DEBUG INFO) Executor start aborting (this does not indicate an error and you can ignore this message): INVALID_ARGUMENT: You must feed a value for placeholder tensor 'Placeholder/_12' with dtype float and shape [1000,64]\n",
      "\t [[{{node Placeholder/_12}}]]\n"
     ]
    },
    {
     "name": "stdout",
     "output_type": "stream",
     "text": [
      " 7/16 [============>.................] - ETA: 11s - factorized_top_k/top_1_categorical_accuracy: 0.0477 - factorized_top_k/top_5_categorical_accuracy: 0.0514 - factorized_top_k/top_10_categorical_accuracy: 0.0757 - factorized_top_k/top_50_categorical_accuracy: 0.2910 - factorized_top_k/top_100_categorical_accuracy: 0.5174 - loss: 2745.6102 - regularization_loss: 0.0000e+00 - total_loss: 2745.6102"
     ]
    },
    {
     "name": "stderr",
     "output_type": "stream",
     "text": [
      "2023-06-13 20:14:29.298877: I tensorflow/core/common_runtime/executor.cc:1197] [/device:CPU:0] (DEBUG INFO) Executor start aborting (this does not indicate an error and you can ignore this message): INVALID_ARGUMENT: You must feed a value for placeholder tensor 'Placeholder/_6' with dtype resource\n",
      "\t [[{{node Placeholder/_6}}]]\n"
     ]
    },
    {
     "name": "stdout",
     "output_type": "stream",
     "text": [
      " 8/16 [==============>...............] - ETA: 10s - factorized_top_k/top_1_categorical_accuracy: 0.0477 - factorized_top_k/top_5_categorical_accuracy: 0.0520 - factorized_top_k/top_10_categorical_accuracy: 0.0764 - factorized_top_k/top_50_categorical_accuracy: 0.2885 - factorized_top_k/top_100_categorical_accuracy: 0.5145 - loss: 2742.1662 - regularization_loss: 0.0000e+00 - total_loss: 2742.1662"
     ]
    },
    {
     "name": "stderr",
     "output_type": "stream",
     "text": [
      "2023-06-13 20:14:30.298153: I tensorflow/core/common_runtime/executor.cc:1197] [/device:CPU:0] (DEBUG INFO) Executor start aborting (this does not indicate an error and you can ignore this message): INVALID_ARGUMENT: You must feed a value for placeholder tensor 'Placeholder/_8' with dtype resource\n",
      "\t [[{{node Placeholder/_8}}]]\n"
     ]
    },
    {
     "name": "stdout",
     "output_type": "stream",
     "text": [
      " 9/16 [===============>..............] - ETA: 8s - factorized_top_k/top_1_categorical_accuracy: 0.0469 - factorized_top_k/top_5_categorical_accuracy: 0.0509 - factorized_top_k/top_10_categorical_accuracy: 0.0743 - factorized_top_k/top_50_categorical_accuracy: 0.2870 - factorized_top_k/top_100_categorical_accuracy: 0.5116 - loss: 2742.8368 - regularization_loss: 0.0000e+00 - total_loss: 2742.8368 "
     ]
    },
    {
     "name": "stderr",
     "output_type": "stream",
     "text": [
      "2023-06-13 20:14:31.292211: I tensorflow/core/common_runtime/executor.cc:1197] [/device:CPU:0] (DEBUG INFO) Executor start aborting (this does not indicate an error and you can ignore this message): INVALID_ARGUMENT: You must feed a value for placeholder tensor 'Placeholder/_12' with dtype float and shape [1000,64]\n",
      "\t [[{{node Placeholder/_12}}]]\n"
     ]
    },
    {
     "name": "stdout",
     "output_type": "stream",
     "text": [
      "10/16 [=================>............] - ETA: 7s - factorized_top_k/top_1_categorical_accuracy: 0.0464 - factorized_top_k/top_5_categorical_accuracy: 0.0503 - factorized_top_k/top_10_categorical_accuracy: 0.0734 - factorized_top_k/top_50_categorical_accuracy: 0.2869 - factorized_top_k/top_100_categorical_accuracy: 0.5114 - loss: 2741.2984 - regularization_loss: 0.0000e+00 - total_loss: 2741.2984"
     ]
    },
    {
     "name": "stderr",
     "output_type": "stream",
     "text": [
      "2023-06-13 20:14:32.210869: I tensorflow/core/common_runtime/executor.cc:1197] [/device:CPU:0] (DEBUG INFO) Executor start aborting (this does not indicate an error and you can ignore this message): INVALID_ARGUMENT: You must feed a value for placeholder tensor 'Placeholder/_8' with dtype resource\n",
      "\t [[{{node Placeholder/_8}}]]\n"
     ]
    },
    {
     "name": "stdout",
     "output_type": "stream",
     "text": [
      "11/16 [===================>..........] - ETA: 5s - factorized_top_k/top_1_categorical_accuracy: 0.0458 - factorized_top_k/top_5_categorical_accuracy: 0.0499 - factorized_top_k/top_10_categorical_accuracy: 0.0735 - factorized_top_k/top_50_categorical_accuracy: 0.2876 - factorized_top_k/top_100_categorical_accuracy: 0.5150 - loss: 2737.7967 - regularization_loss: 0.0000e+00 - total_loss: 2737.7967"
     ]
    },
    {
     "name": "stderr",
     "output_type": "stream",
     "text": [
      "2023-06-13 20:14:33.192953: I tensorflow/core/common_runtime/executor.cc:1197] [/device:CPU:0] (DEBUG INFO) Executor start aborting (this does not indicate an error and you can ignore this message): INVALID_ARGUMENT: You must feed a value for placeholder tensor 'Placeholder/_10' with dtype resource\n",
      "\t [[{{node Placeholder/_10}}]]\n"
     ]
    },
    {
     "name": "stdout",
     "output_type": "stream",
     "text": [
      "12/16 [=====================>........] - ETA: 4s - factorized_top_k/top_1_categorical_accuracy: 0.0461 - factorized_top_k/top_5_categorical_accuracy: 0.0503 - factorized_top_k/top_10_categorical_accuracy: 0.0730 - factorized_top_k/top_50_categorical_accuracy: 0.2876 - factorized_top_k/top_100_categorical_accuracy: 0.5149 - loss: 2739.5850 - regularization_loss: 0.0000e+00 - total_loss: 2739.5850"
     ]
    },
    {
     "name": "stderr",
     "output_type": "stream",
     "text": [
      "2023-06-13 20:14:34.142483: I tensorflow/core/common_runtime/executor.cc:1197] [/device:CPU:0] (DEBUG INFO) Executor start aborting (this does not indicate an error and you can ignore this message): INVALID_ARGUMENT: You must feed a value for placeholder tensor 'Placeholder/_6' with dtype resource\n",
      "\t [[{{node Placeholder/_6}}]]\n"
     ]
    },
    {
     "name": "stdout",
     "output_type": "stream",
     "text": [
      "13/16 [=======================>......] - ETA: 3s - factorized_top_k/top_1_categorical_accuracy: 0.0457 - factorized_top_k/top_5_categorical_accuracy: 0.0498 - factorized_top_k/top_10_categorical_accuracy: 0.0725 - factorized_top_k/top_50_categorical_accuracy: 0.2887 - factorized_top_k/top_100_categorical_accuracy: 0.5128 - loss: 2740.5751 - regularization_loss: 0.0000e+00 - total_loss: 2740.5751"
     ]
    },
    {
     "name": "stderr",
     "output_type": "stream",
     "text": [
      "2023-06-13 20:14:35.084302: I tensorflow/core/common_runtime/executor.cc:1197] [/device:CPU:0] (DEBUG INFO) Executor start aborting (this does not indicate an error and you can ignore this message): INVALID_ARGUMENT: You must feed a value for placeholder tensor 'Placeholder/_6' with dtype resource\n",
      "\t [[{{node Placeholder/_6}}]]\n"
     ]
    },
    {
     "name": "stdout",
     "output_type": "stream",
     "text": [
      "14/16 [=========================>....] - ETA: 2s - factorized_top_k/top_1_categorical_accuracy: 0.0464 - factorized_top_k/top_5_categorical_accuracy: 0.0509 - factorized_top_k/top_10_categorical_accuracy: 0.0734 - factorized_top_k/top_50_categorical_accuracy: 0.2879 - factorized_top_k/top_100_categorical_accuracy: 0.5141 - loss: 2738.2852 - regularization_loss: 0.0000e+00 - total_loss: 2738.2852"
     ]
    },
    {
     "name": "stderr",
     "output_type": "stream",
     "text": [
      "2023-06-13 20:14:36.060445: I tensorflow/core/common_runtime/executor.cc:1197] [/device:CPU:0] (DEBUG INFO) Executor start aborting (this does not indicate an error and you can ignore this message): INVALID_ARGUMENT: You must feed a value for placeholder tensor 'Placeholder/_0' with dtype string and shape [20232]\n",
      "\t [[{{node Placeholder/_0}}]]\n"
     ]
    },
    {
     "name": "stdout",
     "output_type": "stream",
     "text": [
      "15/16 [===========================>..] - ETA: 1s - factorized_top_k/top_1_categorical_accuracy: 0.0460 - factorized_top_k/top_5_categorical_accuracy: 0.0507 - factorized_top_k/top_10_categorical_accuracy: 0.0733 - factorized_top_k/top_50_categorical_accuracy: 0.2877 - factorized_top_k/top_100_categorical_accuracy: 0.5140 - loss: 2736.0754 - regularization_loss: 0.0000e+00 - total_loss: 2736.0754"
     ]
    },
    {
     "name": "stderr",
     "output_type": "stream",
     "text": [
      "2023-06-13 20:14:36.961399: I tensorflow/core/common_runtime/executor.cc:1197] [/device:CPU:0] (DEBUG INFO) Executor start aborting (this does not indicate an error and you can ignore this message): INVALID_ARGUMENT: You must feed a value for placeholder tensor 'Placeholder/_12' with dtype float and shape [1000,64]\n",
      "\t [[{{node Placeholder/_12}}]]\n"
     ]
    },
    {
     "name": "stdout",
     "output_type": "stream",
     "text": [
      "16/16 [==============================] - 18s 1s/step - factorized_top_k/top_1_categorical_accuracy: 0.0457 - factorized_top_k/top_5_categorical_accuracy: 0.0504 - factorized_top_k/top_10_categorical_accuracy: 0.0736 - factorized_top_k/top_50_categorical_accuracy: 0.2884 - factorized_top_k/top_100_categorical_accuracy: 0.5161 - loss: 2729.9874 - regularization_loss: 0.0000e+00 - total_loss: 2729.9874\n",
      "Epoch 7/10\n"
     ]
    },
    {
     "name": "stderr",
     "output_type": "stream",
     "text": [
      "2023-06-13 20:14:37.868217: I tensorflow/core/common_runtime/executor.cc:1197] [/device:CPU:0] (DEBUG INFO) Executor start aborting (this does not indicate an error and you can ignore this message): INVALID_ARGUMENT: You must feed a value for placeholder tensor 'Placeholder/_12' with dtype float and shape [1000,64]\n",
      "\t [[{{node Placeholder/_12}}]]\n"
     ]
    },
    {
     "name": "stdout",
     "output_type": "stream",
     "text": [
      " 1/16 [>.............................] - ETA: 13s - factorized_top_k/top_1_categorical_accuracy: 0.0440 - factorized_top_k/top_5_categorical_accuracy: 0.0490 - factorized_top_k/top_10_categorical_accuracy: 0.0770 - factorized_top_k/top_50_categorical_accuracy: 0.3130 - factorized_top_k/top_100_categorical_accuracy: 0.5230 - loss: 2666.4480 - regularization_loss: 0.0000e+00 - total_loss: 2666.4480"
     ]
    },
    {
     "name": "stderr",
     "output_type": "stream",
     "text": [
      "2023-06-13 20:14:38.746529: I tensorflow/core/common_runtime/executor.cc:1197] [/device:CPU:0] (DEBUG INFO) Executor start aborting (this does not indicate an error and you can ignore this message): INVALID_ARGUMENT: You must feed a value for placeholder tensor 'Placeholder/_7' with dtype int64\n",
      "\t [[{{node Placeholder/_7}}]]\n"
     ]
    },
    {
     "name": "stdout",
     "output_type": "stream",
     "text": [
      " 2/16 [==>...........................] - ETA: 11s - factorized_top_k/top_1_categorical_accuracy: 0.0425 - factorized_top_k/top_5_categorical_accuracy: 0.0485 - factorized_top_k/top_10_categorical_accuracy: 0.0800 - factorized_top_k/top_50_categorical_accuracy: 0.2995 - factorized_top_k/top_100_categorical_accuracy: 0.5235 - loss: 2677.4246 - regularization_loss: 0.0000e+00 - total_loss: 2677.4246"
     ]
    },
    {
     "name": "stderr",
     "output_type": "stream",
     "text": [
      "2023-06-13 20:14:39.604716: I tensorflow/core/common_runtime/executor.cc:1197] [/device:CPU:0] (DEBUG INFO) Executor start aborting (this does not indicate an error and you can ignore this message): INVALID_ARGUMENT: You must feed a value for placeholder tensor 'Placeholder/_12' with dtype float and shape [1000,64]\n",
      "\t [[{{node Placeholder/_12}}]]\n"
     ]
    },
    {
     "name": "stdout",
     "output_type": "stream",
     "text": [
      " 3/16 [====>.........................] - ETA: 11s - factorized_top_k/top_1_categorical_accuracy: 0.0413 - factorized_top_k/top_5_categorical_accuracy: 0.0467 - factorized_top_k/top_10_categorical_accuracy: 0.0780 - factorized_top_k/top_50_categorical_accuracy: 0.3047 - factorized_top_k/top_100_categorical_accuracy: 0.5290 - loss: 2681.6627 - regularization_loss: 0.0000e+00 - total_loss: 2681.6627"
     ]
    },
    {
     "name": "stderr",
     "output_type": "stream",
     "text": [
      "2023-06-13 20:14:40.462073: I tensorflow/core/common_runtime/executor.cc:1197] [/device:CPU:0] (DEBUG INFO) Executor start aborting (this does not indicate an error and you can ignore this message): INVALID_ARGUMENT: You must feed a value for placeholder tensor 'Placeholder/_12' with dtype float and shape [1000,64]\n",
      "\t [[{{node Placeholder/_12}}]]\n"
     ]
    },
    {
     "name": "stdout",
     "output_type": "stream",
     "text": [
      " 4/16 [======>.......................] - ETA: 10s - factorized_top_k/top_1_categorical_accuracy: 0.0445 - factorized_top_k/top_5_categorical_accuracy: 0.0492 - factorized_top_k/top_10_categorical_accuracy: 0.0800 - factorized_top_k/top_50_categorical_accuracy: 0.2980 - factorized_top_k/top_100_categorical_accuracy: 0.5263 - loss: 2688.1667 - regularization_loss: 0.0000e+00 - total_loss: 2688.1667"
     ]
    },
    {
     "name": "stderr",
     "output_type": "stream",
     "text": [
      "2023-06-13 20:14:41.401023: I tensorflow/core/common_runtime/executor.cc:1197] [/device:CPU:0] (DEBUG INFO) Executor start aborting (this does not indicate an error and you can ignore this message): INVALID_ARGUMENT: You must feed a value for placeholder tensor 'Placeholder/_6' with dtype resource\n",
      "\t [[{{node Placeholder/_6}}]]\n"
     ]
    },
    {
     "name": "stdout",
     "output_type": "stream",
     "text": [
      " 5/16 [========>.....................] - ETA: 9s - factorized_top_k/top_1_categorical_accuracy: 0.0458 - factorized_top_k/top_5_categorical_accuracy: 0.0508 - factorized_top_k/top_10_categorical_accuracy: 0.0810 - factorized_top_k/top_50_categorical_accuracy: 0.3026 - factorized_top_k/top_100_categorical_accuracy: 0.5278 - loss: 2695.2309 - regularization_loss: 0.0000e+00 - total_loss: 2695.2309 "
     ]
    },
    {
     "name": "stderr",
     "output_type": "stream",
     "text": [
      "2023-06-13 20:14:42.313315: I tensorflow/core/common_runtime/executor.cc:1197] [/device:CPU:0] (DEBUG INFO) Executor start aborting (this does not indicate an error and you can ignore this message): INVALID_ARGUMENT: You must feed a value for placeholder tensor 'Placeholder/_12' with dtype float and shape [1000,64]\n",
      "\t [[{{node Placeholder/_12}}]]\n"
     ]
    },
    {
     "name": "stdout",
     "output_type": "stream",
     "text": [
      " 6/16 [==========>...................] - ETA: 8s - factorized_top_k/top_1_categorical_accuracy: 0.0477 - factorized_top_k/top_5_categorical_accuracy: 0.0538 - factorized_top_k/top_10_categorical_accuracy: 0.0832 - factorized_top_k/top_50_categorical_accuracy: 0.3053 - factorized_top_k/top_100_categorical_accuracy: 0.5287 - loss: 2689.8504 - regularization_loss: 0.0000e+00 - total_loss: 2689.8504"
     ]
    },
    {
     "name": "stderr",
     "output_type": "stream",
     "text": [
      "2023-06-13 20:14:43.213175: I tensorflow/core/common_runtime/executor.cc:1197] [/device:CPU:0] (DEBUG INFO) Executor start aborting (this does not indicate an error and you can ignore this message): INVALID_ARGUMENT: You must feed a value for placeholder tensor 'Placeholder/_12' with dtype float and shape [1000,64]\n",
      "\t [[{{node Placeholder/_12}}]]\n"
     ]
    },
    {
     "name": "stdout",
     "output_type": "stream",
     "text": [
      " 7/16 [============>.................] - ETA: 8s - factorized_top_k/top_1_categorical_accuracy: 0.0473 - factorized_top_k/top_5_categorical_accuracy: 0.0534 - factorized_top_k/top_10_categorical_accuracy: 0.0813 - factorized_top_k/top_50_categorical_accuracy: 0.3021 - factorized_top_k/top_100_categorical_accuracy: 0.5289 - loss: 2691.4518 - regularization_loss: 0.0000e+00 - total_loss: 2691.4518"
     ]
    },
    {
     "name": "stderr",
     "output_type": "stream",
     "text": [
      "2023-06-13 20:14:44.146459: I tensorflow/core/common_runtime/executor.cc:1197] [/device:CPU:0] (DEBUG INFO) Executor start aborting (this does not indicate an error and you can ignore this message): INVALID_ARGUMENT: You must feed a value for placeholder tensor 'Placeholder/_7' with dtype int64\n",
      "\t [[{{node Placeholder/_7}}]]\n"
     ]
    },
    {
     "name": "stdout",
     "output_type": "stream",
     "text": [
      " 8/16 [==============>...............] - ETA: 7s - factorized_top_k/top_1_categorical_accuracy: 0.0471 - factorized_top_k/top_5_categorical_accuracy: 0.0540 - factorized_top_k/top_10_categorical_accuracy: 0.0811 - factorized_top_k/top_50_categorical_accuracy: 0.2993 - factorized_top_k/top_100_categorical_accuracy: 0.5269 - loss: 2689.0780 - regularization_loss: 0.0000e+00 - total_loss: 2689.0780"
     ]
    },
    {
     "name": "stderr",
     "output_type": "stream",
     "text": [
      "2023-06-13 20:14:45.084687: I tensorflow/core/common_runtime/executor.cc:1197] [/device:CPU:0] (DEBUG INFO) Executor start aborting (this does not indicate an error and you can ignore this message): INVALID_ARGUMENT: You must feed a value for placeholder tensor 'Placeholder/_7' with dtype int64\n",
      "\t [[{{node Placeholder/_7}}]]\n"
     ]
    },
    {
     "name": "stdout",
     "output_type": "stream",
     "text": [
      " 9/16 [===============>..............] - ETA: 6s - factorized_top_k/top_1_categorical_accuracy: 0.0464 - factorized_top_k/top_5_categorical_accuracy: 0.0530 - factorized_top_k/top_10_categorical_accuracy: 0.0799 - factorized_top_k/top_50_categorical_accuracy: 0.2980 - factorized_top_k/top_100_categorical_accuracy: 0.5241 - loss: 2691.0161 - regularization_loss: 0.0000e+00 - total_loss: 2691.0161"
     ]
    },
    {
     "name": "stderr",
     "output_type": "stream",
     "text": [
      "2023-06-13 20:14:46.135618: I tensorflow/core/common_runtime/executor.cc:1197] [/device:CPU:0] (DEBUG INFO) Executor start aborting (this does not indicate an error and you can ignore this message): INVALID_ARGUMENT: You must feed a value for placeholder tensor 'Placeholder/_7' with dtype int64\n",
      "\t [[{{node Placeholder/_7}}]]\n"
     ]
    },
    {
     "name": "stdout",
     "output_type": "stream",
     "text": [
      "10/16 [=================>............] - ETA: 5s - factorized_top_k/top_1_categorical_accuracy: 0.0456 - factorized_top_k/top_5_categorical_accuracy: 0.0520 - factorized_top_k/top_10_categorical_accuracy: 0.0785 - factorized_top_k/top_50_categorical_accuracy: 0.2979 - factorized_top_k/top_100_categorical_accuracy: 0.5242 - loss: 2689.9190 - regularization_loss: 0.0000e+00 - total_loss: 2689.9190"
     ]
    },
    {
     "name": "stderr",
     "output_type": "stream",
     "text": [
      "2023-06-13 20:14:47.143671: I tensorflow/core/common_runtime/executor.cc:1197] [/device:CPU:0] (DEBUG INFO) Executor start aborting (this does not indicate an error and you can ignore this message): INVALID_ARGUMENT: You must feed a value for placeholder tensor 'Placeholder/_12' with dtype float and shape [1000,64]\n",
      "\t [[{{node Placeholder/_12}}]]\n"
     ]
    },
    {
     "name": "stdout",
     "output_type": "stream",
     "text": [
      "11/16 [===================>..........] - ETA: 4s - factorized_top_k/top_1_categorical_accuracy: 0.0456 - factorized_top_k/top_5_categorical_accuracy: 0.0522 - factorized_top_k/top_10_categorical_accuracy: 0.0788 - factorized_top_k/top_50_categorical_accuracy: 0.2995 - factorized_top_k/top_100_categorical_accuracy: 0.5275 - loss: 2687.0285 - regularization_loss: 0.0000e+00 - total_loss: 2687.0285"
     ]
    },
    {
     "name": "stderr",
     "output_type": "stream",
     "text": [
      "2023-06-13 20:14:48.133238: I tensorflow/core/common_runtime/executor.cc:1197] [/device:CPU:0] (DEBUG INFO) Executor start aborting (this does not indicate an error and you can ignore this message): INVALID_ARGUMENT: You must feed a value for placeholder tensor 'Placeholder/_12' with dtype float and shape [1000,64]\n",
      "\t [[{{node Placeholder/_12}}]]\n"
     ]
    },
    {
     "name": "stdout",
     "output_type": "stream",
     "text": [
      "12/16 [=====================>........] - ETA: 3s - factorized_top_k/top_1_categorical_accuracy: 0.0455 - factorized_top_k/top_5_categorical_accuracy: 0.0525 - factorized_top_k/top_10_categorical_accuracy: 0.0784 - factorized_top_k/top_50_categorical_accuracy: 0.2984 - factorized_top_k/top_100_categorical_accuracy: 0.5277 - loss: 2688.8305 - regularization_loss: 0.0000e+00 - total_loss: 2688.8305"
     ]
    },
    {
     "name": "stderr",
     "output_type": "stream",
     "text": [
      "2023-06-13 20:14:49.157133: I tensorflow/core/common_runtime/executor.cc:1197] [/device:CPU:0] (DEBUG INFO) Executor start aborting (this does not indicate an error and you can ignore this message): INVALID_ARGUMENT: You must feed a value for placeholder tensor 'Placeholder/_6' with dtype resource\n",
      "\t [[{{node Placeholder/_6}}]]\n"
     ]
    },
    {
     "name": "stdout",
     "output_type": "stream",
     "text": [
      "13/16 [=======================>......] - ETA: 2s - factorized_top_k/top_1_categorical_accuracy: 0.0452 - factorized_top_k/top_5_categorical_accuracy: 0.0522 - factorized_top_k/top_10_categorical_accuracy: 0.0781 - factorized_top_k/top_50_categorical_accuracy: 0.2989 - factorized_top_k/top_100_categorical_accuracy: 0.5260 - loss: 2689.8248 - regularization_loss: 0.0000e+00 - total_loss: 2689.8248"
     ]
    },
    {
     "name": "stderr",
     "output_type": "stream",
     "text": [
      "2023-06-13 20:14:50.566788: I tensorflow/core/common_runtime/executor.cc:1197] [/device:CPU:0] (DEBUG INFO) Executor start aborting (this does not indicate an error and you can ignore this message): INVALID_ARGUMENT: You must feed a value for placeholder tensor 'Placeholder/_6' with dtype resource\n",
      "\t [[{{node Placeholder/_6}}]]\n"
     ]
    },
    {
     "name": "stdout",
     "output_type": "stream",
     "text": [
      "14/16 [=========================>....] - ETA: 2s - factorized_top_k/top_1_categorical_accuracy: 0.0454 - factorized_top_k/top_5_categorical_accuracy: 0.0530 - factorized_top_k/top_10_categorical_accuracy: 0.0786 - factorized_top_k/top_50_categorical_accuracy: 0.2985 - factorized_top_k/top_100_categorical_accuracy: 0.5270 - loss: 2687.9483 - regularization_loss: 0.0000e+00 - total_loss: 2687.9483"
     ]
    },
    {
     "name": "stderr",
     "output_type": "stream",
     "text": [
      "2023-06-13 20:14:52.024115: I tensorflow/core/common_runtime/executor.cc:1197] [/device:CPU:0] (DEBUG INFO) Executor start aborting (this does not indicate an error and you can ignore this message): INVALID_ARGUMENT: You must feed a value for placeholder tensor 'Placeholder/_6' with dtype resource\n",
      "\t [[{{node Placeholder/_6}}]]\n"
     ]
    },
    {
     "name": "stdout",
     "output_type": "stream",
     "text": [
      "15/16 [===========================>..] - ETA: 1s - factorized_top_k/top_1_categorical_accuracy: 0.0455 - factorized_top_k/top_5_categorical_accuracy: 0.0529 - factorized_top_k/top_10_categorical_accuracy: 0.0787 - factorized_top_k/top_50_categorical_accuracy: 0.2978 - factorized_top_k/top_100_categorical_accuracy: 0.5265 - loss: 2686.4573 - regularization_loss: 0.0000e+00 - total_loss: 2686.4573"
     ]
    },
    {
     "name": "stderr",
     "output_type": "stream",
     "text": [
      "2023-06-13 20:14:53.606006: I tensorflow/core/common_runtime/executor.cc:1197] [/device:CPU:0] (DEBUG INFO) Executor start aborting (this does not indicate an error and you can ignore this message): INVALID_ARGUMENT: You must feed a value for placeholder tensor 'Placeholder/_12' with dtype float and shape [1000,64]\n",
      "\t [[{{node Placeholder/_12}}]]\n"
     ]
    },
    {
     "name": "stdout",
     "output_type": "stream",
     "text": [
      "16/16 [==============================] - 17s 1s/step - factorized_top_k/top_1_categorical_accuracy: 0.0452 - factorized_top_k/top_5_categorical_accuracy: 0.0527 - factorized_top_k/top_10_categorical_accuracy: 0.0787 - factorized_top_k/top_50_categorical_accuracy: 0.2982 - factorized_top_k/top_100_categorical_accuracy: 0.5278 - loss: 2681.7155 - regularization_loss: 0.0000e+00 - total_loss: 2681.7155\n",
      "Epoch 8/10\n"
     ]
    },
    {
     "name": "stderr",
     "output_type": "stream",
     "text": [
      "2023-06-13 20:14:54.855094: I tensorflow/core/common_runtime/executor.cc:1197] [/device:CPU:0] (DEBUG INFO) Executor start aborting (this does not indicate an error and you can ignore this message): INVALID_ARGUMENT: You must feed a value for placeholder tensor 'Placeholder/_8' with dtype resource\n",
      "\t [[{{node Placeholder/_8}}]]\n"
     ]
    },
    {
     "name": "stdout",
     "output_type": "stream",
     "text": [
      " 1/16 [>.............................] - ETA: 25s - factorized_top_k/top_1_categorical_accuracy: 0.0450 - factorized_top_k/top_5_categorical_accuracy: 0.0530 - factorized_top_k/top_10_categorical_accuracy: 0.0840 - factorized_top_k/top_50_categorical_accuracy: 0.3190 - factorized_top_k/top_100_categorical_accuracy: 0.5320 - loss: 2625.8257 - regularization_loss: 0.0000e+00 - total_loss: 2625.8257"
     ]
    },
    {
     "name": "stderr",
     "output_type": "stream",
     "text": [
      "2023-06-13 20:14:56.525571: I tensorflow/core/common_runtime/executor.cc:1197] [/device:CPU:0] (DEBUG INFO) Executor start aborting (this does not indicate an error and you can ignore this message): INVALID_ARGUMENT: You must feed a value for placeholder tensor 'Placeholder/_0' with dtype string and shape [20232]\n",
      "\t [[{{node Placeholder/_0}}]]\n"
     ]
    },
    {
     "name": "stdout",
     "output_type": "stream",
     "text": [
      " 2/16 [==>...........................] - ETA: 23s - factorized_top_k/top_1_categorical_accuracy: 0.0410 - factorized_top_k/top_5_categorical_accuracy: 0.0480 - factorized_top_k/top_10_categorical_accuracy: 0.0815 - factorized_top_k/top_50_categorical_accuracy: 0.3060 - factorized_top_k/top_100_categorical_accuracy: 0.5345 - loss: 2636.5793 - regularization_loss: 0.0000e+00 - total_loss: 2636.5793"
     ]
    },
    {
     "name": "stderr",
     "output_type": "stream",
     "text": [
      "2023-06-13 20:14:58.232456: I tensorflow/core/common_runtime/executor.cc:1197] [/device:CPU:0] (DEBUG INFO) Executor start aborting (this does not indicate an error and you can ignore this message): INVALID_ARGUMENT: You must feed a value for placeholder tensor 'Placeholder/_10' with dtype resource\n",
      "\t [[{{node Placeholder/_10}}]]\n"
     ]
    },
    {
     "name": "stdout",
     "output_type": "stream",
     "text": [
      " 3/16 [====>.........................] - ETA: 24s - factorized_top_k/top_1_categorical_accuracy: 0.0413 - factorized_top_k/top_5_categorical_accuracy: 0.0490 - factorized_top_k/top_10_categorical_accuracy: 0.0803 - factorized_top_k/top_50_categorical_accuracy: 0.3140 - factorized_top_k/top_100_categorical_accuracy: 0.5403 - loss: 2639.2446 - regularization_loss: 0.0000e+00 - total_loss: 2639.2446"
     ]
    },
    {
     "name": "stderr",
     "output_type": "stream",
     "text": [
      "2023-06-13 20:15:00.230163: I tensorflow/core/common_runtime/executor.cc:1197] [/device:CPU:0] (DEBUG INFO) Executor start aborting (this does not indicate an error and you can ignore this message): INVALID_ARGUMENT: You must feed a value for placeholder tensor 'Placeholder/_6' with dtype resource\n",
      "\t [[{{node Placeholder/_6}}]]\n"
     ]
    },
    {
     "name": "stdout",
     "output_type": "stream",
     "text": [
      " 4/16 [======>.......................] - ETA: 20s - factorized_top_k/top_1_categorical_accuracy: 0.0443 - factorized_top_k/top_5_categorical_accuracy: 0.0503 - factorized_top_k/top_10_categorical_accuracy: 0.0810 - factorized_top_k/top_50_categorical_accuracy: 0.3075 - factorized_top_k/top_100_categorical_accuracy: 0.5393 - loss: 2646.8774 - regularization_loss: 0.0000e+00 - total_loss: 2646.8774"
     ]
    },
    {
     "name": "stderr",
     "output_type": "stream",
     "text": [
      "2023-06-13 20:15:01.737111: I tensorflow/core/common_runtime/executor.cc:1197] [/device:CPU:0] (DEBUG INFO) Executor start aborting (this does not indicate an error and you can ignore this message): INVALID_ARGUMENT: You must feed a value for placeholder tensor 'Placeholder/_12' with dtype float and shape [1000,64]\n",
      "\t [[{{node Placeholder/_12}}]]\n"
     ]
    },
    {
     "name": "stdout",
     "output_type": "stream",
     "text": [
      " 5/16 [========>.....................] - ETA: 18s - factorized_top_k/top_1_categorical_accuracy: 0.0448 - factorized_top_k/top_5_categorical_accuracy: 0.0514 - factorized_top_k/top_10_categorical_accuracy: 0.0820 - factorized_top_k/top_50_categorical_accuracy: 0.3116 - factorized_top_k/top_100_categorical_accuracy: 0.5402 - loss: 2654.3990 - regularization_loss: 0.0000e+00 - total_loss: 2654.3990"
     ]
    },
    {
     "name": "stderr",
     "output_type": "stream",
     "text": [
      "2023-06-13 20:15:03.198932: I tensorflow/core/common_runtime/executor.cc:1197] [/device:CPU:0] (DEBUG INFO) Executor start aborting (this does not indicate an error and you can ignore this message): INVALID_ARGUMENT: You must feed a value for placeholder tensor 'Placeholder/_6' with dtype resource\n",
      "\t [[{{node Placeholder/_6}}]]\n"
     ]
    },
    {
     "name": "stdout",
     "output_type": "stream",
     "text": [
      " 6/16 [==========>...................] - ETA: 15s - factorized_top_k/top_1_categorical_accuracy: 0.0465 - factorized_top_k/top_5_categorical_accuracy: 0.0543 - factorized_top_k/top_10_categorical_accuracy: 0.0840 - factorized_top_k/top_50_categorical_accuracy: 0.3137 - factorized_top_k/top_100_categorical_accuracy: 0.5412 - loss: 2649.0666 - regularization_loss: 0.0000e+00 - total_loss: 2649.0666"
     ]
    },
    {
     "name": "stderr",
     "output_type": "stream",
     "text": [
      "2023-06-13 20:15:04.317698: I tensorflow/core/common_runtime/executor.cc:1197] [/device:CPU:0] (DEBUG INFO) Executor start aborting (this does not indicate an error and you can ignore this message): INVALID_ARGUMENT: You must feed a value for placeholder tensor 'Placeholder/_8' with dtype resource\n",
      "\t [[{{node Placeholder/_8}}]]\n"
     ]
    },
    {
     "name": "stdout",
     "output_type": "stream",
     "text": [
      " 7/16 [============>.................] - ETA: 13s - factorized_top_k/top_1_categorical_accuracy: 0.0463 - factorized_top_k/top_5_categorical_accuracy: 0.0539 - factorized_top_k/top_10_categorical_accuracy: 0.0824 - factorized_top_k/top_50_categorical_accuracy: 0.3107 - factorized_top_k/top_100_categorical_accuracy: 0.5400 - loss: 2651.5331 - regularization_loss: 0.0000e+00 - total_loss: 2651.5331"
     ]
    },
    {
     "name": "stderr",
     "output_type": "stream",
     "text": [
      "2023-06-13 20:15:05.347373: I tensorflow/core/common_runtime/executor.cc:1197] [/device:CPU:0] (DEBUG INFO) Executor start aborting (this does not indicate an error and you can ignore this message): INVALID_ARGUMENT: You must feed a value for placeholder tensor 'Placeholder/_10' with dtype resource\n",
      "\t [[{{node Placeholder/_10}}]]\n"
     ]
    },
    {
     "name": "stdout",
     "output_type": "stream",
     "text": [
      " 8/16 [==============>...............] - ETA: 11s - factorized_top_k/top_1_categorical_accuracy: 0.0461 - factorized_top_k/top_5_categorical_accuracy: 0.0545 - factorized_top_k/top_10_categorical_accuracy: 0.0829 - factorized_top_k/top_50_categorical_accuracy: 0.3092 - factorized_top_k/top_100_categorical_accuracy: 0.5385 - loss: 2649.6161 - regularization_loss: 0.0000e+00 - total_loss: 2649.6161"
     ]
    },
    {
     "name": "stderr",
     "output_type": "stream",
     "text": [
      "2023-06-13 20:15:06.436529: I tensorflow/core/common_runtime/executor.cc:1197] [/device:CPU:0] (DEBUG INFO) Executor start aborting (this does not indicate an error and you can ignore this message): INVALID_ARGUMENT: You must feed a value for placeholder tensor 'Placeholder/_10' with dtype resource\n",
      "\t [[{{node Placeholder/_10}}]]\n"
     ]
    },
    {
     "name": "stdout",
     "output_type": "stream",
     "text": [
      " 9/16 [===============>..............] - ETA: 9s - factorized_top_k/top_1_categorical_accuracy: 0.0452 - factorized_top_k/top_5_categorical_accuracy: 0.0530 - factorized_top_k/top_10_categorical_accuracy: 0.0813 - factorized_top_k/top_50_categorical_accuracy: 0.3069 - factorized_top_k/top_100_categorical_accuracy: 0.5367 - loss: 2652.2601 - regularization_loss: 0.0000e+00 - total_loss: 2652.2601 "
     ]
    },
    {
     "name": "stderr",
     "output_type": "stream",
     "text": [
      "2023-06-13 20:15:07.413321: I tensorflow/core/common_runtime/executor.cc:1197] [/device:CPU:0] (DEBUG INFO) Executor start aborting (this does not indicate an error and you can ignore this message): INVALID_ARGUMENT: You must feed a value for placeholder tensor 'Placeholder/_10' with dtype resource\n",
      "\t [[{{node Placeholder/_10}}]]\n"
     ]
    },
    {
     "name": "stdout",
     "output_type": "stream",
     "text": [
      "10/16 [=================>............] - ETA: 7s - factorized_top_k/top_1_categorical_accuracy: 0.0445 - factorized_top_k/top_5_categorical_accuracy: 0.0524 - factorized_top_k/top_10_categorical_accuracy: 0.0806 - factorized_top_k/top_50_categorical_accuracy: 0.3077 - factorized_top_k/top_100_categorical_accuracy: 0.5370 - loss: 2651.1917 - regularization_loss: 0.0000e+00 - total_loss: 2651.1917"
     ]
    },
    {
     "name": "stderr",
     "output_type": "stream",
     "text": [
      "2023-06-13 20:15:08.319558: I tensorflow/core/common_runtime/executor.cc:1197] [/device:CPU:0] (DEBUG INFO) Executor start aborting (this does not indicate an error and you can ignore this message): INVALID_ARGUMENT: You must feed a value for placeholder tensor 'Placeholder/_7' with dtype int64\n",
      "\t [[{{node Placeholder/_7}}]]\n"
     ]
    },
    {
     "name": "stdout",
     "output_type": "stream",
     "text": [
      "11/16 [===================>..........] - ETA: 6s - factorized_top_k/top_1_categorical_accuracy: 0.0444 - factorized_top_k/top_5_categorical_accuracy: 0.0527 - factorized_top_k/top_10_categorical_accuracy: 0.0808 - factorized_top_k/top_50_categorical_accuracy: 0.3089 - factorized_top_k/top_100_categorical_accuracy: 0.5402 - loss: 2648.5686 - regularization_loss: 0.0000e+00 - total_loss: 2648.5686"
     ]
    },
    {
     "name": "stderr",
     "output_type": "stream",
     "text": [
      "2023-06-13 20:15:09.208949: I tensorflow/core/common_runtime/executor.cc:1197] [/device:CPU:0] (DEBUG INFO) Executor start aborting (this does not indicate an error and you can ignore this message): INVALID_ARGUMENT: You must feed a value for placeholder tensor 'Placeholder/_12' with dtype float and shape [1000,64]\n",
      "\t [[{{node Placeholder/_12}}]]\n"
     ]
    },
    {
     "name": "stdout",
     "output_type": "stream",
     "text": [
      "12/16 [=====================>........] - ETA: 4s - factorized_top_k/top_1_categorical_accuracy: 0.0443 - factorized_top_k/top_5_categorical_accuracy: 0.0532 - factorized_top_k/top_10_categorical_accuracy: 0.0807 - factorized_top_k/top_50_categorical_accuracy: 0.3077 - factorized_top_k/top_100_categorical_accuracy: 0.5400 - loss: 2650.4873 - regularization_loss: 0.0000e+00 - total_loss: 2650.4873"
     ]
    },
    {
     "name": "stderr",
     "output_type": "stream",
     "text": [
      "2023-06-13 20:15:10.098387: I tensorflow/core/common_runtime/executor.cc:1197] [/device:CPU:0] (DEBUG INFO) Executor start aborting (this does not indicate an error and you can ignore this message): INVALID_ARGUMENT: You must feed a value for placeholder tensor 'Placeholder/_0' with dtype string and shape [20232]\n",
      "\t [[{{node Placeholder/_0}}]]\n"
     ]
    },
    {
     "name": "stdout",
     "output_type": "stream",
     "text": [
      "13/16 [=======================>......] - ETA: 3s - factorized_top_k/top_1_categorical_accuracy: 0.0443 - factorized_top_k/top_5_categorical_accuracy: 0.0535 - factorized_top_k/top_10_categorical_accuracy: 0.0808 - factorized_top_k/top_50_categorical_accuracy: 0.3078 - factorized_top_k/top_100_categorical_accuracy: 0.5381 - loss: 2651.3894 - regularization_loss: 0.0000e+00 - total_loss: 2651.3894"
     ]
    },
    {
     "name": "stderr",
     "output_type": "stream",
     "text": [
      "2023-06-13 20:15:11.075435: I tensorflow/core/common_runtime/executor.cc:1197] [/device:CPU:0] (DEBUG INFO) Executor start aborting (this does not indicate an error and you can ignore this message): INVALID_ARGUMENT: You must feed a value for placeholder tensor 'Placeholder/_10' with dtype resource\n",
      "\t [[{{node Placeholder/_10}}]]\n"
     ]
    },
    {
     "name": "stdout",
     "output_type": "stream",
     "text": [
      "14/16 [=========================>....] - ETA: 2s - factorized_top_k/top_1_categorical_accuracy: 0.0440 - factorized_top_k/top_5_categorical_accuracy: 0.0539 - factorized_top_k/top_10_categorical_accuracy: 0.0811 - factorized_top_k/top_50_categorical_accuracy: 0.3081 - factorized_top_k/top_100_categorical_accuracy: 0.5389 - loss: 2649.6936 - regularization_loss: 0.0000e+00 - total_loss: 2649.6936"
     ]
    },
    {
     "name": "stderr",
     "output_type": "stream",
     "text": [
      "2023-06-13 20:15:12.084069: I tensorflow/core/common_runtime/executor.cc:1197] [/device:CPU:0] (DEBUG INFO) Executor start aborting (this does not indicate an error and you can ignore this message): INVALID_ARGUMENT: You must feed a value for placeholder tensor 'Placeholder/_8' with dtype resource\n",
      "\t [[{{node Placeholder/_8}}]]\n"
     ]
    },
    {
     "name": "stdout",
     "output_type": "stream",
     "text": [
      "15/16 [===========================>..] - ETA: 1s - factorized_top_k/top_1_categorical_accuracy: 0.0445 - factorized_top_k/top_5_categorical_accuracy: 0.0544 - factorized_top_k/top_10_categorical_accuracy: 0.0815 - factorized_top_k/top_50_categorical_accuracy: 0.3074 - factorized_top_k/top_100_categorical_accuracy: 0.5382 - loss: 2648.7124 - regularization_loss: 0.0000e+00 - total_loss: 2648.7124"
     ]
    },
    {
     "name": "stderr",
     "output_type": "stream",
     "text": [
      "2023-06-13 20:15:13.036368: I tensorflow/core/common_runtime/executor.cc:1197] [/device:CPU:0] (DEBUG INFO) Executor start aborting (this does not indicate an error and you can ignore this message): INVALID_ARGUMENT: You must feed a value for placeholder tensor 'Placeholder/_10' with dtype resource\n",
      "\t [[{{node Placeholder/_10}}]]\n"
     ]
    },
    {
     "name": "stdout",
     "output_type": "stream",
     "text": [
      "16/16 [==============================] - 19s 1s/step - factorized_top_k/top_1_categorical_accuracy: 0.0444 - factorized_top_k/top_5_categorical_accuracy: 0.0542 - factorized_top_k/top_10_categorical_accuracy: 0.0816 - factorized_top_k/top_50_categorical_accuracy: 0.3083 - factorized_top_k/top_100_categorical_accuracy: 0.5400 - loss: 2644.6148 - regularization_loss: 0.0000e+00 - total_loss: 2644.6148\n",
      "Epoch 9/10\n"
     ]
    },
    {
     "name": "stderr",
     "output_type": "stream",
     "text": [
      "2023-06-13 20:15:13.927552: I tensorflow/core/common_runtime/executor.cc:1197] [/device:CPU:0] (DEBUG INFO) Executor start aborting (this does not indicate an error and you can ignore this message): INVALID_ARGUMENT: You must feed a value for placeholder tensor 'Placeholder/_12' with dtype float and shape [1000,64]\n",
      "\t [[{{node Placeholder/_12}}]]\n"
     ]
    },
    {
     "name": "stdout",
     "output_type": "stream",
     "text": [
      " 1/16 [>.............................] - ETA: 14s - factorized_top_k/top_1_categorical_accuracy: 0.0430 - factorized_top_k/top_5_categorical_accuracy: 0.0550 - factorized_top_k/top_10_categorical_accuracy: 0.0850 - factorized_top_k/top_50_categorical_accuracy: 0.3330 - factorized_top_k/top_100_categorical_accuracy: 0.5370 - loss: 2592.3311 - regularization_loss: 0.0000e+00 - total_loss: 2592.3311"
     ]
    },
    {
     "name": "stderr",
     "output_type": "stream",
     "text": [
      "2023-06-13 20:15:14.881752: I tensorflow/core/common_runtime/executor.cc:1197] [/device:CPU:0] (DEBUG INFO) Executor start aborting (this does not indicate an error and you can ignore this message): INVALID_ARGUMENT: You must feed a value for placeholder tensor 'Placeholder/_8' with dtype resource\n",
      "\t [[{{node Placeholder/_8}}]]\n"
     ]
    },
    {
     "name": "stdout",
     "output_type": "stream",
     "text": [
      " 2/16 [==>...........................] - ETA: 14s - factorized_top_k/top_1_categorical_accuracy: 0.0390 - factorized_top_k/top_5_categorical_accuracy: 0.0490 - factorized_top_k/top_10_categorical_accuracy: 0.0835 - factorized_top_k/top_50_categorical_accuracy: 0.3215 - factorized_top_k/top_100_categorical_accuracy: 0.5410 - loss: 2602.7469 - regularization_loss: 0.0000e+00 - total_loss: 2602.7469"
     ]
    },
    {
     "name": "stderr",
     "output_type": "stream",
     "text": [
      "2023-06-13 20:15:15.881785: I tensorflow/core/common_runtime/executor.cc:1197] [/device:CPU:0] (DEBUG INFO) Executor start aborting (this does not indicate an error and you can ignore this message): INVALID_ARGUMENT: You must feed a value for placeholder tensor 'Placeholder/_10' with dtype resource\n",
      "\t [[{{node Placeholder/_10}}]]\n"
     ]
    },
    {
     "name": "stdout",
     "output_type": "stream",
     "text": [
      " 3/16 [====>.........................] - ETA: 13s - factorized_top_k/top_1_categorical_accuracy: 0.0403 - factorized_top_k/top_5_categorical_accuracy: 0.0517 - factorized_top_k/top_10_categorical_accuracy: 0.0850 - factorized_top_k/top_50_categorical_accuracy: 0.3313 - factorized_top_k/top_100_categorical_accuracy: 0.5497 - loss: 2604.2067 - regularization_loss: 0.0000e+00 - total_loss: 2604.2067"
     ]
    },
    {
     "name": "stderr",
     "output_type": "stream",
     "text": [
      "2023-06-13 20:15:16.884758: I tensorflow/core/common_runtime/executor.cc:1197] [/device:CPU:0] (DEBUG INFO) Executor start aborting (this does not indicate an error and you can ignore this message): INVALID_ARGUMENT: You must feed a value for placeholder tensor 'Placeholder/_0' with dtype string and shape [20232]\n",
      "\t [[{{node Placeholder/_0}}]]\n"
     ]
    },
    {
     "name": "stdout",
     "output_type": "stream",
     "text": [
      " 4/16 [======>.......................] - ETA: 12s - factorized_top_k/top_1_categorical_accuracy: 0.0422 - factorized_top_k/top_5_categorical_accuracy: 0.0527 - factorized_top_k/top_10_categorical_accuracy: 0.0847 - factorized_top_k/top_50_categorical_accuracy: 0.3243 - factorized_top_k/top_100_categorical_accuracy: 0.5490 - loss: 2612.3069 - regularization_loss: 0.0000e+00 - total_loss: 2612.3069"
     ]
    },
    {
     "name": "stderr",
     "output_type": "stream",
     "text": [
      "2023-06-13 20:15:17.887892: I tensorflow/core/common_runtime/executor.cc:1197] [/device:CPU:0] (DEBUG INFO) Executor start aborting (this does not indicate an error and you can ignore this message): INVALID_ARGUMENT: You must feed a value for placeholder tensor 'Placeholder/_6' with dtype resource\n",
      "\t [[{{node Placeholder/_6}}]]\n"
     ]
    },
    {
     "name": "stdout",
     "output_type": "stream",
     "text": [
      " 5/16 [========>.....................] - ETA: 10s - factorized_top_k/top_1_categorical_accuracy: 0.0436 - factorized_top_k/top_5_categorical_accuracy: 0.0540 - factorized_top_k/top_10_categorical_accuracy: 0.0864 - factorized_top_k/top_50_categorical_accuracy: 0.3270 - factorized_top_k/top_100_categorical_accuracy: 0.5496 - loss: 2619.8433 - regularization_loss: 0.0000e+00 - total_loss: 2619.8433"
     ]
    },
    {
     "name": "stderr",
     "output_type": "stream",
     "text": [
      "2023-06-13 20:15:18.847611: I tensorflow/core/common_runtime/executor.cc:1197] [/device:CPU:0] (DEBUG INFO) Executor start aborting (this does not indicate an error and you can ignore this message): INVALID_ARGUMENT: You must feed a value for placeholder tensor 'Placeholder/_8' with dtype resource\n",
      "\t [[{{node Placeholder/_8}}]]\n"
     ]
    },
    {
     "name": "stdout",
     "output_type": "stream",
     "text": [
      " 6/16 [==========>...................] - ETA: 9s - factorized_top_k/top_1_categorical_accuracy: 0.0453 - factorized_top_k/top_5_categorical_accuracy: 0.0567 - factorized_top_k/top_10_categorical_accuracy: 0.0882 - factorized_top_k/top_50_categorical_accuracy: 0.3290 - factorized_top_k/top_100_categorical_accuracy: 0.5498 - loss: 2614.7468 - regularization_loss: 0.0000e+00 - total_loss: 2614.7468 "
     ]
    },
    {
     "name": "stderr",
     "output_type": "stream",
     "text": [
      "2023-06-13 20:15:19.838634: I tensorflow/core/common_runtime/executor.cc:1197] [/device:CPU:0] (DEBUG INFO) Executor start aborting (this does not indicate an error and you can ignore this message): INVALID_ARGUMENT: You must feed a value for placeholder tensor 'Placeholder/_8' with dtype resource\n",
      "\t [[{{node Placeholder/_8}}]]\n"
     ]
    },
    {
     "name": "stdout",
     "output_type": "stream",
     "text": [
      " 7/16 [============>.................] - ETA: 9s - factorized_top_k/top_1_categorical_accuracy: 0.0456 - factorized_top_k/top_5_categorical_accuracy: 0.0563 - factorized_top_k/top_10_categorical_accuracy: 0.0867 - factorized_top_k/top_50_categorical_accuracy: 0.3256 - factorized_top_k/top_100_categorical_accuracy: 0.5484 - loss: 2618.3558 - regularization_loss: 0.0000e+00 - total_loss: 2618.3558"
     ]
    },
    {
     "name": "stderr",
     "output_type": "stream",
     "text": [
      "2023-06-13 20:15:20.888229: I tensorflow/core/common_runtime/executor.cc:1197] [/device:CPU:0] (DEBUG INFO) Executor start aborting (this does not indicate an error and you can ignore this message): INVALID_ARGUMENT: You must feed a value for placeholder tensor 'Placeholder/_8' with dtype resource\n",
      "\t [[{{node Placeholder/_8}}]]\n"
     ]
    },
    {
     "name": "stdout",
     "output_type": "stream",
     "text": [
      " 8/16 [==============>...............] - ETA: 8s - factorized_top_k/top_1_categorical_accuracy: 0.0457 - factorized_top_k/top_5_categorical_accuracy: 0.0574 - factorized_top_k/top_10_categorical_accuracy: 0.0878 - factorized_top_k/top_50_categorical_accuracy: 0.3225 - factorized_top_k/top_100_categorical_accuracy: 0.5471 - loss: 2616.8883 - regularization_loss: 0.0000e+00 - total_loss: 2616.8883"
     ]
    },
    {
     "name": "stderr",
     "output_type": "stream",
     "text": [
      "2023-06-13 20:15:22.034190: I tensorflow/core/common_runtime/executor.cc:1197] [/device:CPU:0] (DEBUG INFO) Executor start aborting (this does not indicate an error and you can ignore this message): INVALID_ARGUMENT: You must feed a value for placeholder tensor 'Placeholder/_6' with dtype resource\n",
      "\t [[{{node Placeholder/_6}}]]\n"
     ]
    },
    {
     "name": "stdout",
     "output_type": "stream",
     "text": [
      " 9/16 [===============>..............] - ETA: 7s - factorized_top_k/top_1_categorical_accuracy: 0.0450 - factorized_top_k/top_5_categorical_accuracy: 0.0559 - factorized_top_k/top_10_categorical_accuracy: 0.0861 - factorized_top_k/top_50_categorical_accuracy: 0.3203 - factorized_top_k/top_100_categorical_accuracy: 0.5453 - loss: 2620.0066 - regularization_loss: 0.0000e+00 - total_loss: 2620.0066"
     ]
    },
    {
     "name": "stderr",
     "output_type": "stream",
     "text": [
      "2023-06-13 20:15:23.309301: I tensorflow/core/common_runtime/executor.cc:1197] [/device:CPU:0] (DEBUG INFO) Executor start aborting (this does not indicate an error and you can ignore this message): INVALID_ARGUMENT: You must feed a value for placeholder tensor 'Placeholder/_0' with dtype string and shape [20232]\n",
      "\t [[{{node Placeholder/_0}}]]\n"
     ]
    },
    {
     "name": "stdout",
     "output_type": "stream",
     "text": [
      "10/16 [=================>............] - ETA: 6s - factorized_top_k/top_1_categorical_accuracy: 0.0442 - factorized_top_k/top_5_categorical_accuracy: 0.0556 - factorized_top_k/top_10_categorical_accuracy: 0.0854 - factorized_top_k/top_50_categorical_accuracy: 0.3208 - factorized_top_k/top_100_categorical_accuracy: 0.5451 - loss: 2619.0288 - regularization_loss: 0.0000e+00 - total_loss: 2619.0288"
     ]
    },
    {
     "name": "stderr",
     "output_type": "stream",
     "text": [
      "2023-06-13 20:15:24.407462: I tensorflow/core/common_runtime/executor.cc:1197] [/device:CPU:0] (DEBUG INFO) Executor start aborting (this does not indicate an error and you can ignore this message): INVALID_ARGUMENT: You must feed a value for placeholder tensor 'Placeholder/_10' with dtype resource\n",
      "\t [[{{node Placeholder/_10}}]]\n"
     ]
    },
    {
     "name": "stdout",
     "output_type": "stream",
     "text": [
      "11/16 [===================>..........] - ETA: 5s - factorized_top_k/top_1_categorical_accuracy: 0.0436 - factorized_top_k/top_5_categorical_accuracy: 0.0555 - factorized_top_k/top_10_categorical_accuracy: 0.0850 - factorized_top_k/top_50_categorical_accuracy: 0.3211 - factorized_top_k/top_100_categorical_accuracy: 0.5478 - loss: 2616.5098 - regularization_loss: 0.0000e+00 - total_loss: 2616.5098"
     ]
    },
    {
     "name": "stderr",
     "output_type": "stream",
     "text": [
      "2023-06-13 20:15:25.428306: I tensorflow/core/common_runtime/executor.cc:1197] [/device:CPU:0] (DEBUG INFO) Executor start aborting (this does not indicate an error and you can ignore this message): INVALID_ARGUMENT: You must feed a value for placeholder tensor 'Placeholder/_6' with dtype resource\n",
      "\t [[{{node Placeholder/_6}}]]\n"
     ]
    },
    {
     "name": "stdout",
     "output_type": "stream",
     "text": [
      "12/16 [=====================>........] - ETA: 4s - factorized_top_k/top_1_categorical_accuracy: 0.0437 - factorized_top_k/top_5_categorical_accuracy: 0.0557 - factorized_top_k/top_10_categorical_accuracy: 0.0847 - factorized_top_k/top_50_categorical_accuracy: 0.3202 - factorized_top_k/top_100_categorical_accuracy: 0.5472 - loss: 2618.4548 - regularization_loss: 0.0000e+00 - total_loss: 2618.4548"
     ]
    },
    {
     "name": "stderr",
     "output_type": "stream",
     "text": [
      "2023-06-13 20:15:26.493161: I tensorflow/core/common_runtime/executor.cc:1197] [/device:CPU:0] (DEBUG INFO) Executor start aborting (this does not indicate an error and you can ignore this message): INVALID_ARGUMENT: You must feed a value for placeholder tensor 'Placeholder/_12' with dtype float and shape [1000,64]\n",
      "\t [[{{node Placeholder/_12}}]]\n"
     ]
    },
    {
     "name": "stdout",
     "output_type": "stream",
     "text": [
      "13/16 [=======================>......] - ETA: 3s - factorized_top_k/top_1_categorical_accuracy: 0.0438 - factorized_top_k/top_5_categorical_accuracy: 0.0557 - factorized_top_k/top_10_categorical_accuracy: 0.0844 - factorized_top_k/top_50_categorical_accuracy: 0.3202 - factorized_top_k/top_100_categorical_accuracy: 0.5445 - loss: 2619.2502 - regularization_loss: 0.0000e+00 - total_loss: 2619.2502"
     ]
    },
    {
     "name": "stderr",
     "output_type": "stream",
     "text": [
      "2023-06-13 20:15:27.569482: I tensorflow/core/common_runtime/executor.cc:1197] [/device:CPU:0] (DEBUG INFO) Executor start aborting (this does not indicate an error and you can ignore this message): INVALID_ARGUMENT: You must feed a value for placeholder tensor 'Placeholder/_0' with dtype string and shape [20232]\n",
      "\t [[{{node Placeholder/_0}}]]\n"
     ]
    },
    {
     "name": "stdout",
     "output_type": "stream",
     "text": [
      "14/16 [=========================>....] - ETA: 2s - factorized_top_k/top_1_categorical_accuracy: 0.0436 - factorized_top_k/top_5_categorical_accuracy: 0.0561 - factorized_top_k/top_10_categorical_accuracy: 0.0847 - factorized_top_k/top_50_categorical_accuracy: 0.3209 - factorized_top_k/top_100_categorical_accuracy: 0.5466 - loss: 2617.5450 - regularization_loss: 0.0000e+00 - total_loss: 2617.5450"
     ]
    },
    {
     "name": "stderr",
     "output_type": "stream",
     "text": [
      "2023-06-13 20:15:28.640772: I tensorflow/core/common_runtime/executor.cc:1197] [/device:CPU:0] (DEBUG INFO) Executor start aborting (this does not indicate an error and you can ignore this message): INVALID_ARGUMENT: You must feed a value for placeholder tensor 'Placeholder/_6' with dtype resource\n",
      "\t [[{{node Placeholder/_6}}]]\n"
     ]
    },
    {
     "name": "stdout",
     "output_type": "stream",
     "text": [
      "15/16 [===========================>..] - ETA: 1s - factorized_top_k/top_1_categorical_accuracy: 0.0443 - factorized_top_k/top_5_categorical_accuracy: 0.0566 - factorized_top_k/top_10_categorical_accuracy: 0.0851 - factorized_top_k/top_50_categorical_accuracy: 0.3198 - factorized_top_k/top_100_categorical_accuracy: 0.5464 - loss: 2616.8780 - regularization_loss: 0.0000e+00 - total_loss: 2616.8780"
     ]
    },
    {
     "name": "stderr",
     "output_type": "stream",
     "text": [
      "2023-06-13 20:15:29.896589: I tensorflow/core/common_runtime/executor.cc:1197] [/device:CPU:0] (DEBUG INFO) Executor start aborting (this does not indicate an error and you can ignore this message): INVALID_ARGUMENT: You must feed a value for placeholder tensor 'Placeholder/_6' with dtype resource\n",
      "\t [[{{node Placeholder/_6}}]]\n"
     ]
    },
    {
     "name": "stdout",
     "output_type": "stream",
     "text": [
      "16/16 [==============================] - 17s 1s/step - factorized_top_k/top_1_categorical_accuracy: 0.0441 - factorized_top_k/top_5_categorical_accuracy: 0.0562 - factorized_top_k/top_10_categorical_accuracy: 0.0848 - factorized_top_k/top_50_categorical_accuracy: 0.3202 - factorized_top_k/top_100_categorical_accuracy: 0.5481 - loss: 2613.1724 - regularization_loss: 0.0000e+00 - total_loss: 2613.1724\n",
      "Epoch 10/10\n"
     ]
    },
    {
     "name": "stderr",
     "output_type": "stream",
     "text": [
      "2023-06-13 20:15:31.093523: I tensorflow/core/common_runtime/executor.cc:1197] [/device:CPU:0] (DEBUG INFO) Executor start aborting (this does not indicate an error and you can ignore this message): INVALID_ARGUMENT: You must feed a value for placeholder tensor 'Placeholder/_12' with dtype float and shape [1000,64]\n",
      "\t [[{{node Placeholder/_12}}]]\n"
     ]
    },
    {
     "name": "stdout",
     "output_type": "stream",
     "text": [
      " 1/16 [>.............................] - ETA: 18s - factorized_top_k/top_1_categorical_accuracy: 0.0420 - factorized_top_k/top_5_categorical_accuracy: 0.0530 - factorized_top_k/top_10_categorical_accuracy: 0.0880 - factorized_top_k/top_50_categorical_accuracy: 0.3410 - factorized_top_k/top_100_categorical_accuracy: 0.5400 - loss: 2563.2668 - regularization_loss: 0.0000e+00 - total_loss: 2563.2668"
     ]
    },
    {
     "name": "stderr",
     "output_type": "stream",
     "text": [
      "2023-06-13 20:15:32.310658: I tensorflow/core/common_runtime/executor.cc:1197] [/device:CPU:0] (DEBUG INFO) Executor start aborting (this does not indicate an error and you can ignore this message): INVALID_ARGUMENT: You must feed a value for placeholder tensor 'Placeholder/_8' with dtype resource\n",
      "\t [[{{node Placeholder/_8}}]]\n"
     ]
    },
    {
     "name": "stdout",
     "output_type": "stream",
     "text": [
      " 2/16 [==>...........................] - ETA: 15s - factorized_top_k/top_1_categorical_accuracy: 0.0395 - factorized_top_k/top_5_categorical_accuracy: 0.0495 - factorized_top_k/top_10_categorical_accuracy: 0.0850 - factorized_top_k/top_50_categorical_accuracy: 0.3200 - factorized_top_k/top_100_categorical_accuracy: 0.5410 - loss: 2573.4391 - regularization_loss: 0.0000e+00 - total_loss: 2573.4391"
     ]
    },
    {
     "name": "stderr",
     "output_type": "stream",
     "text": [
      "2023-06-13 20:15:33.399149: I tensorflow/core/common_runtime/executor.cc:1197] [/device:CPU:0] (DEBUG INFO) Executor start aborting (this does not indicate an error and you can ignore this message): INVALID_ARGUMENT: You must feed a value for placeholder tensor 'Placeholder/_12' with dtype float and shape [1000,64]\n",
      "\t [[{{node Placeholder/_12}}]]\n"
     ]
    },
    {
     "name": "stdout",
     "output_type": "stream",
     "text": [
      " 3/16 [====>.........................] - ETA: 14s - factorized_top_k/top_1_categorical_accuracy: 0.0403 - factorized_top_k/top_5_categorical_accuracy: 0.0517 - factorized_top_k/top_10_categorical_accuracy: 0.0870 - factorized_top_k/top_50_categorical_accuracy: 0.3323 - factorized_top_k/top_100_categorical_accuracy: 0.5513 - loss: 2573.5160 - regularization_loss: 0.0000e+00 - total_loss: 2573.5160"
     ]
    },
    {
     "name": "stderr",
     "output_type": "stream",
     "text": [
      "2023-06-13 20:15:34.543753: I tensorflow/core/common_runtime/executor.cc:1197] [/device:CPU:0] (DEBUG INFO) Executor start aborting (this does not indicate an error and you can ignore this message): INVALID_ARGUMENT: You must feed a value for placeholder tensor 'Placeholder/_12' with dtype float and shape [1000,64]\n",
      "\t [[{{node Placeholder/_12}}]]\n"
     ]
    },
    {
     "name": "stdout",
     "output_type": "stream",
     "text": [
      " 4/16 [======>.......................] - ETA: 13s - factorized_top_k/top_1_categorical_accuracy: 0.0432 - factorized_top_k/top_5_categorical_accuracy: 0.0540 - factorized_top_k/top_10_categorical_accuracy: 0.0887 - factorized_top_k/top_50_categorical_accuracy: 0.3240 - factorized_top_k/top_100_categorical_accuracy: 0.5530 - loss: 2581.6329 - regularization_loss: 0.0000e+00 - total_loss: 2581.6329"
     ]
    },
    {
     "name": "stderr",
     "output_type": "stream",
     "text": [
      "2023-06-13 20:15:35.636862: I tensorflow/core/common_runtime/executor.cc:1197] [/device:CPU:0] (DEBUG INFO) Executor start aborting (this does not indicate an error and you can ignore this message): INVALID_ARGUMENT: You must feed a value for placeholder tensor 'Placeholder/_7' with dtype int64\n",
      "\t [[{{node Placeholder/_7}}]]\n"
     ]
    },
    {
     "name": "stdout",
     "output_type": "stream",
     "text": [
      " 5/16 [========>.....................] - ETA: 12s - factorized_top_k/top_1_categorical_accuracy: 0.0450 - factorized_top_k/top_5_categorical_accuracy: 0.0556 - factorized_top_k/top_10_categorical_accuracy: 0.0902 - factorized_top_k/top_50_categorical_accuracy: 0.3256 - factorized_top_k/top_100_categorical_accuracy: 0.5526 - loss: 2588.6275 - regularization_loss: 0.0000e+00 - total_loss: 2588.6275"
     ]
    },
    {
     "name": "stderr",
     "output_type": "stream",
     "text": [
      "2023-06-13 20:15:36.697587: I tensorflow/core/common_runtime/executor.cc:1197] [/device:CPU:0] (DEBUG INFO) Executor start aborting (this does not indicate an error and you can ignore this message): INVALID_ARGUMENT: You must feed a value for placeholder tensor 'Placeholder/_0' with dtype string and shape [20232]\n",
      "\t [[{{node Placeholder/_0}}]]\n"
     ]
    },
    {
     "name": "stdout",
     "output_type": "stream",
     "text": [
      " 6/16 [==========>...................] - ETA: 11s - factorized_top_k/top_1_categorical_accuracy: 0.0458 - factorized_top_k/top_5_categorical_accuracy: 0.0573 - factorized_top_k/top_10_categorical_accuracy: 0.0918 - factorized_top_k/top_50_categorical_accuracy: 0.3278 - factorized_top_k/top_100_categorical_accuracy: 0.5533 - loss: 2583.9167 - regularization_loss: 0.0000e+00 - total_loss: 2583.9167"
     ]
    },
    {
     "name": "stderr",
     "output_type": "stream",
     "text": [
      "2023-06-13 20:15:37.841055: I tensorflow/core/common_runtime/executor.cc:1197] [/device:CPU:0] (DEBUG INFO) Executor start aborting (this does not indicate an error and you can ignore this message): INVALID_ARGUMENT: You must feed a value for placeholder tensor 'Placeholder/_6' with dtype resource\n",
      "\t [[{{node Placeholder/_6}}]]\n"
     ]
    },
    {
     "name": "stdout",
     "output_type": "stream",
     "text": [
      " 7/16 [============>.................] - ETA: 9s - factorized_top_k/top_1_categorical_accuracy: 0.0457 - factorized_top_k/top_5_categorical_accuracy: 0.0569 - factorized_top_k/top_10_categorical_accuracy: 0.0901 - factorized_top_k/top_50_categorical_accuracy: 0.3251 - factorized_top_k/top_100_categorical_accuracy: 0.5521 - loss: 2588.5052 - regularization_loss: 0.0000e+00 - total_loss: 2588.5052 "
     ]
    },
    {
     "name": "stderr",
     "output_type": "stream",
     "text": [
      "2023-06-13 20:15:38.888745: I tensorflow/core/common_runtime/executor.cc:1197] [/device:CPU:0] (DEBUG INFO) Executor start aborting (this does not indicate an error and you can ignore this message): INVALID_ARGUMENT: You must feed a value for placeholder tensor 'Placeholder/_10' with dtype resource\n",
      "\t [[{{node Placeholder/_10}}]]\n"
     ]
    },
    {
     "name": "stdout",
     "output_type": "stream",
     "text": [
      " 8/16 [==============>...............] - ETA: 8s - factorized_top_k/top_1_categorical_accuracy: 0.0456 - factorized_top_k/top_5_categorical_accuracy: 0.0579 - factorized_top_k/top_10_categorical_accuracy: 0.0910 - factorized_top_k/top_50_categorical_accuracy: 0.3231 - factorized_top_k/top_100_categorical_accuracy: 0.5510 - loss: 2587.6696 - regularization_loss: 0.0000e+00 - total_loss: 2587.6696"
     ]
    },
    {
     "name": "stderr",
     "output_type": "stream",
     "text": [
      "2023-06-13 20:15:39.835230: I tensorflow/core/common_runtime/executor.cc:1197] [/device:CPU:0] (DEBUG INFO) Executor start aborting (this does not indicate an error and you can ignore this message): INVALID_ARGUMENT: You must feed a value for placeholder tensor 'Placeholder/_12' with dtype float and shape [1000,64]\n",
      "\t [[{{node Placeholder/_12}}]]\n"
     ]
    },
    {
     "name": "stdout",
     "output_type": "stream",
     "text": [
      " 9/16 [===============>..............] - ETA: 7s - factorized_top_k/top_1_categorical_accuracy: 0.0452 - factorized_top_k/top_5_categorical_accuracy: 0.0569 - factorized_top_k/top_10_categorical_accuracy: 0.0898 - factorized_top_k/top_50_categorical_accuracy: 0.3213 - factorized_top_k/top_100_categorical_accuracy: 0.5494 - loss: 2591.1755 - regularization_loss: 0.0000e+00 - total_loss: 2591.1755"
     ]
    },
    {
     "name": "stderr",
     "output_type": "stream",
     "text": [
      "2023-06-13 20:15:40.911328: I tensorflow/core/common_runtime/executor.cc:1197] [/device:CPU:0] (DEBUG INFO) Executor start aborting (this does not indicate an error and you can ignore this message): INVALID_ARGUMENT: You must feed a value for placeholder tensor 'Placeholder/_12' with dtype float and shape [1000,64]\n",
      "\t [[{{node Placeholder/_12}}]]\n"
     ]
    },
    {
     "name": "stdout",
     "output_type": "stream",
     "text": [
      "10/16 [=================>............] - ETA: 6s - factorized_top_k/top_1_categorical_accuracy: 0.0446 - factorized_top_k/top_5_categorical_accuracy: 0.0565 - factorized_top_k/top_10_categorical_accuracy: 0.0884 - factorized_top_k/top_50_categorical_accuracy: 0.3226 - factorized_top_k/top_100_categorical_accuracy: 0.5497 - loss: 2590.2129 - regularization_loss: 0.0000e+00 - total_loss: 2590.2129"
     ]
    },
    {
     "name": "stderr",
     "output_type": "stream",
     "text": [
      "2023-06-13 20:15:41.821068: I tensorflow/core/common_runtime/executor.cc:1197] [/device:CPU:0] (DEBUG INFO) Executor start aborting (this does not indicate an error and you can ignore this message): INVALID_ARGUMENT: You must feed a value for placeholder tensor 'Placeholder/_12' with dtype float and shape [1000,64]\n",
      "\t [[{{node Placeholder/_12}}]]\n"
     ]
    },
    {
     "name": "stdout",
     "output_type": "stream",
     "text": [
      "11/16 [===================>..........] - ETA: 5s - factorized_top_k/top_1_categorical_accuracy: 0.0441 - factorized_top_k/top_5_categorical_accuracy: 0.0564 - factorized_top_k/top_10_categorical_accuracy: 0.0878 - factorized_top_k/top_50_categorical_accuracy: 0.3234 - factorized_top_k/top_100_categorical_accuracy: 0.5525 - loss: 2587.7450 - regularization_loss: 0.0000e+00 - total_loss: 2587.7450"
     ]
    },
    {
     "name": "stderr",
     "output_type": "stream",
     "text": [
      "2023-06-13 20:15:42.793363: I tensorflow/core/common_runtime/executor.cc:1197] [/device:CPU:0] (DEBUG INFO) Executor start aborting (this does not indicate an error and you can ignore this message): INVALID_ARGUMENT: You must feed a value for placeholder tensor 'Placeholder/_6' with dtype resource\n",
      "\t [[{{node Placeholder/_6}}]]\n"
     ]
    },
    {
     "name": "stdout",
     "output_type": "stream",
     "text": [
      "12/16 [=====================>........] - ETA: 4s - factorized_top_k/top_1_categorical_accuracy: 0.0442 - factorized_top_k/top_5_categorical_accuracy: 0.0566 - factorized_top_k/top_10_categorical_accuracy: 0.0876 - factorized_top_k/top_50_categorical_accuracy: 0.3220 - factorized_top_k/top_100_categorical_accuracy: 0.5520 - loss: 2589.6784 - regularization_loss: 0.0000e+00 - total_loss: 2589.6784"
     ]
    },
    {
     "name": "stderr",
     "output_type": "stream",
     "text": [
      "2023-06-13 20:15:44.043460: I tensorflow/core/common_runtime/executor.cc:1197] [/device:CPU:0] (DEBUG INFO) Executor start aborting (this does not indicate an error and you can ignore this message): INVALID_ARGUMENT: You must feed a value for placeholder tensor 'Placeholder/_8' with dtype resource\n",
      "\t [[{{node Placeholder/_8}}]]\n"
     ]
    },
    {
     "name": "stdout",
     "output_type": "stream",
     "text": [
      "13/16 [=======================>......] - ETA: 3s - factorized_top_k/top_1_categorical_accuracy: 0.0442 - factorized_top_k/top_5_categorical_accuracy: 0.0566 - factorized_top_k/top_10_categorical_accuracy: 0.0868 - factorized_top_k/top_50_categorical_accuracy: 0.3222 - factorized_top_k/top_100_categorical_accuracy: 0.5498 - loss: 2590.3897 - regularization_loss: 0.0000e+00 - total_loss: 2590.3897"
     ]
    },
    {
     "name": "stderr",
     "output_type": "stream",
     "text": [
      "2023-06-13 20:15:45.125423: I tensorflow/core/common_runtime/executor.cc:1197] [/device:CPU:0] (DEBUG INFO) Executor start aborting (this does not indicate an error and you can ignore this message): INVALID_ARGUMENT: You must feed a value for placeholder tensor 'Placeholder/_8' with dtype resource\n",
      "\t [[{{node Placeholder/_8}}]]\n"
     ]
    },
    {
     "name": "stdout",
     "output_type": "stream",
     "text": [
      "14/16 [=========================>....] - ETA: 2s - factorized_top_k/top_1_categorical_accuracy: 0.0436 - factorized_top_k/top_5_categorical_accuracy: 0.0566 - factorized_top_k/top_10_categorical_accuracy: 0.0871 - factorized_top_k/top_50_categorical_accuracy: 0.3227 - factorized_top_k/top_100_categorical_accuracy: 0.5516 - loss: 2588.6802 - regularization_loss: 0.0000e+00 - total_loss: 2588.6802"
     ]
    },
    {
     "name": "stderr",
     "output_type": "stream",
     "text": [
      "2023-06-13 20:15:46.399291: I tensorflow/core/common_runtime/executor.cc:1197] [/device:CPU:0] (DEBUG INFO) Executor start aborting (this does not indicate an error and you can ignore this message): INVALID_ARGUMENT: You must feed a value for placeholder tensor 'Placeholder/_7' with dtype int64\n",
      "\t [[{{node Placeholder/_7}}]]\n"
     ]
    },
    {
     "name": "stdout",
     "output_type": "stream",
     "text": [
      "15/16 [===========================>..] - ETA: 1s - factorized_top_k/top_1_categorical_accuracy: 0.0441 - factorized_top_k/top_5_categorical_accuracy: 0.0571 - factorized_top_k/top_10_categorical_accuracy: 0.0875 - factorized_top_k/top_50_categorical_accuracy: 0.3218 - factorized_top_k/top_100_categorical_accuracy: 0.5509 - loss: 2588.2587 - regularization_loss: 0.0000e+00 - total_loss: 2588.2587"
     ]
    },
    {
     "name": "stderr",
     "output_type": "stream",
     "text": [
      "2023-06-13 20:15:47.381482: I tensorflow/core/common_runtime/executor.cc:1197] [/device:CPU:0] (DEBUG INFO) Executor start aborting (this does not indicate an error and you can ignore this message): INVALID_ARGUMENT: You must feed a value for placeholder tensor 'Placeholder/_12' with dtype float and shape [1000,64]\n",
      "\t [[{{node Placeholder/_12}}]]\n"
     ]
    },
    {
     "name": "stdout",
     "output_type": "stream",
     "text": [
      "16/16 [==============================] - 17s 1s/step - factorized_top_k/top_1_categorical_accuracy: 0.0439 - factorized_top_k/top_5_categorical_accuracy: 0.0568 - factorized_top_k/top_10_categorical_accuracy: 0.0869 - factorized_top_k/top_50_categorical_accuracy: 0.3222 - factorized_top_k/top_100_categorical_accuracy: 0.5521 - loss: 2584.7998 - regularization_loss: 0.0000e+00 - total_loss: 2584.7998\n"
     ]
    },
    {
     "name": "stderr",
     "output_type": "stream",
     "text": [
      "2023-06-13 20:15:48.311506: I tensorflow/core/common_runtime/executor.cc:1197] [/device:CPU:0] (DEBUG INFO) Executor start aborting (this does not indicate an error and you can ignore this message): INVALID_ARGUMENT: You must feed a value for placeholder tensor 'Placeholder/_1' with dtype string and shape [20232]\n",
      "\t [[{{node Placeholder/_1}}]]\n",
      "2023-06-13 20:15:49.452067: I tensorflow/core/common_runtime/executor.cc:1197] [/device:CPU:0] (DEBUG INFO) Executor start aborting (this does not indicate an error and you can ignore this message): INVALID_ARGUMENT: You must feed a value for placeholder tensor 'Placeholder/_12' with dtype float and shape [1000,64]\n",
      "\t [[{{node Placeholder/_12}}]]\n"
     ]
    },
    {
     "name": "stdout",
     "output_type": "stream",
     "text": [
      "1/5 [=====>........................] - ETA: 8s - factorized_top_k/top_1_categorical_accuracy: 0.0080 - factorized_top_k/top_5_categorical_accuracy: 0.0100 - factorized_top_k/top_10_categorical_accuracy: 0.0160 - factorized_top_k/top_50_categorical_accuracy: 0.0870 - factorized_top_k/top_100_categorical_accuracy: 0.1840 - loss: 6378.6279 - regularization_loss: 0.0000e+00 - total_loss: 6378.6279"
     ]
    },
    {
     "name": "stderr",
     "output_type": "stream",
     "text": [
      "2023-06-13 20:15:50.357389: I tensorflow/core/common_runtime/executor.cc:1197] [/device:CPU:0] (DEBUG INFO) Executor start aborting (this does not indicate an error and you can ignore this message): INVALID_ARGUMENT: You must feed a value for placeholder tensor 'Placeholder/_12' with dtype float and shape [1000,64]\n",
      "\t [[{{node Placeholder/_12}}]]\n"
     ]
    },
    {
     "name": "stdout",
     "output_type": "stream",
     "text": [
      "2/5 [===========>..................] - ETA: 2s - factorized_top_k/top_1_categorical_accuracy: 0.0065 - factorized_top_k/top_5_categorical_accuracy: 0.0075 - factorized_top_k/top_10_categorical_accuracy: 0.0165 - factorized_top_k/top_50_categorical_accuracy: 0.1005 - factorized_top_k/top_100_categorical_accuracy: 0.1855 - loss: 6479.7144 - regularization_loss: 0.0000e+00 - total_loss: 6479.7144"
     ]
    },
    {
     "name": "stderr",
     "output_type": "stream",
     "text": [
      "2023-06-13 20:15:51.145906: I tensorflow/core/common_runtime/executor.cc:1197] [/device:CPU:0] (DEBUG INFO) Executor start aborting (this does not indicate an error and you can ignore this message): INVALID_ARGUMENT: You must feed a value for placeholder tensor 'Placeholder/_7' with dtype int64\n",
      "\t [[{{node Placeholder/_7}}]]\n"
     ]
    },
    {
     "name": "stdout",
     "output_type": "stream",
     "text": [
      "3/5 [=================>............] - ETA: 1s - factorized_top_k/top_1_categorical_accuracy: 0.0063 - factorized_top_k/top_5_categorical_accuracy: 0.0083 - factorized_top_k/top_10_categorical_accuracy: 0.0187 - factorized_top_k/top_50_categorical_accuracy: 0.1160 - factorized_top_k/top_100_categorical_accuracy: 0.2183 - loss: 6446.2386 - regularization_loss: 0.0000e+00 - total_loss: 6446.2386"
     ]
    },
    {
     "name": "stderr",
     "output_type": "stream",
     "text": [
      "2023-06-13 20:15:51.897030: I tensorflow/core/common_runtime/executor.cc:1197] [/device:CPU:0] (DEBUG INFO) Executor start aborting (this does not indicate an error and you can ignore this message): INVALID_ARGUMENT: You must feed a value for placeholder tensor 'Placeholder/_6' with dtype resource\n",
      "\t [[{{node Placeholder/_6}}]]\n"
     ]
    },
    {
     "name": "stdout",
     "output_type": "stream",
     "text": [
      "4/5 [=======================>......] - ETA: 0s - factorized_top_k/top_1_categorical_accuracy: 0.0060 - factorized_top_k/top_5_categorical_accuracy: 0.0080 - factorized_top_k/top_10_categorical_accuracy: 0.0172 - factorized_top_k/top_50_categorical_accuracy: 0.1103 - factorized_top_k/top_100_categorical_accuracy: 0.1960 - loss: 6609.0414 - regularization_loss: 0.0000e+00 - total_loss: 6609.0414"
     ]
    },
    {
     "name": "stderr",
     "output_type": "stream",
     "text": [
      "2023-06-13 20:15:52.664944: I tensorflow/core/common_runtime/executor.cc:1197] [/device:CPU:0] (DEBUG INFO) Executor start aborting (this does not indicate an error and you can ignore this message): INVALID_ARGUMENT: You must feed a value for placeholder tensor 'Placeholder/_10' with dtype resource\n",
      "\t [[{{node Placeholder/_10}}]]\n"
     ]
    },
    {
     "name": "stdout",
     "output_type": "stream",
     "text": [
      "5/5 [==============================] - 5s 656ms/step - factorized_top_k/top_1_categorical_accuracy: 0.0057 - factorized_top_k/top_5_categorical_accuracy: 0.0076 - factorized_top_k/top_10_categorical_accuracy: 0.0168 - factorized_top_k/top_50_categorical_accuracy: 0.1070 - factorized_top_k/top_100_categorical_accuracy: 0.1895 - loss: 4833.8975 - regularization_loss: 0.0000e+00 - total_loss: 4833.8975\n"
     ]
    },
    {
     "data": {
      "text/plain": [
       "{'factorized_top_k/top_1_categorical_accuracy': 0.005671077407896519,\n",
       " 'factorized_top_k/top_5_categorical_accuracy': 0.007561436854302883,\n",
       " 'factorized_top_k/top_10_categorical_accuracy': 0.01677693799138069,\n",
       " 'factorized_top_k/top_50_categorical_accuracy': 0.10704158991575241,\n",
       " 'factorized_top_k/top_100_categorical_accuracy': 0.18950851261615753,\n",
       " 'loss': 1283.60986328125,\n",
       " 'regularization_loss': 0,\n",
       " 'total_loss': 1283.60986328125}"
      ]
     },
     "execution_count": 48,
     "metadata": {},
     "output_type": "execute_result"
    }
   ],
   "source": [
    "cached_train = train.shuffle(20_232).batch(1000).cache()\n",
    "cached_test = test.batch(1000).cache()\n",
    "\n",
    "model = Model()\n",
    "model.compile(optimizer=tf.keras.optimizers.Adagrad(learning_rate=0.1))\n",
    "\n",
    "model.fit(cached_train, epochs=10)\n",
    "\n",
    "model.evaluate(cached_test, return_dict=True)"
   ]
  },
  {
   "cell_type": "code",
   "execution_count": 62,
   "metadata": {},
   "outputs": [],
   "source": [
    "def predict_gigs(client, top_n=3):\n",
    "    # Create a model that takes in raw query features, and\n",
    "    index = tfrs.layers.factorized_top_k.BruteForce(model.client_model)\n",
    "    # recommends movies out of the entire movies dataset.\n",
    "    index.index_from_dataset(\n",
    "      tf.data.Dataset.zip((imgs.batch(1000), imgs.batch(1000).map(model.item_model)))\n",
    "    )\n",
    "\n",
    "    # Get recommendations.\n",
    "    _, gigs = index(tf.constant([str(client)]))\n",
    "    \n",
    "    print('Recommendations for user {}: {}\\n'.format(client, gigs[0, :3]))\n",
    "   # for i, gig in enumerate(gigs[0, :top_n].numpy()):\n",
    "   #     print('{}'.format(gig.decode(\"utf-8\")))"
   ]
  },
  {
   "cell_type": "code",
   "execution_count": 63,
   "metadata": {},
   "outputs": [
    {
     "name": "stderr",
     "output_type": "stream",
     "text": [
      "2023-06-14 05:57:23.591076: I tensorflow/core/common_runtime/executor.cc:1197] [/device:CPU:0] (DEBUG INFO) Executor start aborting (this does not indicate an error and you can ignore this message): INVALID_ARGUMENT: You must feed a value for placeholder tensor 'Placeholder/_0' with dtype string and shape [20232]\n",
      "\t [[{{node Placeholder/_0}}]]\n",
      "2023-06-14 05:57:23.591920: I tensorflow/core/common_runtime/executor.cc:1197] [/device:CPU:0] (DEBUG INFO) Executor start aborting (this does not indicate an error and you can ignore this message): INVALID_ARGUMENT: You must feed a value for placeholder tensor 'Placeholder/_13' with dtype int64\n",
      "\t [[{{node Placeholder/_13}}]]\n"
     ]
    },
    {
     "name": "stdout",
     "output_type": "stream",
     "text": [
      "Recommendations for user lifehossain: [b'https://fiverr-res.cloudinary.com/t_gig_cards_web,q_auto,f_auto/gigs/163754892/original/9fdc89de7b574bfcd213695eab1a76769a5deef7.jpg'\n",
      " b'https://fiverr-res.cloudinary.com/t_gig_cards_web,q_auto,f_auto/gigs/163754892/original/9fdc89de7b574bfcd213695eab1a76769a5deef7.jpg'\n",
      " b'https://fiverr-res.cloudinary.com/t_gig_cards_web,q_auto,f_auto/gigs/163754892/original/9fdc89de7b574bfcd213695eab1a76769a5deef7.jpg']\n",
      "\n"
     ]
    }
   ],
   "source": [
    "predict_gigs('lifehossain')"
   ]
  },
  {
   "cell_type": "code",
   "execution_count": 61,
   "metadata": {},
   "outputs": [],
   "source": [
    "model.save_weights('tfrs.h5')"
   ]
  }
 ],
 "metadata": {
  "kernelspec": {
   "display_name": "base",
   "language": "python",
   "name": "python3"
  },
  "language_info": {
   "codemirror_mode": {
    "name": "ipython",
    "version": 3
   },
   "file_extension": ".py",
   "mimetype": "text/x-python",
   "name": "python",
   "nbconvert_exporter": "python",
   "pygments_lexer": "ipython3",
   "version": "3.9.13"
  },
  "orig_nbformat": 4
 },
 "nbformat": 4,
 "nbformat_minor": 2
}
