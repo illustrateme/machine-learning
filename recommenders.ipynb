{
 "cells": [
  {
   "attachments": {},
   "cell_type": "markdown",
   "metadata": {},
   "source": [
    "# Constructing TensorFlow Recommenders Model"
   ]
  },
  {
   "cell_type": "code",
   "execution_count": 1,
   "metadata": {},
   "outputs": [
    {
     "name": "stderr",
     "output_type": "stream",
     "text": [
      "2023-06-14 17:04:13.310779: I tensorflow/core/platform/cpu_feature_guard.cc:182] This TensorFlow binary is optimized to use available CPU instructions in performance-critical operations.\n",
      "To enable the following instructions: AVX2 FMA, in other operations, rebuild TensorFlow with the appropriate compiler flags.\n"
     ]
    }
   ],
   "source": [
    "import tensorflow_recommenders as tfrs"
   ]
  },
  {
   "cell_type": "code",
   "execution_count": 2,
   "metadata": {},
   "outputs": [],
   "source": [
    "import pandas as pd\n",
    "import numpy as np"
   ]
  },
  {
   "cell_type": "code",
   "execution_count": 3,
   "metadata": {},
   "outputs": [],
   "source": [
    "import string"
   ]
  },
  {
   "cell_type": "code",
   "execution_count": 4,
   "metadata": {},
   "outputs": [],
   "source": [
    "fiverr_df = pd.read_csv('/Users/rsoedarnadi/Documents/GitHub/machine-learning/fiverr_data.csv', delimiter=',')"
   ]
  },
  {
   "cell_type": "code",
   "execution_count": 5,
   "metadata": {},
   "outputs": [
    {
     "data": {
      "text/html": [
       "<div>\n",
       "<style scoped>\n",
       "    .dataframe tbody tr th:only-of-type {\n",
       "        vertical-align: middle;\n",
       "    }\n",
       "\n",
       "    .dataframe tbody tr th {\n",
       "        vertical-align: top;\n",
       "    }\n",
       "\n",
       "    .dataframe thead th {\n",
       "        text-align: right;\n",
       "    }\n",
       "</style>\n",
       "<table border=\"1\" class=\"dataframe\">\n",
       "  <thead>\n",
       "    <tr style=\"text-align: right;\">\n",
       "      <th></th>\n",
       "      <th>illustrator_name</th>\n",
       "      <th>gig_rating</th>\n",
       "      <th>gig_price_from</th>\n",
       "      <th>gig_img_url</th>\n",
       "      <th>gig_url</th>\n",
       "      <th>gig_design_type</th>\n",
       "      <th>gig_design_style</th>\n",
       "      <th>client_origins</th>\n",
       "      <th>client_names</th>\n",
       "      <th>illustrator_origins</th>\n",
       "    </tr>\n",
       "  </thead>\n",
       "  <tbody>\n",
       "    <tr>\n",
       "      <th>0</th>\n",
       "      <td>nadia_younus</td>\n",
       "      <td>5.0</td>\n",
       "      <td>60</td>\n",
       "      <td>https://fiverr-res.cloudinary.com/t_gig_cards_...</td>\n",
       "      <td>https://www.fiverr.com/nadia_younus/do-minimal...</td>\n",
       "      <td>logos</td>\n",
       "      <td>minimalist</td>\n",
       "      <td>Canada</td>\n",
       "      <td>stoxventures</td>\n",
       "      <td>Pakistan</td>\n",
       "    </tr>\n",
       "    <tr>\n",
       "      <th>1</th>\n",
       "      <td>mariya_logo99</td>\n",
       "      <td>4.9</td>\n",
       "      <td>15</td>\n",
       "      <td>https://fiverr-res.cloudinary.com/t_gig_cards_...</td>\n",
       "      <td>https://www.fiverr.com/mariya_logo99/do-creati...</td>\n",
       "      <td>logos</td>\n",
       "      <td>minimalist</td>\n",
       "      <td>Italy</td>\n",
       "      <td>lifehossain</td>\n",
       "      <td>Bangladesh</td>\n",
       "    </tr>\n",
       "    <tr>\n",
       "      <th>2</th>\n",
       "      <td>mountdesign</td>\n",
       "      <td>4.9</td>\n",
       "      <td>10</td>\n",
       "      <td>https://fiverr-res.cloudinary.com/t_gig_cards_...</td>\n",
       "      <td>https://www.fiverr.com/mountdesign/design-3-pr...</td>\n",
       "      <td>logos</td>\n",
       "      <td>minimalist</td>\n",
       "      <td>United States</td>\n",
       "      <td>stormproofrooof</td>\n",
       "      <td>India</td>\n",
       "    </tr>\n",
       "    <tr>\n",
       "      <th>3</th>\n",
       "      <td>ahmed_gfx786</td>\n",
       "      <td>4.9</td>\n",
       "      <td>5</td>\n",
       "      <td>https://fiverr-res.cloudinary.com/t_gig_cards_...</td>\n",
       "      <td>https://www.fiverr.com/ahmed_gfx786/design-a-u...</td>\n",
       "      <td>logos</td>\n",
       "      <td>minimalist</td>\n",
       "      <td>France</td>\n",
       "      <td>remi_bgd</td>\n",
       "      <td>Pakistan</td>\n",
       "    </tr>\n",
       "    <tr>\n",
       "      <th>4</th>\n",
       "      <td>websutra</td>\n",
       "      <td>4.9</td>\n",
       "      <td>400</td>\n",
       "      <td>https://fiverr-res.cloudinary.com/t_gig_cards_...</td>\n",
       "      <td>https://www.fiverr.com/websutra/draw-an-unique...</td>\n",
       "      <td>logos</td>\n",
       "      <td>minimalist</td>\n",
       "      <td>United States</td>\n",
       "      <td>tribolumen</td>\n",
       "      <td>Sri Lanka</td>\n",
       "    </tr>\n",
       "    <tr>\n",
       "      <th>5</th>\n",
       "      <td>kiara43</td>\n",
       "      <td>4.9</td>\n",
       "      <td>5</td>\n",
       "      <td>https://fiverr-res.cloudinary.com/t_gig_cards_...</td>\n",
       "      <td>https://www.fiverr.com/kiara43/create-modern-m...</td>\n",
       "      <td>logos</td>\n",
       "      <td>minimalist</td>\n",
       "      <td>Germany</td>\n",
       "      <td>sustainifytoday</td>\n",
       "      <td>Sri Lanka</td>\n",
       "    </tr>\n",
       "  </tbody>\n",
       "</table>\n",
       "</div>"
      ],
      "text/plain": [
       "  illustrator_name  gig_rating  gig_price_from  \\\n",
       "0     nadia_younus         5.0              60   \n",
       "1    mariya_logo99         4.9              15   \n",
       "2      mountdesign         4.9              10   \n",
       "3     ahmed_gfx786         4.9               5   \n",
       "4         websutra         4.9             400   \n",
       "5          kiara43         4.9               5   \n",
       "\n",
       "                                         gig_img_url  \\\n",
       "0  https://fiverr-res.cloudinary.com/t_gig_cards_...   \n",
       "1  https://fiverr-res.cloudinary.com/t_gig_cards_...   \n",
       "2  https://fiverr-res.cloudinary.com/t_gig_cards_...   \n",
       "3  https://fiverr-res.cloudinary.com/t_gig_cards_...   \n",
       "4  https://fiverr-res.cloudinary.com/t_gig_cards_...   \n",
       "5  https://fiverr-res.cloudinary.com/t_gig_cards_...   \n",
       "\n",
       "                                             gig_url gig_design_type  \\\n",
       "0  https://www.fiverr.com/nadia_younus/do-minimal...           logos   \n",
       "1  https://www.fiverr.com/mariya_logo99/do-creati...           logos   \n",
       "2  https://www.fiverr.com/mountdesign/design-3-pr...           logos   \n",
       "3  https://www.fiverr.com/ahmed_gfx786/design-a-u...           logos   \n",
       "4  https://www.fiverr.com/websutra/draw-an-unique...           logos   \n",
       "5  https://www.fiverr.com/kiara43/create-modern-m...           logos   \n",
       "\n",
       "  gig_design_style client_origins     client_names illustrator_origins  \n",
       "0       minimalist         Canada     stoxventures            Pakistan  \n",
       "1       minimalist          Italy      lifehossain          Bangladesh  \n",
       "2       minimalist  United States  stormproofrooof               India  \n",
       "3       minimalist         France         remi_bgd            Pakistan  \n",
       "4       minimalist  United States       tribolumen           Sri Lanka  \n",
       "5       minimalist        Germany  sustainifytoday           Sri Lanka  "
      ]
     },
     "execution_count": 5,
     "metadata": {},
     "output_type": "execute_result"
    }
   ],
   "source": [
    "fiverr_df.head(6)"
   ]
  },
  {
   "cell_type": "code",
   "execution_count": 6,
   "metadata": {},
   "outputs": [],
   "source": [
    "fiverr_df = fiverr_df.dropna().drop_duplicates().reset_index(drop=True)"
   ]
  },
  {
   "cell_type": "code",
   "execution_count": 9,
   "metadata": {},
   "outputs": [],
   "source": [
    "from typing import Dict, Text\n",
    "\n",
    "import tensorflow as tf\n",
    "import tensorflow_recommenders as tfrs"
   ]
  },
  {
   "cell_type": "code",
   "execution_count": 10,
   "metadata": {},
   "outputs": [],
   "source": [
    "ratings = tf.data.Dataset.from_tensor_slices(dict(fiverr_df[['gig_img_url','client_names', 'gig_rating', 'gig_design_type', 'gig_design_style']]))\n",
    "imgs = tf.data.Dataset.from_tensor_slices(dict(fiverr_df[['gig_img_url']]))"
   ]
  },
  {
   "cell_type": "code",
   "execution_count": 11,
   "metadata": {},
   "outputs": [],
   "source": [
    "ratings = ratings.map(lambda x: {\n",
    "    \"gig_img_url\": x[\"gig_img_url\"],\n",
    "    \"client_names\": x[\"client_names\"],\n",
    "    \"gig_rating\": float(x[\"gig_rating\"]),\n",
    "    \"gig_design_type\": x[\"gig_design_type\"],\n",
    "    \"gig_design_style\": x[\"gig_design_style\"]\n",
    "})\n",
    "\n",
    "imgs = imgs.map(lambda x: x[\"gig_img_url\"])"
   ]
  },
  {
   "cell_type": "code",
   "execution_count": 12,
   "metadata": {},
   "outputs": [],
   "source": [
    "tf.random.set_seed(42)\n",
    "shuffled = ratings.shuffle(35_406, seed=42, reshuffle_each_iteration=False)\n",
    "train = ratings.take(30_000)\n",
    "test = ratings.skip(30_000).take(5_406)"
   ]
  },
  {
   "cell_type": "code",
   "execution_count": 13,
   "metadata": {},
   "outputs": [
    {
     "name": "stderr",
     "output_type": "stream",
     "text": [
      "2023-06-14 17:06:34.570718: I tensorflow/core/common_runtime/executor.cc:1197] [/device:CPU:0] (DEBUG INFO) Executor start aborting (this does not indicate an error and you can ignore this message): INVALID_ARGUMENT: You must feed a value for placeholder tensor 'Placeholder/_0' with dtype string and shape [1686]\n",
      "\t [[{{node Placeholder/_0}}]]\n",
      "2023-06-14 17:06:34.619700: I tensorflow/core/common_runtime/executor.cc:1197] [/device:CPU:0] (DEBUG INFO) Executor start aborting (this does not indicate an error and you can ignore this message): INVALID_ARGUMENT: You must feed a value for placeholder tensor 'Placeholder/_2' with dtype string and shape [1686]\n",
      "\t [[{{node Placeholder/_2}}]]\n"
     ]
    },
    {
     "data": {
      "text/plain": [
       "array([b'https://fiverr-res.cloudinary.com/t_gig_cards_web,q_auto,f_auto/gigs/100175685/original/0531df1a9873ba7d4bfa28831916295c8996b355.png',\n",
       "       b'https://fiverr-res.cloudinary.com/t_gig_cards_web,q_auto,f_auto/gigs/100267701/original/dc68a5ca86285ba97ed2fdbac7eb8118fb79b129.jpg',\n",
       "       b'https://fiverr-res.cloudinary.com/t_gig_cards_web,q_auto,f_auto/gigs/100633290/original/d2e5623413c4650fd54972f6accc5ed33c5d8144.jpg',\n",
       "       b'https://fiverr-res.cloudinary.com/t_gig_cards_web,q_auto,f_auto/gigs/100752175/original/1e8500b760079bbeb8d57e8d09c979fb6cb6a478.jpg',\n",
       "       b'https://fiverr-res.cloudinary.com/t_gig_cards_web,q_auto,f_auto/gigs/100849695/original/861139cd50b2e53d18e301ae12619c2d397ee171.jpg',\n",
       "       b'https://fiverr-res.cloudinary.com/t_gig_cards_web,q_auto,f_auto/gigs/100955264/original/0500c21e89e1349e2cea19cdcb7f64c9dede9ba3.jpg',\n",
       "       b'https://fiverr-res.cloudinary.com/t_gig_cards_web,q_auto,f_auto/gigs/101019442/original/e532854981e67059236c848215363fc0d5d175f3.jpg',\n",
       "       b'https://fiverr-res.cloudinary.com/t_gig_cards_web,q_auto,f_auto/gigs/101066621/original/dae636844fcbc7533ff7b0e7845e062f5cc2118b.jpg',\n",
       "       b'https://fiverr-res.cloudinary.com/t_gig_cards_web,q_auto,f_auto/gigs/101109322/original/b7cd599395891a490414fc16369b6b8efcd84974.jpg',\n",
       "       b'https://fiverr-res.cloudinary.com/t_gig_cards_web,q_auto,f_auto/gigs/101135183/original/ec29fe5b84e71af455e9acb3e4c1886e52be46d9.jpg'],\n",
       "      dtype=object)"
      ]
     },
     "execution_count": 13,
     "metadata": {},
     "output_type": "execute_result"
    }
   ],
   "source": [
    "img_urls = imgs.batch(1_000)\n",
    "clients_names = ratings.batch(1_000_000).map(lambda x: x['client_names'])\n",
    "\n",
    "unique_img_urls = np.unique(np.concatenate(list(img_urls)))\n",
    "unique_clients_names = np.unique(np.concatenate(list(clients_names)))\n",
    "\n",
    "unique_img_urls[:10]"
   ]
  },
  {
   "cell_type": "code",
   "execution_count": 14,
   "metadata": {},
   "outputs": [],
   "source": [
    "embedding_dimension = 32\n",
    "\n",
    "client_model = tf.keras.Sequential([\n",
    "    tf.keras.layers.StringLookup(\n",
    "        vocabulary=unique_clients_names, mask_token=None),\n",
    "        tf.keras.layers.Embedding(len(unique_clients_names) + 1,   \n",
    "                                  embedding_dimension)\n",
    "])\n",
    "\n",
    "item_model = tf.keras.Sequential([\n",
    "    tf.keras.layers.StringLookup(\n",
    "        vocabulary=unique_img_urls, mask_token=None),\n",
    "        tf.keras.layers.Embedding(len(unique_img_urls) + 1, \n",
    "                                  embedding_dimension)\n",
    "])"
   ]
  },
  {
   "cell_type": "code",
   "execution_count": 15,
   "metadata": {},
   "outputs": [],
   "source": [
    "metrics = tfrs.metrics.FactorizedTopK(\n",
    "  candidates=imgs.batch(128).map(item_model)\n",
    ")\n",
    "\n",
    "task = tfrs.tasks.Retrieval(\n",
    "  metrics=metrics\n",
    ")\n"
   ]
  },
  {
   "cell_type": "code",
   "execution_count": 16,
   "metadata": {},
   "outputs": [],
   "source": [
    "class Model(tfrs.Model):\n",
    "  def __init__(self, client_model, item_model):\n",
    "    super().__init__()\n",
    "    self.item_model: tf.keras.Model = item_model\n",
    "    self.client_model: tf.keras.Model = client_model\n",
    "    self.retrieval_task: tf.keras.layers.Layer = task\n",
    "    \n",
    "  \n",
    "  def compute_loss(self, features: Dict[Text, tf.Tensor], training=False) -> tf.Tensor:\n",
    "    client_embeddings = self.client_model(features['client_names'])\n",
    "    positive_item_embeddings = self.item_model(features['gig_img_url'])\n",
    "\n",
    "    # The task computes the loss and the metrics.\n",
    "\n",
    "    return self.retrieval_task(client_embeddings, positive_item_embeddings)"
   ]
  },
  {
   "cell_type": "code",
   "execution_count": 17,
   "metadata": {},
   "outputs": [],
   "source": [
    "tf.keras.backend.clear_session()"
   ]
  },
  {
   "cell_type": "code",
   "execution_count": 18,
   "metadata": {},
   "outputs": [],
   "source": [
    "model = Model(client_model, item_model)\n",
    "model.compile(optimizer=tf.keras.optimizers.Adagrad(learning_rate=0.1))"
   ]
  },
  {
   "cell_type": "code",
   "execution_count": 19,
   "metadata": {},
   "outputs": [],
   "source": [
    "cached_train = train.shuffle(1_686).batch(300).cache()\n",
    "cached_test = test.batch(300).cache()"
   ]
  },
  {
   "cell_type": "code",
   "execution_count": 20,
   "metadata": {},
   "outputs": [
    {
     "name": "stdout",
     "output_type": "stream",
     "text": [
      "Epoch 1/10\n"
     ]
    },
    {
     "name": "stderr",
     "output_type": "stream",
     "text": [
      "2023-06-14 17:06:59.731730: I tensorflow/core/common_runtime/executor.cc:1197] [/device:CPU:0] (DEBUG INFO) Executor start aborting (this does not indicate an error and you can ignore this message): INVALID_ARGUMENT: You must feed a value for placeholder tensor 'Placeholder/_4' with dtype double and shape [1686]\n",
      "\t [[{{node Placeholder/_4}}]]\n"
     ]
    },
    {
     "name": "stdout",
     "output_type": "stream",
     "text": [
      "2/6 [=========>....................] - ETA: 0s - factorized_top_k/top_1_categorical_accuracy: 0.0000e+00 - factorized_top_k/top_5_categorical_accuracy: 0.0050 - factorized_top_k/top_10_categorical_accuracy: 0.0050 - factorized_top_k/top_50_categorical_accuracy: 0.0300 - factorized_top_k/top_100_categorical_accuracy: 0.0683 - loss: 1711.0682 - regularization_loss: 0.0000e+00 - total_loss: 1711.0682 "
     ]
    },
    {
     "name": "stderr",
     "output_type": "stream",
     "text": [
      "2023-06-14 17:07:01.734425: I tensorflow/core/common_runtime/executor.cc:1197] [/device:CPU:0] (DEBUG INFO) Executor start aborting (this does not indicate an error and you can ignore this message): INVALID_ARGUMENT: You must feed a value for placeholder tensor 'Placeholder/_0' with dtype string and shape [1686]\n",
      "\t [[{{node Placeholder/_0}}]]\n",
      "2023-06-14 17:07:01.815339: I tensorflow/core/common_runtime/executor.cc:1197] [/device:CPU:0] (DEBUG INFO) Executor start aborting (this does not indicate an error and you can ignore this message): INVALID_ARGUMENT: You must feed a value for placeholder tensor 'Placeholder/_6' with dtype resource\n",
      "\t [[{{node Placeholder/_6}}]]\n",
      "2023-06-14 17:07:01.899077: I tensorflow/core/common_runtime/executor.cc:1197] [/device:CPU:0] (DEBUG INFO) Executor start aborting (this does not indicate an error and you can ignore this message): INVALID_ARGUMENT: You must feed a value for placeholder tensor 'Placeholder/_8' with dtype resource\n",
      "\t [[{{node Placeholder/_8}}]]\n"
     ]
    },
    {
     "name": "stdout",
     "output_type": "stream",
     "text": [
      "5/6 [========================>.....] - ETA: 0s - factorized_top_k/top_1_categorical_accuracy: 0.0000e+00 - factorized_top_k/top_5_categorical_accuracy: 0.0027 - factorized_top_k/top_10_categorical_accuracy: 0.0040 - factorized_top_k/top_50_categorical_accuracy: 0.0267 - factorized_top_k/top_100_categorical_accuracy: 0.0607 - loss: 1711.1087 - regularization_loss: 0.0000e+00 - total_loss: 1711.1087"
     ]
    },
    {
     "name": "stderr",
     "output_type": "stream",
     "text": [
      "2023-06-14 17:07:01.987085: I tensorflow/core/common_runtime/executor.cc:1197] [/device:CPU:0] (DEBUG INFO) Executor start aborting (this does not indicate an error and you can ignore this message): INVALID_ARGUMENT: You must feed a value for placeholder tensor 'Placeholder/_0' with dtype string and shape [1686]\n",
      "\t [[{{node Placeholder/_0}}]]\n",
      "2023-06-14 17:07:02.075068: I tensorflow/core/common_runtime/executor.cc:1197] [/device:CPU:0] (DEBUG INFO) Executor start aborting (this does not indicate an error and you can ignore this message): INVALID_ARGUMENT: You must feed a value for placeholder tensor 'Placeholder/_12' with dtype float and shape [300,32]\n",
      "\t [[{{node Placeholder/_12}}]]\n",
      "2023-06-14 17:07:02.156579: I tensorflow/core/common_runtime/executor.cc:1197] [/device:CPU:0] (DEBUG INFO) Executor start aborting (this does not indicate an error and you can ignore this message): INVALID_ARGUMENT: You must feed a value for placeholder tensor 'Placeholder/_0' with dtype string and shape [1686]\n",
      "\t [[{{node Placeholder/_0}}]]\n"
     ]
    },
    {
     "name": "stdout",
     "output_type": "stream",
     "text": [
      "6/6 [==============================] - 2s 85ms/step - factorized_top_k/top_1_categorical_accuracy: 0.0000e+00 - factorized_top_k/top_5_categorical_accuracy: 0.0024 - factorized_top_k/top_10_categorical_accuracy: 0.0036 - factorized_top_k/top_50_categorical_accuracy: 0.0267 - factorized_top_k/top_100_categorical_accuracy: 0.0587 - loss: 1499.9368 - regularization_loss: 0.0000e+00 - total_loss: 1499.9368\n",
      "Epoch 2/10\n",
      "2/6 [=========>....................] - ETA: 0s - factorized_top_k/top_1_categorical_accuracy: 0.0000e+00 - factorized_top_k/top_5_categorical_accuracy: 0.5800 - factorized_top_k/top_10_categorical_accuracy: 0.7000 - factorized_top_k/top_50_categorical_accuracy: 0.9100 - factorized_top_k/top_100_categorical_accuracy: 0.9600 - loss: 1706.0117 - regularization_loss: 0.0000e+00 - total_loss: 1706.0117"
     ]
    },
    {
     "name": "stderr",
     "output_type": "stream",
     "text": [
      "2023-06-14 17:07:02.260726: I tensorflow/core/common_runtime/executor.cc:1197] [/device:CPU:0] (DEBUG INFO) Executor start aborting (this does not indicate an error and you can ignore this message): INVALID_ARGUMENT: You must feed a value for placeholder tensor 'Placeholder/_10' with dtype resource\n",
      "\t [[{{node Placeholder/_10}}]]\n",
      "2023-06-14 17:07:02.340723: I tensorflow/core/common_runtime/executor.cc:1197] [/device:CPU:0] (DEBUG INFO) Executor start aborting (this does not indicate an error and you can ignore this message): INVALID_ARGUMENT: You must feed a value for placeholder tensor 'Placeholder/_6' with dtype resource\n",
      "\t [[{{node Placeholder/_6}}]]\n",
      "2023-06-14 17:07:02.415784: I tensorflow/core/common_runtime/executor.cc:1197] [/device:CPU:0] (DEBUG INFO) Executor start aborting (this does not indicate an error and you can ignore this message): INVALID_ARGUMENT: You must feed a value for placeholder tensor 'Placeholder/_6' with dtype resource\n",
      "\t [[{{node Placeholder/_6}}]]\n"
     ]
    },
    {
     "name": "stdout",
     "output_type": "stream",
     "text": [
      "5/6 [========================>.....] - ETA: 0s - factorized_top_k/top_1_categorical_accuracy: 0.0000e+00 - factorized_top_k/top_5_categorical_accuracy: 0.5027 - factorized_top_k/top_10_categorical_accuracy: 0.6480 - factorized_top_k/top_50_categorical_accuracy: 0.8700 - factorized_top_k/top_100_categorical_accuracy: 0.9440 - loss: 1706.0756 - regularization_loss: 0.0000e+00 - total_loss: 1706.0756"
     ]
    },
    {
     "name": "stderr",
     "output_type": "stream",
     "text": [
      "2023-06-14 17:07:02.490848: I tensorflow/core/common_runtime/executor.cc:1197] [/device:CPU:0] (DEBUG INFO) Executor start aborting (this does not indicate an error and you can ignore this message): INVALID_ARGUMENT: You must feed a value for placeholder tensor 'Placeholder/_12' with dtype float and shape [300,32]\n",
      "\t [[{{node Placeholder/_12}}]]\n",
      "2023-06-14 17:07:02.573951: I tensorflow/core/common_runtime/executor.cc:1197] [/device:CPU:0] (DEBUG INFO) Executor start aborting (this does not indicate an error and you can ignore this message): INVALID_ARGUMENT: You must feed a value for placeholder tensor 'Placeholder/_8' with dtype resource\n",
      "\t [[{{node Placeholder/_8}}]]\n",
      "2023-06-14 17:07:02.648757: I tensorflow/core/common_runtime/executor.cc:1197] [/device:CPU:0] (DEBUG INFO) Executor start aborting (this does not indicate an error and you can ignore this message): INVALID_ARGUMENT: You must feed a value for placeholder tensor 'Placeholder/_6' with dtype resource\n",
      "\t [[{{node Placeholder/_6}}]]\n"
     ]
    },
    {
     "name": "stdout",
     "output_type": "stream",
     "text": [
      "6/6 [==============================] - 0s 77ms/step - factorized_top_k/top_1_categorical_accuracy: 0.0000e+00 - factorized_top_k/top_5_categorical_accuracy: 0.4935 - factorized_top_k/top_10_categorical_accuracy: 0.6376 - factorized_top_k/top_50_categorical_accuracy: 0.8648 - factorized_top_k/top_100_categorical_accuracy: 0.9383 - loss: 1495.4290 - regularization_loss: 0.0000e+00 - total_loss: 1495.4290\n",
      "Epoch 3/10\n",
      "1/6 [====>.........................] - ETA: 0s - factorized_top_k/top_1_categorical_accuracy: 0.0000e+00 - factorized_top_k/top_5_categorical_accuracy: 0.9800 - factorized_top_k/top_10_categorical_accuracy: 0.9967 - factorized_top_k/top_50_categorical_accuracy: 1.0000 - factorized_top_k/top_100_categorical_accuracy: 1.0000 - loss: 1700.0365 - regularization_loss: 0.0000e+00 - total_loss: 1700.0365"
     ]
    },
    {
     "name": "stderr",
     "output_type": "stream",
     "text": [
      "2023-06-14 17:07:02.734514: I tensorflow/core/common_runtime/executor.cc:1197] [/device:CPU:0] (DEBUG INFO) Executor start aborting (this does not indicate an error and you can ignore this message): INVALID_ARGUMENT: You must feed a value for placeholder tensor 'Placeholder/_10' with dtype resource\n",
      "\t [[{{node Placeholder/_10}}]]\n",
      "2023-06-14 17:07:02.813916: I tensorflow/core/common_runtime/executor.cc:1197] [/device:CPU:0] (DEBUG INFO) Executor start aborting (this does not indicate an error and you can ignore this message): INVALID_ARGUMENT: You must feed a value for placeholder tensor 'Placeholder/_12' with dtype float and shape [300,32]\n",
      "\t [[{{node Placeholder/_12}}]]\n"
     ]
    },
    {
     "name": "stdout",
     "output_type": "stream",
     "text": [
      "4/6 [===================>..........] - ETA: 0s - factorized_top_k/top_1_categorical_accuracy: 0.0000e+00 - factorized_top_k/top_5_categorical_accuracy: 0.9650 - factorized_top_k/top_10_categorical_accuracy: 0.9908 - factorized_top_k/top_50_categorical_accuracy: 1.0000 - factorized_top_k/top_100_categorical_accuracy: 1.0000 - loss: 1699.9838 - regularization_loss: 0.0000e+00 - total_loss: 1699.9838"
     ]
    },
    {
     "name": "stderr",
     "output_type": "stream",
     "text": [
      "2023-06-14 17:07:02.957346: I tensorflow/core/common_runtime/executor.cc:1197] [/device:CPU:0] (DEBUG INFO) Executor start aborting (this does not indicate an error and you can ignore this message): INVALID_ARGUMENT: You must feed a value for placeholder tensor 'Placeholder/_12' with dtype float and shape [300,32]\n",
      "\t [[{{node Placeholder/_12}}]]\n",
      "2023-06-14 17:07:03.054853: I tensorflow/core/common_runtime/executor.cc:1197] [/device:CPU:0] (DEBUG INFO) Executor start aborting (this does not indicate an error and you can ignore this message): INVALID_ARGUMENT: You must feed a value for placeholder tensor 'Placeholder/_12' with dtype float and shape [300,32]\n",
      "\t [[{{node Placeholder/_12}}]]\n",
      "2023-06-14 17:07:03.154002: I tensorflow/core/common_runtime/executor.cc:1197] [/device:CPU:0] (DEBUG INFO) Executor start aborting (this does not indicate an error and you can ignore this message): INVALID_ARGUMENT: You must feed a value for placeholder tensor 'Placeholder/_6' with dtype resource\n",
      "\t [[{{node Placeholder/_6}}]]\n"
     ]
    },
    {
     "name": "stdout",
     "output_type": "stream",
     "text": [
      "6/6 [==============================] - 1s 105ms/step - factorized_top_k/top_1_categorical_accuracy: 0.0000e+00 - factorized_top_k/top_5_categorical_accuracy: 0.9567 - factorized_top_k/top_10_categorical_accuracy: 0.9887 - factorized_top_k/top_50_categorical_accuracy: 1.0000 - factorized_top_k/top_100_categorical_accuracy: 1.0000 - loss: 1489.9403 - regularization_loss: 0.0000e+00 - total_loss: 1489.9403\n",
      "Epoch 4/10\n",
      "1/6 [====>.........................] - ETA: 0s - factorized_top_k/top_1_categorical_accuracy: 0.0000e+00 - factorized_top_k/top_5_categorical_accuracy: 0.9967 - factorized_top_k/top_10_categorical_accuracy: 1.0000 - factorized_top_k/top_50_categorical_accuracy: 1.0000 - factorized_top_k/top_100_categorical_accuracy: 1.0000 - loss: 1690.7964 - regularization_loss: 0.0000e+00 - total_loss: 1690.7964"
     ]
    },
    {
     "name": "stderr",
     "output_type": "stream",
     "text": [
      "2023-06-14 17:07:03.254698: I tensorflow/core/common_runtime/executor.cc:1197] [/device:CPU:0] (DEBUG INFO) Executor start aborting (this does not indicate an error and you can ignore this message): INVALID_ARGUMENT: You must feed a value for placeholder tensor 'Placeholder/_7' with dtype int64\n",
      "\t [[{{node Placeholder/_7}}]]\n",
      "2023-06-14 17:07:03.351871: I tensorflow/core/common_runtime/executor.cc:1197] [/device:CPU:0] (DEBUG INFO) Executor start aborting (this does not indicate an error and you can ignore this message): INVALID_ARGUMENT: You must feed a value for placeholder tensor 'Placeholder/_12' with dtype float and shape [300,32]\n",
      "\t [[{{node Placeholder/_12}}]]\n",
      "2023-06-14 17:07:03.436520: I tensorflow/core/common_runtime/executor.cc:1197] [/device:CPU:0] (DEBUG INFO) Executor start aborting (this does not indicate an error and you can ignore this message): INVALID_ARGUMENT: You must feed a value for placeholder tensor 'Placeholder/_7' with dtype int64\n",
      "\t [[{{node Placeholder/_7}}]]\n"
     ]
    },
    {
     "name": "stdout",
     "output_type": "stream",
     "text": [
      "4/6 [===================>..........] - ETA: 0s - factorized_top_k/top_1_categorical_accuracy: 0.0000e+00 - factorized_top_k/top_5_categorical_accuracy: 0.9950 - factorized_top_k/top_10_categorical_accuracy: 1.0000 - factorized_top_k/top_50_categorical_accuracy: 1.0000 - factorized_top_k/top_100_categorical_accuracy: 1.0000 - loss: 1690.6836 - regularization_loss: 0.0000e+00 - total_loss: 1690.6836"
     ]
    },
    {
     "name": "stderr",
     "output_type": "stream",
     "text": [
      "2023-06-14 17:07:03.565174: I tensorflow/core/common_runtime/executor.cc:1197] [/device:CPU:0] (DEBUG INFO) Executor start aborting (this does not indicate an error and you can ignore this message): INVALID_ARGUMENT: You must feed a value for placeholder tensor 'Placeholder/_0' with dtype string and shape [1686]\n",
      "\t [[{{node Placeholder/_0}}]]\n",
      "2023-06-14 17:07:03.673347: I tensorflow/core/common_runtime/executor.cc:1197] [/device:CPU:0] (DEBUG INFO) Executor start aborting (this does not indicate an error and you can ignore this message): INVALID_ARGUMENT: You must feed a value for placeholder tensor 'Placeholder/_0' with dtype string and shape [1686]\n",
      "\t [[{{node Placeholder/_0}}]]\n"
     ]
    },
    {
     "name": "stdout",
     "output_type": "stream",
     "text": [
      "5/6 [========================>.....] - ETA: 0s - factorized_top_k/top_1_categorical_accuracy: 0.0000e+00 - factorized_top_k/top_5_categorical_accuracy: 0.9933 - factorized_top_k/top_10_categorical_accuracy: 1.0000 - factorized_top_k/top_50_categorical_accuracy: 1.0000 - factorized_top_k/top_100_categorical_accuracy: 1.0000 - loss: 1690.6287 - regularization_loss: 0.0000e+00 - total_loss: 1690.6287"
     ]
    },
    {
     "name": "stderr",
     "output_type": "stream",
     "text": [
      "2023-06-14 17:07:03.866251: I tensorflow/core/common_runtime/executor.cc:1197] [/device:CPU:0] (DEBUG INFO) Executor start aborting (this does not indicate an error and you can ignore this message): INVALID_ARGUMENT: You must feed a value for placeholder tensor 'Placeholder/_6' with dtype resource\n",
      "\t [[{{node Placeholder/_6}}]]\n",
      "2023-06-14 17:07:04.022999: I tensorflow/core/common_runtime/executor.cc:1197] [/device:CPU:0] (DEBUG INFO) Executor start aborting (this does not indicate an error and you can ignore this message): INVALID_ARGUMENT: You must feed a value for placeholder tensor 'Placeholder/_12' with dtype float and shape [186,32]\n",
      "\t [[{{node Placeholder/_12}}]]\n"
     ]
    },
    {
     "name": "stdout",
     "output_type": "stream",
     "text": [
      "6/6 [==============================] - 1s 137ms/step - factorized_top_k/top_1_categorical_accuracy: 0.0000e+00 - factorized_top_k/top_5_categorical_accuracy: 0.9935 - factorized_top_k/top_10_categorical_accuracy: 1.0000 - factorized_top_k/top_50_categorical_accuracy: 1.0000 - factorized_top_k/top_100_categorical_accuracy: 1.0000 - loss: 1481.4882 - regularization_loss: 0.0000e+00 - total_loss: 1481.4882\n",
      "Epoch 5/10\n",
      "1/6 [====>.........................] - ETA: 0s - factorized_top_k/top_1_categorical_accuracy: 0.0000e+00 - factorized_top_k/top_5_categorical_accuracy: 1.0000 - factorized_top_k/top_10_categorical_accuracy: 1.0000 - factorized_top_k/top_50_categorical_accuracy: 1.0000 - factorized_top_k/top_100_categorical_accuracy: 1.0000 - loss: 1675.6140 - regularization_loss: 0.0000e+00 - total_loss: 1675.6140"
     ]
    },
    {
     "name": "stderr",
     "output_type": "stream",
     "text": [
      "2023-06-14 17:07:04.133538: I tensorflow/core/common_runtime/executor.cc:1197] [/device:CPU:0] (DEBUG INFO) Executor start aborting (this does not indicate an error and you can ignore this message): INVALID_ARGUMENT: You must feed a value for placeholder tensor 'Placeholder/_6' with dtype resource\n",
      "\t [[{{node Placeholder/_6}}]]\n",
      "2023-06-14 17:07:04.269857: I tensorflow/core/common_runtime/executor.cc:1197] [/device:CPU:0] (DEBUG INFO) Executor start aborting (this does not indicate an error and you can ignore this message): INVALID_ARGUMENT: You must feed a value for placeholder tensor 'Placeholder/_6' with dtype resource\n",
      "\t [[{{node Placeholder/_6}}]]\n"
     ]
    },
    {
     "name": "stdout",
     "output_type": "stream",
     "text": [
      "4/6 [===================>..........] - ETA: 0s - factorized_top_k/top_1_categorical_accuracy: 0.0000e+00 - factorized_top_k/top_5_categorical_accuracy: 1.0000 - factorized_top_k/top_10_categorical_accuracy: 1.0000 - factorized_top_k/top_50_categorical_accuracy: 1.0000 - factorized_top_k/top_100_categorical_accuracy: 1.0000 - loss: 1675.4203 - regularization_loss: 0.0000e+00 - total_loss: 1675.4203"
     ]
    },
    {
     "name": "stderr",
     "output_type": "stream",
     "text": [
      "2023-06-14 17:07:04.544851: I tensorflow/core/common_runtime/executor.cc:1197] [/device:CPU:0] (DEBUG INFO) Executor start aborting (this does not indicate an error and you can ignore this message): INVALID_ARGUMENT: You must feed a value for placeholder tensor 'Placeholder/_7' with dtype int64\n",
      "\t [[{{node Placeholder/_7}}]]\n",
      "2023-06-14 17:07:04.664651: I tensorflow/core/common_runtime/executor.cc:1197] [/device:CPU:0] (DEBUG INFO) Executor start aborting (this does not indicate an error and you can ignore this message): INVALID_ARGUMENT: You must feed a value for placeholder tensor 'Placeholder/_12' with dtype float and shape [300,32]\n",
      "\t [[{{node Placeholder/_12}}]]\n",
      "2023-06-14 17:07:04.744842: I tensorflow/core/common_runtime/executor.cc:1197] [/device:CPU:0] (DEBUG INFO) Executor start aborting (this does not indicate an error and you can ignore this message): INVALID_ARGUMENT: You must feed a value for placeholder tensor 'Placeholder/_12' with dtype float and shape [300,32]\n",
      "\t [[{{node Placeholder/_12}}]]\n"
     ]
    },
    {
     "name": "stdout",
     "output_type": "stream",
     "text": [
      "6/6 [==============================] - 1s 149ms/step - factorized_top_k/top_1_categorical_accuracy: 0.0000e+00 - factorized_top_k/top_5_categorical_accuracy: 0.9982 - factorized_top_k/top_10_categorical_accuracy: 1.0000 - factorized_top_k/top_50_categorical_accuracy: 1.0000 - factorized_top_k/top_100_categorical_accuracy: 1.0000 - loss: 1467.5352 - regularization_loss: 0.0000e+00 - total_loss: 1467.5352\n",
      "Epoch 6/10\n"
     ]
    },
    {
     "name": "stderr",
     "output_type": "stream",
     "text": [
      "2023-06-14 17:07:04.923440: I tensorflow/core/common_runtime/executor.cc:1197] [/device:CPU:0] (DEBUG INFO) Executor start aborting (this does not indicate an error and you can ignore this message): INVALID_ARGUMENT: You must feed a value for placeholder tensor 'Placeholder/_0' with dtype string and shape [1686]\n",
      "\t [[{{node Placeholder/_0}}]]\n",
      "2023-06-14 17:07:05.020259: I tensorflow/core/common_runtime/executor.cc:1197] [/device:CPU:0] (DEBUG INFO) Executor start aborting (this does not indicate an error and you can ignore this message): INVALID_ARGUMENT: You must feed a value for placeholder tensor 'Placeholder/_6' with dtype resource\n",
      "\t [[{{node Placeholder/_6}}]]\n"
     ]
    },
    {
     "name": "stdout",
     "output_type": "stream",
     "text": [
      "3/6 [==============>...............] - ETA: 0s - factorized_top_k/top_1_categorical_accuracy: 0.0000e+00 - factorized_top_k/top_5_categorical_accuracy: 1.0000 - factorized_top_k/top_10_categorical_accuracy: 1.0000 - factorized_top_k/top_50_categorical_accuracy: 1.0000 - factorized_top_k/top_100_categorical_accuracy: 1.0000 - loss: 1650.1344 - regularization_loss: 0.0000e+00 - total_loss: 1650.1344"
     ]
    },
    {
     "name": "stderr",
     "output_type": "stream",
     "text": [
      "2023-06-14 17:07:05.228276: I tensorflow/core/common_runtime/executor.cc:1197] [/device:CPU:0] (DEBUG INFO) Executor start aborting (this does not indicate an error and you can ignore this message): INVALID_ARGUMENT: You must feed a value for placeholder tensor 'Placeholder/_6' with dtype resource\n",
      "\t [[{{node Placeholder/_6}}]]\n",
      "2023-06-14 17:07:05.337442: I tensorflow/core/common_runtime/executor.cc:1197] [/device:CPU:0] (DEBUG INFO) Executor start aborting (this does not indicate an error and you can ignore this message): INVALID_ARGUMENT: You must feed a value for placeholder tensor 'Placeholder/_12' with dtype float and shape [300,32]\n",
      "\t [[{{node Placeholder/_12}}]]\n"
     ]
    },
    {
     "name": "stdout",
     "output_type": "stream",
     "text": [
      "4/6 [===================>..........] - ETA: 0s - factorized_top_k/top_1_categorical_accuracy: 0.0000e+00 - factorized_top_k/top_5_categorical_accuracy: 1.0000 - factorized_top_k/top_10_categorical_accuracy: 1.0000 - factorized_top_k/top_50_categorical_accuracy: 1.0000 - factorized_top_k/top_100_categorical_accuracy: 1.0000 - loss: 1650.4327 - regularization_loss: 0.0000e+00 - total_loss: 1650.4327"
     ]
    },
    {
     "name": "stderr",
     "output_type": "stream",
     "text": [
      "2023-06-14 17:07:05.458307: I tensorflow/core/common_runtime/executor.cc:1197] [/device:CPU:0] (DEBUG INFO) Executor start aborting (this does not indicate an error and you can ignore this message): INVALID_ARGUMENT: You must feed a value for placeholder tensor 'Placeholder/_6' with dtype resource\n",
      "\t [[{{node Placeholder/_6}}]]\n",
      "2023-06-14 17:07:05.562030: I tensorflow/core/common_runtime/executor.cc:1197] [/device:CPU:0] (DEBUG INFO) Executor start aborting (this does not indicate an error and you can ignore this message): INVALID_ARGUMENT: You must feed a value for placeholder tensor 'Placeholder/_12' with dtype float and shape [300,32]\n",
      "\t [[{{node Placeholder/_12}}]]\n"
     ]
    },
    {
     "name": "stdout",
     "output_type": "stream",
     "text": [
      "6/6 [==============================] - 1s 117ms/step - factorized_top_k/top_1_categorical_accuracy: 0.0000e+00 - factorized_top_k/top_5_categorical_accuracy: 0.9988 - factorized_top_k/top_10_categorical_accuracy: 1.0000 - factorized_top_k/top_50_categorical_accuracy: 1.0000 - factorized_top_k/top_100_categorical_accuracy: 1.0000 - loss: 1444.6303 - regularization_loss: 0.0000e+00 - total_loss: 1444.6303\n",
      "Epoch 7/10\n",
      "1/6 [====>.........................] - ETA: 0s - factorized_top_k/top_1_categorical_accuracy: 0.0000e+00 - factorized_top_k/top_5_categorical_accuracy: 1.0000 - factorized_top_k/top_10_categorical_accuracy: 1.0000 - factorized_top_k/top_50_categorical_accuracy: 1.0000 - factorized_top_k/top_100_categorical_accuracy: 1.0000 - loss: 1611.3409 - regularization_loss: 0.0000e+00 - total_loss: 1611.3409"
     ]
    },
    {
     "name": "stderr",
     "output_type": "stream",
     "text": [
      "2023-06-14 17:07:05.704112: I tensorflow/core/common_runtime/executor.cc:1197] [/device:CPU:0] (DEBUG INFO) Executor start aborting (this does not indicate an error and you can ignore this message): INVALID_ARGUMENT: You must feed a value for placeholder tensor 'Placeholder/_10' with dtype resource\n",
      "\t [[{{node Placeholder/_10}}]]\n",
      "2023-06-14 17:07:05.801138: I tensorflow/core/common_runtime/executor.cc:1197] [/device:CPU:0] (DEBUG INFO) Executor start aborting (this does not indicate an error and you can ignore this message): INVALID_ARGUMENT: You must feed a value for placeholder tensor 'Placeholder/_6' with dtype resource\n",
      "\t [[{{node Placeholder/_6}}]]\n",
      "2023-06-14 17:07:05.899762: I tensorflow/core/common_runtime/executor.cc:1197] [/device:CPU:0] (DEBUG INFO) Executor start aborting (this does not indicate an error and you can ignore this message): INVALID_ARGUMENT: You must feed a value for placeholder tensor 'Placeholder/_8' with dtype resource\n",
      "\t [[{{node Placeholder/_8}}]]\n"
     ]
    },
    {
     "name": "stdout",
     "output_type": "stream",
     "text": [
      "3/6 [==============>...............] - ETA: 0s - factorized_top_k/top_1_categorical_accuracy: 0.0000e+00 - factorized_top_k/top_5_categorical_accuracy: 1.0000 - factorized_top_k/top_10_categorical_accuracy: 1.0000 - factorized_top_k/top_50_categorical_accuracy: 1.0000 - factorized_top_k/top_100_categorical_accuracy: 1.0000 - loss: 1610.3270 - regularization_loss: 0.0000e+00 - total_loss: 1610.3270"
     ]
    },
    {
     "name": "stderr",
     "output_type": "stream",
     "text": [
      "2023-06-14 17:07:05.997334: I tensorflow/core/common_runtime/executor.cc:1197] [/device:CPU:0] (DEBUG INFO) Executor start aborting (this does not indicate an error and you can ignore this message): INVALID_ARGUMENT: You must feed a value for placeholder tensor 'Placeholder/_12' with dtype float and shape [300,32]\n",
      "\t [[{{node Placeholder/_12}}]]\n",
      "2023-06-14 17:07:06.099772: I tensorflow/core/common_runtime/executor.cc:1197] [/device:CPU:0] (DEBUG INFO) Executor start aborting (this does not indicate an error and you can ignore this message): INVALID_ARGUMENT: You must feed a value for placeholder tensor 'Placeholder/_0' with dtype string and shape [1686]\n",
      "\t [[{{node Placeholder/_0}}]]\n"
     ]
    },
    {
     "name": "stdout",
     "output_type": "stream",
     "text": [
      "6/6 [==============================] - 1s 115ms/step - factorized_top_k/top_1_categorical_accuracy: 0.0000e+00 - factorized_top_k/top_5_categorical_accuracy: 0.9976 - factorized_top_k/top_10_categorical_accuracy: 1.0000 - factorized_top_k/top_50_categorical_accuracy: 1.0000 - factorized_top_k/top_100_categorical_accuracy: 1.0000 - loss: 1408.4433 - regularization_loss: 0.0000e+00 - total_loss: 1408.4433\n",
      "Epoch 8/10\n"
     ]
    },
    {
     "name": "stderr",
     "output_type": "stream",
     "text": [
      "2023-06-14 17:07:06.302179: I tensorflow/core/common_runtime/executor.cc:1197] [/device:CPU:0] (DEBUG INFO) Executor start aborting (this does not indicate an error and you can ignore this message): INVALID_ARGUMENT: You must feed a value for placeholder tensor 'Placeholder/_6' with dtype resource\n",
      "\t [[{{node Placeholder/_6}}]]\n",
      "2023-06-14 17:07:06.391985: I tensorflow/core/common_runtime/executor.cc:1197] [/device:CPU:0] (DEBUG INFO) Executor start aborting (this does not indicate an error and you can ignore this message): INVALID_ARGUMENT: You must feed a value for placeholder tensor 'Placeholder/_0' with dtype string and shape [1686]\n",
      "\t [[{{node Placeholder/_0}}]]\n",
      "2023-06-14 17:07:06.472985: I tensorflow/core/common_runtime/executor.cc:1197] [/device:CPU:0] (DEBUG INFO) Executor start aborting (this does not indicate an error and you can ignore this message): INVALID_ARGUMENT: You must feed a value for placeholder tensor 'Placeholder/_7' with dtype int64\n",
      "\t [[{{node Placeholder/_7}}]]\n"
     ]
    },
    {
     "name": "stdout",
     "output_type": "stream",
     "text": [
      "3/6 [==============>...............] - ETA: 0s - factorized_top_k/top_1_categorical_accuracy: 0.0000e+00 - factorized_top_k/top_5_categorical_accuracy: 1.0000 - factorized_top_k/top_10_categorical_accuracy: 1.0000 - factorized_top_k/top_50_categorical_accuracy: 1.0000 - factorized_top_k/top_100_categorical_accuracy: 1.0000 - loss: 1550.4929 - regularization_loss: 0.0000e+00 - total_loss: 1550.4929"
     ]
    },
    {
     "name": "stderr",
     "output_type": "stream",
     "text": [
      "2023-06-14 17:07:06.601665: I tensorflow/core/common_runtime/executor.cc:1197] [/device:CPU:0] (DEBUG INFO) Executor start aborting (this does not indicate an error and you can ignore this message): INVALID_ARGUMENT: You must feed a value for placeholder tensor 'Placeholder/_0' with dtype string and shape [1686]\n",
      "\t [[{{node Placeholder/_0}}]]\n",
      "2023-06-14 17:07:06.719909: I tensorflow/core/common_runtime/executor.cc:1197] [/device:CPU:0] (DEBUG INFO) Executor start aborting (this does not indicate an error and you can ignore this message): INVALID_ARGUMENT: You must feed a value for placeholder tensor 'Placeholder/_0' with dtype string and shape [1686]\n",
      "\t [[{{node Placeholder/_0}}]]\n"
     ]
    },
    {
     "name": "stdout",
     "output_type": "stream",
     "text": [
      "5/6 [========================>.....] - ETA: 0s - factorized_top_k/top_1_categorical_accuracy: 0.0000e+00 - factorized_top_k/top_5_categorical_accuracy: 0.9967 - factorized_top_k/top_10_categorical_accuracy: 1.0000 - factorized_top_k/top_50_categorical_accuracy: 1.0000 - factorized_top_k/top_100_categorical_accuracy: 1.0000 - loss: 1550.3589 - regularization_loss: 0.0000e+00 - total_loss: 1550.3589"
     ]
    },
    {
     "name": "stderr",
     "output_type": "stream",
     "text": [
      "2023-06-14 17:07:06.805753: I tensorflow/core/common_runtime/executor.cc:1197] [/device:CPU:0] (DEBUG INFO) Executor start aborting (this does not indicate an error and you can ignore this message): INVALID_ARGUMENT: You must feed a value for placeholder tensor 'Placeholder/_0' with dtype string and shape [1686]\n",
      "\t [[{{node Placeholder/_0}}]]\n",
      "2023-06-14 17:07:06.895821: I tensorflow/core/common_runtime/executor.cc:1197] [/device:CPU:0] (DEBUG INFO) Executor start aborting (this does not indicate an error and you can ignore this message): INVALID_ARGUMENT: You must feed a value for placeholder tensor 'Placeholder/_12' with dtype float and shape [300,32]\n",
      "\t [[{{node Placeholder/_12}}]]\n",
      "2023-06-14 17:07:06.978650: I tensorflow/core/common_runtime/executor.cc:1197] [/device:CPU:0] (DEBUG INFO) Executor start aborting (this does not indicate an error and you can ignore this message): INVALID_ARGUMENT: You must feed a value for placeholder tensor 'Placeholder/_6' with dtype resource\n",
      "\t [[{{node Placeholder/_6}}]]\n"
     ]
    },
    {
     "name": "stdout",
     "output_type": "stream",
     "text": [
      "6/6 [==============================] - 1s 101ms/step - factorized_top_k/top_1_categorical_accuracy: 0.0000e+00 - factorized_top_k/top_5_categorical_accuracy: 0.9970 - factorized_top_k/top_10_categorical_accuracy: 1.0000 - factorized_top_k/top_50_categorical_accuracy: 1.0000 - factorized_top_k/top_100_categorical_accuracy: 1.0000 - loss: 1354.3480 - regularization_loss: 0.0000e+00 - total_loss: 1354.3480\n",
      "Epoch 9/10\n",
      "2/6 [=========>....................] - ETA: 0s - factorized_top_k/top_1_categorical_accuracy: 0.0000e+00 - factorized_top_k/top_5_categorical_accuracy: 1.0000 - factorized_top_k/top_10_categorical_accuracy: 1.0000 - factorized_top_k/top_50_categorical_accuracy: 1.0000 - factorized_top_k/top_100_categorical_accuracy: 1.0000 - loss: 1465.7331 - regularization_loss: 0.0000e+00 - total_loss: 1465.7331"
     ]
    },
    {
     "name": "stderr",
     "output_type": "stream",
     "text": [
      "2023-06-14 17:07:07.073554: I tensorflow/core/common_runtime/executor.cc:1197] [/device:CPU:0] (DEBUG INFO) Executor start aborting (this does not indicate an error and you can ignore this message): INVALID_ARGUMENT: You must feed a value for placeholder tensor 'Placeholder/_6' with dtype resource\n",
      "\t [[{{node Placeholder/_6}}]]\n",
      "2023-06-14 17:07:07.165134: I tensorflow/core/common_runtime/executor.cc:1197] [/device:CPU:0] (DEBUG INFO) Executor start aborting (this does not indicate an error and you can ignore this message): INVALID_ARGUMENT: You must feed a value for placeholder tensor 'Placeholder/_8' with dtype resource\n",
      "\t [[{{node Placeholder/_8}}]]\n",
      "2023-06-14 17:07:07.250793: I tensorflow/core/common_runtime/executor.cc:1197] [/device:CPU:0] (DEBUG INFO) Executor start aborting (this does not indicate an error and you can ignore this message): INVALID_ARGUMENT: You must feed a value for placeholder tensor 'Placeholder/_10' with dtype resource\n",
      "\t [[{{node Placeholder/_10}}]]\n"
     ]
    },
    {
     "name": "stdout",
     "output_type": "stream",
     "text": [
      "5/6 [========================>.....] - ETA: 0s - factorized_top_k/top_1_categorical_accuracy: 0.0000e+00 - factorized_top_k/top_5_categorical_accuracy: 0.9993 - factorized_top_k/top_10_categorical_accuracy: 1.0000 - factorized_top_k/top_50_categorical_accuracy: 1.0000 - factorized_top_k/top_100_categorical_accuracy: 1.0000 - loss: 1465.7674 - regularization_loss: 0.0000e+00 - total_loss: 1465.7674"
     ]
    },
    {
     "name": "stderr",
     "output_type": "stream",
     "text": [
      "2023-06-14 17:07:07.349101: I tensorflow/core/common_runtime/executor.cc:1197] [/device:CPU:0] (DEBUG INFO) Executor start aborting (this does not indicate an error and you can ignore this message): INVALID_ARGUMENT: You must feed a value for placeholder tensor 'Placeholder/_7' with dtype int64\n",
      "\t [[{{node Placeholder/_7}}]]\n",
      "2023-06-14 17:07:07.439381: I tensorflow/core/common_runtime/executor.cc:1197] [/device:CPU:0] (DEBUG INFO) Executor start aborting (this does not indicate an error and you can ignore this message): INVALID_ARGUMENT: You must feed a value for placeholder tensor 'Placeholder/_6' with dtype resource\n",
      "\t [[{{node Placeholder/_6}}]]\n",
      "2023-06-14 17:07:07.527903: I tensorflow/core/common_runtime/executor.cc:1197] [/device:CPU:0] (DEBUG INFO) Executor start aborting (this does not indicate an error and you can ignore this message): INVALID_ARGUMENT: You must feed a value for placeholder tensor 'Placeholder/_0' with dtype string and shape [1686]\n",
      "\t [[{{node Placeholder/_0}}]]\n"
     ]
    },
    {
     "name": "stdout",
     "output_type": "stream",
     "text": [
      "6/6 [==============================] - 1s 90ms/step - factorized_top_k/top_1_categorical_accuracy: 0.0000e+00 - factorized_top_k/top_5_categorical_accuracy: 0.9994 - factorized_top_k/top_10_categorical_accuracy: 1.0000 - factorized_top_k/top_50_categorical_accuracy: 1.0000 - factorized_top_k/top_100_categorical_accuracy: 1.0000 - loss: 1278.4628 - regularization_loss: 0.0000e+00 - total_loss: 1278.4628\n",
      "Epoch 10/10\n",
      "2/6 [=========>....................] - ETA: 0s - factorized_top_k/top_1_categorical_accuracy: 0.0000e+00 - factorized_top_k/top_5_categorical_accuracy: 1.0000 - factorized_top_k/top_10_categorical_accuracy: 1.0000 - factorized_top_k/top_50_categorical_accuracy: 1.0000 - factorized_top_k/top_100_categorical_accuracy: 1.0000 - loss: 1353.9510 - regularization_loss: 0.0000e+00 - total_loss: 1353.9510"
     ]
    },
    {
     "name": "stderr",
     "output_type": "stream",
     "text": [
      "2023-06-14 17:07:07.626431: I tensorflow/core/common_runtime/executor.cc:1197] [/device:CPU:0] (DEBUG INFO) Executor start aborting (this does not indicate an error and you can ignore this message): INVALID_ARGUMENT: You must feed a value for placeholder tensor 'Placeholder/_0' with dtype string and shape [1686]\n",
      "\t [[{{node Placeholder/_0}}]]\n",
      "2023-06-14 17:07:07.734938: I tensorflow/core/common_runtime/executor.cc:1197] [/device:CPU:0] (DEBUG INFO) Executor start aborting (this does not indicate an error and you can ignore this message): INVALID_ARGUMENT: You must feed a value for placeholder tensor 'Placeholder/_12' with dtype float and shape [300,32]\n",
      "\t [[{{node Placeholder/_12}}]]\n",
      "2023-06-14 17:07:07.823862: I tensorflow/core/common_runtime/executor.cc:1197] [/device:CPU:0] (DEBUG INFO) Executor start aborting (this does not indicate an error and you can ignore this message): INVALID_ARGUMENT: You must feed a value for placeholder tensor 'Placeholder/_6' with dtype resource\n",
      "\t [[{{node Placeholder/_6}}]]\n"
     ]
    },
    {
     "name": "stdout",
     "output_type": "stream",
     "text": [
      "5/6 [========================>.....] - ETA: 0s - factorized_top_k/top_1_categorical_accuracy: 0.0000e+00 - factorized_top_k/top_5_categorical_accuracy: 0.9993 - factorized_top_k/top_10_categorical_accuracy: 1.0000 - factorized_top_k/top_50_categorical_accuracy: 1.0000 - factorized_top_k/top_100_categorical_accuracy: 1.0000 - loss: 1353.6410 - regularization_loss: 0.0000e+00 - total_loss: 1353.6410"
     ]
    },
    {
     "name": "stderr",
     "output_type": "stream",
     "text": [
      "2023-06-14 17:07:07.920833: I tensorflow/core/common_runtime/executor.cc:1197] [/device:CPU:0] (DEBUG INFO) Executor start aborting (this does not indicate an error and you can ignore this message): INVALID_ARGUMENT: You must feed a value for placeholder tensor 'Placeholder/_12' with dtype float and shape [300,32]\n",
      "\t [[{{node Placeholder/_12}}]]\n",
      "2023-06-14 17:07:08.003836: I tensorflow/core/common_runtime/executor.cc:1197] [/device:CPU:0] (DEBUG INFO) Executor start aborting (this does not indicate an error and you can ignore this message): INVALID_ARGUMENT: You must feed a value for placeholder tensor 'Placeholder/_10' with dtype resource\n",
      "\t [[{{node Placeholder/_10}}]]\n",
      "2023-06-14 17:07:08.090610: I tensorflow/core/common_runtime/executor.cc:1197] [/device:CPU:0] (DEBUG INFO) Executor start aborting (this does not indicate an error and you can ignore this message): INVALID_ARGUMENT: You must feed a value for placeholder tensor 'Placeholder/_8' with dtype resource\n",
      "\t [[{{node Placeholder/_8}}]]\n"
     ]
    },
    {
     "name": "stdout",
     "output_type": "stream",
     "text": [
      "6/6 [==============================] - 1s 92ms/step - factorized_top_k/top_1_categorical_accuracy: 0.0000e+00 - factorized_top_k/top_5_categorical_accuracy: 0.9994 - factorized_top_k/top_10_categorical_accuracy: 1.0000 - factorized_top_k/top_50_categorical_accuracy: 1.0000 - factorized_top_k/top_100_categorical_accuracy: 1.0000 - loss: 1178.5671 - regularization_loss: 0.0000e+00 - total_loss: 1178.5671\n"
     ]
    },
    {
     "data": {
      "text/plain": [
       "<keras.callbacks.History at 0x7fee7e75fa60>"
      ]
     },
     "execution_count": 20,
     "metadata": {},
     "output_type": "execute_result"
    }
   ],
   "source": [
    "model.fit(cached_train, epochs=10)"
   ]
  },
  {
   "cell_type": "code",
   "execution_count": 28,
   "metadata": {},
   "outputs": [
    {
     "name": "stdout",
     "output_type": "stream",
     "text": [
      "Recommendations for user: [b'https://fiverr-res.cloudinary.com/t_gig_cards_web,q_auto,f_auto/gigs/106187992/original/12afe768e2ba9af5f211d0358dff19f6e419d38d.jpg'\n",
      " b'https://fiverr-res.cloudinary.com/t_gig_cards_web,q_auto,f_auto/gigs/157708259/original/6d07c8ffc8711b9a13ae4b2a54066a64b9cb1e99.jpg'\n",
      " b'https://fiverr-res.cloudinary.com/t_gig_cards_web,q_auto,f_auto/gigs/284476072/original/6dc3faf88a9da51f3e4972df0cf8501f06fb6589.jpg'\n",
      " b'https://fiverr-res.cloudinary.com/t_gig_cards_web,q_auto,f_auto/gigs/288420404/original/d1c877d2eae76ef2401e21e0a2de7a4b18c262c2.png'\n",
      " b'https://fiverr-res.cloudinary.com/t_gig_cards_web,q_auto,f_auto/gigs/288420404/original/d1c877d2eae76ef2401e21e0a2de7a4b18c262c2.png'\n",
      " b'https://fiverr-res.cloudinary.com/t_gig_cards_web,q_auto,f_auto/gigs/154184609/original/51d50b5af09a79fbc309048d4506ea6f701a30d5.jpg'\n",
      " b'https://fiverr-res.cloudinary.com/t_gig_cards_web,q_auto,f_auto/gigs/240161600/original/3420d134e48a95c626815837a051de5e42c258fe.jpg'\n",
      " b'https://fiverr-res.cloudinary.com/t_gig_cards_web,q_auto,f_auto/gigs/133480626/original/81a24877e77aaa80a664bb010cd14ac9899f5f88.png'\n",
      " b'https://fiverr-res.cloudinary.com/video/upload/t_gig_cards_web/fdnw3xbmgesnapxqd4ao.png'\n",
      " b'https://fiverr-res.cloudinary.com/t_gig_cards_web,q_auto,f_auto/gigs/228393403/original/7ddca4156b49408f8798aa379cfc15dd833a7960.jpg']\n"
     ]
    },
    {
     "name": "stderr",
     "output_type": "stream",
     "text": [
      "2023-06-14 17:44:31.592328: I tensorflow/core/common_runtime/executor.cc:1197] [/device:CPU:0] (DEBUG INFO) Executor start aborting (this does not indicate an error and you can ignore this message): INVALID_ARGUMENT: You must feed a value for placeholder tensor 'Placeholder/_0' with dtype string and shape [1686]\n",
      "\t [[{{node Placeholder/_0}}]]\n",
      "2023-06-14 17:44:31.593141: I tensorflow/core/common_runtime/executor.cc:1197] [/device:CPU:0] (DEBUG INFO) Executor start aborting (this does not indicate an error and you can ignore this message): INVALID_ARGUMENT: You must feed a value for placeholder tensor 'Placeholder/_14' with dtype resource\n",
      "\t [[{{node Placeholder/_14}}]]\n"
     ]
    }
   ],
   "source": [
    "# Create a model that takes in raw query features, and\n",
    "index = tfrs.layers.factorized_top_k.BruteForce(model.client_model)\n",
    "# recommends movies out of the entire movies dataset.\n",
    "index.index_from_dataset(\n",
    "  tf.data.Dataset.zip((imgs.batch(100), imgs.batch(100).map(model.item_model)))\n",
    ")\n",
    "\n",
    "# Get recommendations.\n",
    "_, gigs = index(tf.constant([\"ismetrix\"]))\n",
    "print(f\"Recommendations for user: {gigs[0, :10]}\")"
   ]
  },
  {
   "cell_type": "code",
   "execution_count": 29,
   "metadata": {},
   "outputs": [],
   "source": [
    "import tempfile\n",
    "import os"
   ]
  },
  {
   "cell_type": "code",
   "execution_count": 33,
   "metadata": {},
   "outputs": [
    {
     "name": "stdout",
     "output_type": "stream",
     "text": [
      "WARNING:tensorflow:Model's `__init__()` arguments contain non-serializable objects. Please implement a `get_config()` method in the subclassed Model for proper saving and loading. Defaulting to empty config.\n"
     ]
    },
    {
     "name": "stderr",
     "output_type": "stream",
     "text": [
      "WARNING:tensorflow:Model's `__init__()` arguments contain non-serializable objects. Please implement a `get_config()` method in the subclassed Model for proper saving and loading. Defaulting to empty config.\n"
     ]
    },
    {
     "name": "stdout",
     "output_type": "stream",
     "text": [
      "WARNING:tensorflow:Model's `__init__()` arguments contain non-serializable objects. Please implement a `get_config()` method in the subclassed Model for proper saving and loading. Defaulting to empty config.\n"
     ]
    },
    {
     "name": "stderr",
     "output_type": "stream",
     "text": [
      "WARNING:tensorflow:Model's `__init__()` arguments contain non-serializable objects. Please implement a `get_config()` method in the subclassed Model for proper saving and loading. Defaulting to empty config.\n",
      "WARNING:absl:Found untraced functions such as query_with_exclusions while saving (showing 1 of 1). These functions will not be directly callable after loading.\n"
     ]
    },
    {
     "name": "stdout",
     "output_type": "stream",
     "text": [
      "INFO:tensorflow:Assets written to: /var/folders/ht/1vg09v7x16x7sbqnmzfvc4600000gn/T/tmphjao8i48/model/assets\n"
     ]
    },
    {
     "name": "stderr",
     "output_type": "stream",
     "text": [
      "INFO:tensorflow:Assets written to: /var/folders/ht/1vg09v7x16x7sbqnmzfvc4600000gn/T/tmphjao8i48/model/assets\n"
     ]
    },
    {
     "name": "stdout",
     "output_type": "stream",
     "text": [
      "Recommendations: [b'https://fiverr-res.cloudinary.com/t_gig_cards_web,q_auto,f_auto/gigs/106187992/original/12afe768e2ba9af5f211d0358dff19f6e419d38d.jpg'\n",
      " b'https://fiverr-res.cloudinary.com/t_gig_cards_web,q_auto,f_auto/gigs/157708259/original/6d07c8ffc8711b9a13ae4b2a54066a64b9cb1e99.jpg'\n",
      " b'https://fiverr-res.cloudinary.com/t_gig_cards_web,q_auto,f_auto/gigs/284476072/original/6dc3faf88a9da51f3e4972df0cf8501f06fb6589.jpg']\n"
     ]
    }
   ],
   "source": [
    "# Export the query model.\n",
    "with tempfile.TemporaryDirectory() as tmp:\n",
    "  path = os.path.join(tmp, \"model\")\n",
    "\n",
    "  # Save the index.\n",
    "  tf.saved_model.save(index, path)\n",
    "\n",
    "  # Load it back; can also be done in TensorFlow Serving.\n",
    "  loaded = tf.saved_model.load(path)\n",
    "\n",
    "  # Pass a user id in, get top predicted movie titles back.\n",
    "  scores, gigs = loaded([\"ismetrix\"])\n",
    "\n",
    "  print(f\"Recommendations: {gigs[0][:3]}\")"
   ]
  },
  {
   "cell_type": "code",
   "execution_count": null,
   "metadata": {},
   "outputs": [],
   "source": [
    "tf.saved_model.save(index, \"tfrs-model\")"
   ]
  }
 ],
 "metadata": {
  "kernelspec": {
   "display_name": "base",
   "language": "python",
   "name": "python3"
  },
  "language_info": {
   "codemirror_mode": {
    "name": "ipython",
    "version": 3
   },
   "file_extension": ".py",
   "mimetype": "text/x-python",
   "name": "python",
   "nbconvert_exporter": "python",
   "pygments_lexer": "ipython3",
   "version": "3.9.13"
  },
  "orig_nbformat": 4
 },
 "nbformat": 4,
 "nbformat_minor": 2
}
