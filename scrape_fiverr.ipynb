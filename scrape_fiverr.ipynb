{
  "cells": [
    {
      "cell_type": "code",
      "execution_count": 1,
      "metadata": {
        "id": "CBQfWUHIns1b"
      },
      "outputs": [],
      "source": [
        "from urllib.request import Request, urlopen\n",
        "from bs4 import BeautifulSoup\n",
        "import pandas as pd\n",
        "import re"
      ]
    },
    {
      "attachments": {},
      "cell_type": "markdown",
      "metadata": {
        "id": "rJfasexPmD2w"
      },
      "source": [
        "File fiverr_data.csv disimpan di folder tmp jika menggunakan colab. Jika running notebook secara lokal gunakan direktori lokal."
      ]
    },
    {
      "cell_type": "code",
      "execution_count": 2,
      "metadata": {
        "id": "KDBXaJjmoCG5"
      },
      "outputs": [],
      "source": [
        "fiverr_scraped = pd.read_csv('/tmp/fiverr_data.csv', delimiter=',')"
      ]
    },
    {
      "attachments": {},
      "cell_type": "markdown",
      "metadata": {
        "id": "F74AQ6GRmUCO"
      },
      "source": [
        "regex digunakan untuk mengekstrak data negara asal ilustrator dan kecepatan respon. String yang di input ke `re.search()` memiliki bentuk umum seperti: FromPakistanMember sinceJul 2019Avg. response time1 hourLast deliveryabout 9 hoursLanguagesEnglish"
      ]
    },
    {
      "cell_type": "code",
      "execution_count": 3,
      "metadata": {
        "id": "4CHKfLKWotTW"
      },
      "outputs": [],
      "source": [
        "regex = r\"From(.*)Member.*time(\\d)\""
      ]
    },
    {
      "cell_type": "code",
      "execution_count": 30,
      "metadata": {
        "id": "2GiYyI9qVKHx"
      },
      "outputs": [],
      "source": [
        "illustrator_origins=[]\n",
        "illustrator_response_times=[]\n",
        "client_origins=[]\n",
        "client_names=[]"
      ]
    },
    {
      "attachments": {},
      "cell_type": "markdown",
      "metadata": {
        "id": "WE3ARImSoMgv"
      },
      "source": [
        "Sintaks dibawah ini adalah sintaks web scraping per halaman gig di Fiverr. HATI-HATI: jangan scraping lebih dari 5 URL per iterasi karena akan di blokir oleh Fiverr dan tidak bisa scraping lagi."
      ]
    },
    {
      "cell_type": "code",
      "execution_count": 31,
      "metadata": {
        "id": "T9PFEBoJoP1b"
      },
      "outputs": [],
      "source": [
        "for url in fiverr_scraped['gig_url'][:5]#masukkan index url (sekali scraping maksimal 5)\n",
        "    req = Request(url, None, headers={'User-Agent':'Safari/537.11'})\n",
        "    webpage = urlopen(req).read()\n",
        "    soup = BeautifulSoup(webpage, 'html.parser')\n",
        "    stats_containers = soup.find_all('div', class_='stats-desc')\n",
        "    review_containers = soup.find_all('ul', class_='review-list')\n",
        "    for stats_container in stats_containers:\n",
        "        illustrator_stat = stats_container.find('ul', class_='user-stats').text.strip()\n",
        "        result = re.search(regex,illustrator_stat)\n",
        "        illustrator_origin=result[1]\n",
        "        illustrator_response_time=result[2]\n",
        "        illustrator_origins.append(illustrator_origin)\n",
        "        illustrator_response_times.append(illustrator_response_time)\n",
        "    for review_container in review_containers:\n",
        "        country = review_container.find('div', class_='country-name tbody-6').text.strip()\n",
        "        client_name = review_container.find('span', class_='tbody-5 co-grey-1100 username').text.strip()\n",
        "    client_origins.append(country)\n",
        "    client_names.append(client_name)"
      ]
    },
    {
      "attachments": {},
      "cell_type": "markdown",
      "metadata": {
        "id": "iP5eXzyrm9qw"
      },
      "source": [
        "hasil scraping akan terlihat seperti berikut:  \n",
        "```\n",
        "['Pakistan', 'Bangladesh', 'India', 'Pakistan', 'Sri Lanka']\n",
        "['1', '1', '1', '1', '4']\n",
        "['stoxventures', 'lifehossain', 'stormproofrooof', 'remi_bgd', 'tribolumen']\n",
        "['Canada', 'Italy', 'United States', 'France', 'United States']\n",
        "```\n",
        "periksa setiap list. Semuanya harus memiliki panjang (`length`) yang sama\n"
      ]
    },
    {
      "cell_type": "code",
      "execution_count": null,
      "metadata": {
        "id": "slwPawLiShjX"
      },
      "outputs": [],
      "source": [
        "#periksa hasil scraping\n",
        "print(illustrator_origins)\n",
        "print(illustrator_response_times)\n",
        "print(client_names)\n",
        "print(client_origins)"
      ]
    },
    {
      "attachments": {},
      "cell_type": "markdown",
      "metadata": {
        "id": "k9p8b8hin3Zw"
      },
      "source": [
        "Simpan list dalam pandas dataframe"
      ]
    },
    {
      "cell_type": "code",
      "execution_count": 33,
      "metadata": {
        "id": "hJd_brX1SIUs"
      },
      "outputs": [],
      "source": [
        "fiverr_df = pd.DataFrame(list(zip(client_origins, client_names, illustrator_origins, illustrator_response_times)),\n",
        "                         columns = ['client_origins', 'client_names', 'illustrator_origins', 'illustrator_response_times'])"
      ]
    },
    {
      "attachments": {},
      "cell_type": "markdown",
      "metadata": {
        "id": "xwntuxXsoBS-"
      },
      "source": [
        "Simpan dataframe dalam file csv di dalam folder tmp (atau gunakan direktori lokal)"
      ]
    },
    {
      "cell_type": "code",
      "execution_count": 34,
      "metadata": {
        "id": "NYmFkegoRw8j"
      },
      "outputs": [],
      "source": [
        "fiverr_df.to_csv('/tmp/fiverr_df.csv')"
      ]
    },
    {
      "attachments": {},
      "cell_type": "markdown",
      "metadata": {},
      "source": [
        "Kalau mengerjakan di colab, download file fiverr_df.csv nya terus kirim ke aku. makasihh"
      ]
    }
  ],
  "metadata": {
    "colab": {
      "provenance": []
    },
    "kernelspec": {
      "display_name": "Python 3",
      "name": "python3"
    },
    "language_info": {
      "name": "python"
    }
  },
  "nbformat": 4,
  "nbformat_minor": 0
}
